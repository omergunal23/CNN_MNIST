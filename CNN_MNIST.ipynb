{
  "nbformat": 4,
  "nbformat_minor": 0,
  "metadata": {
    "colab": {
      "provenance": [],
      "gpuType": "T4",
      "authorship_tag": "ABX9TyMzSFcJK7de+nA4vYdTnvuo",
      "include_colab_link": true
    },
    "kernelspec": {
      "name": "python3",
      "display_name": "Python 3"
    },
    "language_info": {
      "name": "python"
    },
    "accelerator": "GPU"
  },
  "cells": [
    {
      "cell_type": "markdown",
      "metadata": {
        "id": "view-in-github",
        "colab_type": "text"
      },
      "source": [
        "<a href=\"https://colab.research.google.com/github/omergunal23/CNN_MNIST/blob/main/CNN_MNIST.ipynb\" target=\"_parent\"><img src=\"https://colab.research.google.com/assets/colab-badge.svg\" alt=\"Open In Colab\"/></a>"
      ]
    },
    {
      "cell_type": "code",
      "execution_count": null,
      "metadata": {
        "id": "0sX3KoFiM07g"
      },
      "outputs": [],
      "source": [
        "import tensorflow as tf\n",
        "from tensorflow.keras import layers, models\n",
        "import numpy as np\n",
        "import seaborn as sns\n",
        "import matplotlib.pyplot as plt\n",
        "import matplotlib.image as mpimg"
      ]
    },
    {
      "cell_type": "markdown",
      "source": [
        "Train-Test Split"
      ],
      "metadata": {
        "id": "DgZ2JiRXOs34"
      }
    },
    {
      "cell_type": "code",
      "source": [
        "# conv2D -> (# of samples, height, width, # of channels)\n",
        "# MNIST dataset -> (60000, 28, 28, 1) has to be done\n",
        "(x_train, y_train), (x_test, y_test) = tf.keras.datasets.mnist.load_data()\n",
        "\n",
        "# In gray-scale -> # of channels = 1 added as dimension to input data\n",
        "x_train= x_train.reshape(x_train.shape[0], x_train.shape[1], x_train.shape[2], 1)\n",
        "x_test = x_test.reshape(x_test.shape[0], x_test.shape[1], x_test.shape[2], 1)\n",
        "\n",
        "# Normalizing for less computations\n",
        "x_train=x_train / 255.0\n",
        "x_test=x_test/255.0"
      ],
      "metadata": {
        "id": "4cfNEW6cNIF4",
        "colab": {
          "base_uri": "https://localhost:8080/"
        },
        "outputId": "4a96ffd6-78b7-451e-b8c3-2d9adfed6a58"
      },
      "execution_count": null,
      "outputs": [
        {
          "output_type": "stream",
          "name": "stdout",
          "text": [
            "Downloading data from https://storage.googleapis.com/tensorflow/tf-keras-datasets/mnist.npz\n",
            "\u001b[1m11490434/11490434\u001b[0m \u001b[32m━━━━━━━━━━━━━━━━━━━━\u001b[0m\u001b[37m\u001b[0m \u001b[1m0s\u001b[0m 0us/step\n"
          ]
        }
      ]
    },
    {
      "cell_type": "code",
      "source": [
        "# Number Distribution\n",
        "unique, counts = np.unique(y_train, return_counts=True)\n",
        "\n",
        "for digit, count in zip(unique, counts):\n",
        "    print(f\"Number {digit}: {count} ({count/len(y_train):.2%})\")"
      ],
      "metadata": {
        "colab": {
          "base_uri": "https://localhost:8080/"
        },
        "id": "NzjHYLtCWexY",
        "outputId": "897350ae-6cfd-4dd3-e781-267086e47519"
      },
      "execution_count": null,
      "outputs": [
        {
          "output_type": "stream",
          "name": "stdout",
          "text": [
            "Number 0: 5923 (9.87%)\n",
            "Number 1: 6742 (11.24%)\n",
            "Number 2: 5958 (9.93%)\n",
            "Number 3: 6131 (10.22%)\n",
            "Number 4: 5842 (9.74%)\n",
            "Number 5: 5421 (9.04%)\n",
            "Number 6: 5918 (9.86%)\n",
            "Number 7: 6265 (10.44%)\n",
            "Number 8: 5851 (9.75%)\n",
            "Number 9: 5949 (9.92%)\n"
          ]
        }
      ]
    },
    {
      "cell_type": "code",
      "source": [
        "plt.imshow(x_train[1000][:,:,0], cmap='gray')"
      ],
      "metadata": {
        "colab": {
          "base_uri": "https://localhost:8080/",
          "height": 447
        },
        "id": "pxEghRwxRECH",
        "outputId": "c65fce2c-f6c5-40df-a40c-5baefe40c87e"
      },
      "execution_count": null,
      "outputs": [
        {
          "output_type": "execute_result",
          "data": {
            "text/plain": [
              "<matplotlib.image.AxesImage at 0x7abf7a6ca110>"
            ]
          },
          "metadata": {},
          "execution_count": 35
        },
        {
          "output_type": "display_data",
          "data": {
            "text/plain": [
              "<Figure size 640x480 with 1 Axes>"
            ],
            "image/png": "[encoded data removed]"
          },
          "metadata": {}
        }
      ]
    },
    {
      "cell_type": "markdown",
      "source": [
        "Baseline CNN Architecture"
      ],
      "metadata": {
        "id": "pEtLg0ElVYau"
      }
    },
    {
      "cell_type": "code",
      "source": [
        "# padding = 'same' -> input size is remained same by padding\n",
        "# layers.Conv2D(# of kernels, kernel size nxn, ...)\n",
        "# layers.MaxPooling2D(2) -> 2x2 pooling\n",
        "# Flatten vectorizes for FULLY connected layers input-> (height, width, channels) → (height × width × channels)\n",
        "# layers.Dense() -> 3136 ips → 64 ops neuron,  3136 × 64 weights and 64 bias are learned\n",
        "\n",
        "model = models.Sequential([\n",
        "    layers.Conv2D(32, 3, padding='same', activation='relu',input_shape=(28,28,1)),\n",
        "    layers.MaxPooling2D(2),\n",
        "    layers.Conv2D(64, 3, padding='same', activation='relu'),\n",
        "    layers.MaxPooling2D(2),\n",
        "    layers.Flatten(),\n",
        "    layers.Dense(64, activation='relu'),\n",
        "    layers.Dropout(0.5),\n",
        "    # The reason why softmax activation function iis used at the end of conv. layer:\n",
        "    # 1) All possibilities (ops) sum up to 1, 2) negative outpust are take in account instead of making them all 0s.\n",
        "    layers.Dense(10, activation='softmax'), # 10 output class\n",
        "])"
      ],
      "metadata": {
        "id": "g3j7CVIfVMmw"
      },
      "execution_count": null,
      "outputs": []
    },
    {
      "cell_type": "code",
      "source": [
        "model.summary()"
      ],
      "metadata": {
        "colab": {
          "base_uri": "https://localhost:8080/",
          "height": 385
        },
        "id": "FTTB4r-8ajWK",
        "outputId": "b1063b2e-9f97-4a7b-e39e-8ddcc4bfed2c"
      },
      "execution_count": null,
      "outputs": [
        {
          "output_type": "display_data",
          "data": {
            "text/plain": [
              "\u001b[1mModel: \"sequential_4\"\u001b[0m\n"
            ],
            "text/html": [
              "<pre style=\"white-space:pre;overflow-x:auto;line-height:normal;font-family:Menlo,'DejaVu Sans Mono',consolas,'Courier New',monospace\"><span style=\"font-weight: bold\">Model: \"sequential_4\"</span>\n",
              "</pre>\n"
            ]
          },
          "metadata": {}
        },
        {
          "output_type": "display_data",
          "data": {
            "text/plain": [
              "┏━━━━━━━━━━━━━━━━━━━━━━━━━━━━━━━━━┳━━━━━━━━━━━━━━━━━━━━━━━━┳━━━━━━━━━━━━━━━┓\n",
              "┃\u001b[1m \u001b[0m\u001b[1mLayer (type)                   \u001b[0m\u001b[1m \u001b[0m┃\u001b[1m \u001b[0m\u001b[1mOutput Shape          \u001b[0m\u001b[1m \u001b[0m┃\u001b[1m \u001b[0m\u001b[1m      Param #\u001b[0m\u001b[1m \u001b[0m┃\n",
              "┡━━━━━━━━━━━━━━━━━━━━━━━━━━━━━━━━━╇━━━━━━━━━━━━━━━━━━━━━━━━╇━━━━━━━━━━━━━━━┩\n",
              "│ conv2d_4 (\u001b[38;5;33mConv2D\u001b[0m)               │ (\u001b[38;5;45mNone\u001b[0m, \u001b[38;5;34m28\u001b[0m, \u001b[38;5;34m28\u001b[0m, \u001b[38;5;34m32\u001b[0m)     │           \u001b[38;5;34m320\u001b[0m │\n",
              "├─────────────────────────────────┼────────────────────────┼───────────────┤\n",
              "│ max_pooling2d_4 (\u001b[38;5;33mMaxPooling2D\u001b[0m)  │ (\u001b[38;5;45mNone\u001b[0m, \u001b[38;5;34m14\u001b[0m, \u001b[38;5;34m14\u001b[0m, \u001b[38;5;34m32\u001b[0m)     │             \u001b[38;5;34m0\u001b[0m │\n",
              "├─────────────────────────────────┼────────────────────────┼───────────────┤\n",
              "│ conv2d_5 (\u001b[38;5;33mConv2D\u001b[0m)               │ (\u001b[38;5;45mNone\u001b[0m, \u001b[38;5;34m14\u001b[0m, \u001b[38;5;34m14\u001b[0m, \u001b[38;5;34m64\u001b[0m)     │        \u001b[38;5;34m18,496\u001b[0m │\n",
              "├─────────────────────────────────┼────────────────────────┼───────────────┤\n",
              "│ max_pooling2d_5 (\u001b[38;5;33mMaxPooling2D\u001b[0m)  │ (\u001b[38;5;45mNone\u001b[0m, \u001b[38;5;34m7\u001b[0m, \u001b[38;5;34m7\u001b[0m, \u001b[38;5;34m64\u001b[0m)       │             \u001b[38;5;34m0\u001b[0m │\n",
              "├─────────────────────────────────┼────────────────────────┼───────────────┤\n",
              "│ flatten_4 (\u001b[38;5;33mFlatten\u001b[0m)             │ (\u001b[38;5;45mNone\u001b[0m, \u001b[38;5;34m3136\u001b[0m)           │             \u001b[38;5;34m0\u001b[0m │\n",
              "├─────────────────────────────────┼────────────────────────┼───────────────┤\n",
              "│ dense_8 (\u001b[38;5;33mDense\u001b[0m)                 │ (\u001b[38;5;45mNone\u001b[0m, \u001b[38;5;34m64\u001b[0m)             │       \u001b[38;5;34m200,768\u001b[0m │\n",
              "├─────────────────────────────────┼────────────────────────┼───────────────┤\n",
              "│ dropout_4 (\u001b[38;5;33mDropout\u001b[0m)             │ (\u001b[38;5;45mNone\u001b[0m, \u001b[38;5;34m64\u001b[0m)             │             \u001b[38;5;34m0\u001b[0m │\n",
              "├─────────────────────────────────┼────────────────────────┼───────────────┤\n",
              "│ dense_9 (\u001b[38;5;33mDense\u001b[0m)                 │ (\u001b[38;5;45mNone\u001b[0m, \u001b[38;5;34m10\u001b[0m)             │           \u001b[38;5;34m650\u001b[0m │\n",
              "└─────────────────────────────────┴────────────────────────┴───────────────┘\n"
            ],
            "text/html": [
              "<pre style=\"white-space:pre;overflow-x:auto;line-height:normal;font-family:Menlo,'DejaVu Sans Mono',consolas,'Courier New',monospace\">┏━━━━━━━━━━━━━━━━━━━━━━━━━━━━━━━━━┳━━━━━━━━━━━━━━━━━━━━━━━━┳━━━━━━━━━━━━━━━┓\n",
              "┃<span style=\"font-weight: bold\"> Layer (type)                    </span>┃<span style=\"font-weight: bold\"> Output Shape           </span>┃<span style=\"font-weight: bold\">       Param # </span>┃\n",
              "┡━━━━━━━━━━━━━━━━━━━━━━━━━━━━━━━━━╇━━━━━━━━━━━━━━━━━━━━━━━━╇━━━━━━━━━━━━━━━┩\n",
              "│ conv2d_4 (<span style=\"color: #0087ff; text-decoration-color: #0087ff\">Conv2D</span>)               │ (<span style=\"color: #00d7ff; text-decoration-color: #00d7ff\">None</span>, <span style=\"color: #00af00; text-decoration-color: #00af00\">28</span>, <span style=\"color: #00af00; text-decoration-color: #00af00\">28</span>, <span style=\"color: #00af00; text-decoration-color: #00af00\">32</span>)     │           <span style=\"color: #00af00; text-decoration-color: #00af00\">320</span> │\n",
              "├─────────────────────────────────┼────────────────────────┼───────────────┤\n",
              "│ max_pooling2d_4 (<span style=\"color: #0087ff; text-decoration-color: #0087ff\">MaxPooling2D</span>)  │ (<span style=\"color: #00d7ff; text-decoration-color: #00d7ff\">None</span>, <span style=\"color: #00af00; text-decoration-color: #00af00\">14</span>, <span style=\"color: #00af00; text-decoration-color: #00af00\">14</span>, <span style=\"color: #00af00; text-decoration-color: #00af00\">32</span>)     │             <span style=\"color: #00af00; text-decoration-color: #00af00\">0</span> │\n",
              "├─────────────────────────────────┼────────────────────────┼───────────────┤\n",
              "│ conv2d_5 (<span style=\"color: #0087ff; text-decoration-color: #0087ff\">Conv2D</span>)               │ (<span style=\"color: #00d7ff; text-decoration-color: #00d7ff\">None</span>, <span style=\"color: #00af00; text-decoration-color: #00af00\">14</span>, <span style=\"color: #00af00; text-decoration-color: #00af00\">14</span>, <span style=\"color: #00af00; text-decoration-color: #00af00\">64</span>)     │        <span style=\"color: #00af00; text-decoration-color: #00af00\">18,496</span> │\n",
              "├─────────────────────────────────┼────────────────────────┼───────────────┤\n",
              "│ max_pooling2d_5 (<span style=\"color: #0087ff; text-decoration-color: #0087ff\">MaxPooling2D</span>)  │ (<span style=\"color: #00d7ff; text-decoration-color: #00d7ff\">None</span>, <span style=\"color: #00af00; text-decoration-color: #00af00\">7</span>, <span style=\"color: #00af00; text-decoration-color: #00af00\">7</span>, <span style=\"color: #00af00; text-decoration-color: #00af00\">64</span>)       │             <span style=\"color: #00af00; text-decoration-color: #00af00\">0</span> │\n",
              "├─────────────────────────────────┼────────────────────────┼───────────────┤\n",
              "│ flatten_4 (<span style=\"color: #0087ff; text-decoration-color: #0087ff\">Flatten</span>)             │ (<span style=\"color: #00d7ff; text-decoration-color: #00d7ff\">None</span>, <span style=\"color: #00af00; text-decoration-color: #00af00\">3136</span>)           │             <span style=\"color: #00af00; text-decoration-color: #00af00\">0</span> │\n",
              "├─────────────────────────────────┼────────────────────────┼───────────────┤\n",
              "│ dense_8 (<span style=\"color: #0087ff; text-decoration-color: #0087ff\">Dense</span>)                 │ (<span style=\"color: #00d7ff; text-decoration-color: #00d7ff\">None</span>, <span style=\"color: #00af00; text-decoration-color: #00af00\">64</span>)             │       <span style=\"color: #00af00; text-decoration-color: #00af00\">200,768</span> │\n",
              "├─────────────────────────────────┼────────────────────────┼───────────────┤\n",
              "│ dropout_4 (<span style=\"color: #0087ff; text-decoration-color: #0087ff\">Dropout</span>)             │ (<span style=\"color: #00d7ff; text-decoration-color: #00d7ff\">None</span>, <span style=\"color: #00af00; text-decoration-color: #00af00\">64</span>)             │             <span style=\"color: #00af00; text-decoration-color: #00af00\">0</span> │\n",
              "├─────────────────────────────────┼────────────────────────┼───────────────┤\n",
              "│ dense_9 (<span style=\"color: #0087ff; text-decoration-color: #0087ff\">Dense</span>)                 │ (<span style=\"color: #00d7ff; text-decoration-color: #00d7ff\">None</span>, <span style=\"color: #00af00; text-decoration-color: #00af00\">10</span>)             │           <span style=\"color: #00af00; text-decoration-color: #00af00\">650</span> │\n",
              "└─────────────────────────────────┴────────────────────────┴───────────────┘\n",
              "</pre>\n"
            ]
          },
          "metadata": {}
        },
        {
          "output_type": "display_data",
          "data": {
            "text/plain": [
              "\u001b[1m Total params: \u001b[0m\u001b[38;5;34m220,234\u001b[0m (860.29 KB)\n"
            ],
            "text/html": [
              "<pre style=\"white-space:pre;overflow-x:auto;line-height:normal;font-family:Menlo,'DejaVu Sans Mono',consolas,'Courier New',monospace\"><span style=\"font-weight: bold\"> Total params: </span><span style=\"color: #00af00; text-decoration-color: #00af00\">220,234</span> (860.29 KB)\n",
              "</pre>\n"
            ]
          },
          "metadata": {}
        },
        {
          "output_type": "display_data",
          "data": {
            "text/plain": [
              "\u001b[1m Trainable params: \u001b[0m\u001b[38;5;34m220,234\u001b[0m (860.29 KB)\n"
            ],
            "text/html": [
              "<pre style=\"white-space:pre;overflow-x:auto;line-height:normal;font-family:Menlo,'DejaVu Sans Mono',consolas,'Courier New',monospace\"><span style=\"font-weight: bold\"> Trainable params: </span><span style=\"color: #00af00; text-decoration-color: #00af00\">220,234</span> (860.29 KB)\n",
              "</pre>\n"
            ]
          },
          "metadata": {}
        },
        {
          "output_type": "display_data",
          "data": {
            "text/plain": [
              "\u001b[1m Non-trainable params: \u001b[0m\u001b[38;5;34m0\u001b[0m (0.00 B)\n"
            ],
            "text/html": [
              "<pre style=\"white-space:pre;overflow-x:auto;line-height:normal;font-family:Menlo,'DejaVu Sans Mono',consolas,'Courier New',monospace\"><span style=\"font-weight: bold\"> Non-trainable params: </span><span style=\"color: #00af00; text-decoration-color: #00af00\">0</span> (0.00 B)\n",
              "</pre>\n"
            ]
          },
          "metadata": {}
        }
      ]
    },
    {
      "cell_type": "markdown",
      "source": [
        "Training"
      ],
      "metadata": {
        "id": "I3VuJ59sme7S"
      }
    },
    {
      "cell_type": "code",
      "source": [
        "model.compile(\n",
        "    optimizer='adam',\n",
        "    loss='sparse_categorical_crossentropy',\n",
        "    metrics=['accuracy']\n",
        ")\n",
        "\n",
        "history = model.fit(\n",
        "    x_train, y_train,\n",
        "    batch_size=64,\n",
        "    epochs=10,\n",
        "    validation_split=0.2,\n",
        "    verbose=2\n",
        ")"
      ],
      "metadata": {
        "colab": {
          "base_uri": "https://localhost:8080/"
        },
        "id": "-HnfQw9Ran0V",
        "outputId": "91ea9fb3-fa4b-4259-b9b8-dd6844b27137"
      },
      "execution_count": null,
      "outputs": [
        {
          "output_type": "stream",
          "name": "stdout",
          "text": [
            "Epoch 1/10\n",
            "750/750 - 66s - 88ms/step - accuracy: 0.8878 - loss: 0.3584 - val_accuracy: 0.9781 - val_loss: 0.0700\n",
            "Epoch 2/10\n",
            "750/750 - 69s - 92ms/step - accuracy: 0.9567 - loss: 0.1444 - val_accuracy: 0.9840 - val_loss: 0.0529\n",
            "Epoch 3/10\n",
            "750/750 - 68s - 90ms/step - accuracy: 0.9682 - loss: 0.1070 - val_accuracy: 0.9860 - val_loss: 0.0432\n",
            "Epoch 4/10\n",
            "750/750 - 70s - 93ms/step - accuracy: 0.9726 - loss: 0.0922 - val_accuracy: 0.9886 - val_loss: 0.0372\n",
            "Epoch 5/10\n",
            "750/750 - 76s - 101ms/step - accuracy: 0.9751 - loss: 0.0801 - val_accuracy: 0.9883 - val_loss: 0.0394\n",
            "Epoch 6/10\n",
            "750/750 - 85s - 114ms/step - accuracy: 0.9772 - loss: 0.0724 - val_accuracy: 0.9898 - val_loss: 0.0378\n",
            "Epoch 7/10\n",
            "750/750 - 84s - 112ms/step - accuracy: 0.9809 - loss: 0.0598 - val_accuracy: 0.9908 - val_loss: 0.0346\n",
            "Epoch 8/10\n",
            "750/750 - 54s - 72ms/step - accuracy: 0.9829 - loss: 0.0542 - val_accuracy: 0.9892 - val_loss: 0.0403\n",
            "Epoch 9/10\n",
            "750/750 - 79s - 106ms/step - accuracy: 0.9836 - loss: 0.0504 - val_accuracy: 0.9915 - val_loss: 0.0351\n",
            "Epoch 10/10\n",
            "750/750 - 84s - 112ms/step - accuracy: 0.9846 - loss: 0.0459 - val_accuracy: 0.9905 - val_loss: 0.0354\n"
          ]
        }
      ]
    },
    {
      "cell_type": "code",
      "source": [
        "plt.figure()\n",
        "plt.plot(history.history['loss'], label='Train Loss')\n",
        "plt.plot(history.history['val_loss'], label='Val Loss')\n",
        "plt.xlabel('Epoch'); plt.ylabel('Loss'); plt.legend()\n",
        "plt.title('Loss vs. Epoch')\n",
        "plt.show()\n",
        "\n",
        "plt.figure()\n",
        "plt.plot(history.history['accuracy'], label='Train Acc')\n",
        "plt.plot(history.history['val_accuracy'], label='Val Acc')\n",
        "plt.xlabel('Epoch'); plt.ylabel('Accuracy'); plt.legend()\n",
        "plt.title('Accuracy vs. Epoch')\n",
        "plt.show()"
      ],
      "metadata": {
        "colab": {
          "base_uri": "https://localhost:8080/",
          "height": 927
        },
        "id": "tcKBJ2RPm8MC",
        "outputId": "0b90a2ab-de72-4709-e2f1-93a15c8ed4ca"
      },
      "execution_count": null,
      "outputs": [
        {
          "output_type": "display_data",
          "data": {
            "text/plain": [
              "<Figure size 640x480 with 1 Axes>"
            ],
            "image/png": "[encoded data removed]"
          },
          "metadata": {}
        },
        {
          "output_type": "display_data",
          "data": {
            "text/plain": [
              "<Figure size 640x480 with 1 Axes>"
            ],
            "image/png": "[encoded data removed]"
          },
          "metadata": {}
        }
      ]
    },
    {
      "cell_type": "markdown",
      "source": [
        "Testing"
      ],
      "metadata": {
        "id": "0gzYe7LK7Jy3"
      }
    },
    {
      "cell_type": "code",
      "source": [
        "test_loss, test_acc = model.evaluate(x_test, y_test)"
      ],
      "metadata": {
        "colab": {
          "base_uri": "https://localhost:8080/"
        },
        "id": "EFQzUuJX7I7g",
        "outputId": "876b239d-ee99-4042-f5e2-7c62869b0775"
      },
      "execution_count": null,
      "outputs": [
        {
          "output_type": "stream",
          "name": "stdout",
          "text": [
            "\u001b[1m313/313\u001b[0m \u001b[32m━━━━━━━━━━━━━━━━━━━━\u001b[0m\u001b[37m\u001b[0m \u001b[1m3s\u001b[0m 10ms/step - accuracy: 0.9902 - loss: 0.0303\n"
          ]
        }
      ]
    },
    {
      "cell_type": "code",
      "source": [
        "Y_pred = model.predict(x_test)\n",
        "Y_pred_classes = np.argmax(Y_pred, axis=1)\n",
        "Y_true = y_test\n",
        "\n",
        "# Confusion Matrix\n",
        "confusion_mtx = tf.math.confusion_matrix(Y_true, Y_pred_classes)\n",
        "\n",
        "\n",
        "plt.figure(figsize=(10, 8))\n",
        "sns.heatmap(confusion_mtx, annot=True, fmt='g', cmap='Blues')\n",
        "plt.xlabel(\"Predicted Label\")\n",
        "plt.ylabel(\"True Label\")\n",
        "plt.title(\"Confusion Matrix\")\n",
        "plt.show()"
      ],
      "metadata": {
        "colab": {
          "base_uri": "https://localhost:8080/",
          "height": 736
        },
        "id": "GPjdViD27ePp",
        "outputId": "463f3fa0-06b7-46fe-f13c-5eafb1788211"
      },
      "execution_count": null,
      "outputs": [
        {
          "output_type": "stream",
          "name": "stdout",
          "text": [
            "\u001b[1m313/313\u001b[0m \u001b[32m━━━━━━━━━━━━━━━━━━━━\u001b[0m\u001b[37m\u001b[0m \u001b[1m3s\u001b[0m 9ms/step\n"
          ]
        },
        {
          "output_type": "display_data",
          "data": {
            "text/plain": [
              "<Figure size 1000x800 with 2 Axes>"
            ],
            "image/png": "[encoded data removed]"
          },
          "metadata": {}
        }
      ]
    },
    {
      "cell_type": "markdown",
      "source": [
        "CNN Model-1"
      ],
      "metadata": {
        "id": "jsxoCaBeot-m"
      }
    },
    {
      "cell_type": "code",
      "source": [
        "# CNN Model-1\n",
        "\n",
        "# CNN Model-1 : trying with best paramters\n",
        "# (+1 Conv2D layer  , 5x5 kernel  , LeakyReLU, GlobalAveragePooling)\n",
        "\n",
        "model1 = models.Sequential([\n",
        "    layers.Conv2D(32, 5, padding='same', activation='leaky_relu',input_shape=(28,28,1)),\n",
        "    layers.Conv2D(32, 5, padding='same', activation='leaky_relu'),\n",
        "    layers.AvgPool2D(2),\n",
        "    layers.Conv2D(64, 5, padding='same', activation='leaky_relu'),\n",
        "    layers.AvgPool2D(2),\n",
        "    layers.Flatten(),\n",
        "    layers.Dense(64, activation='relu'),\n",
        "    layers.Dropout(0.5),\n",
        "    layers.Dense(10, activation='softmax'),\n",
        "])\n",
        "\n",
        "model1.summary()\n",
        "\n",
        "model1.compile(\n",
        "    optimizer='adam',\n",
        "    loss='sparse_categorical_crossentropy',\n",
        "    metrics=['accuracy']\n",
        ")\n",
        "\n",
        "history = model1.fit(\n",
        "    x_train, y_train,\n",
        "    batch_size=64,\n",
        "    epochs=10,\n",
        "    validation_split=0.2,\n",
        "    verbose=2\n",
        ")\n",
        "\n",
        "plt.figure()\n",
        "plt.plot(history.history['loss'], label='Train Loss')\n",
        "plt.plot(history.history['val_loss'], label='Val Loss')\n",
        "plt.xlabel('Epoch'); plt.ylabel('Loss'); plt.legend()\n",
        "plt.title('Loss vs. Epoch')\n",
        "plt.show()\n",
        "\n",
        "plt.figure()\n",
        "plt.plot(history.history['accuracy'], label='Train Acc')\n",
        "plt.plot(history.history['val_accuracy'], label='Val Acc')\n",
        "plt.xlabel('Epoch'); plt.ylabel('Accuracy'); plt.legend()\n",
        "plt.title('Accuracy vs. Epoch')\n",
        "plt.show()\n"
      ],
      "metadata": {
        "id": "giPKdnN0nBdA",
        "colab": {
          "base_uri": "https://localhost:8080/",
          "height": 1000
        },
        "outputId": "1cf53b64-207e-4517-c3fb-296a92a359e5"
      },
      "execution_count": null,
      "outputs": [
        {
          "output_type": "stream",
          "name": "stderr",
          "text": [
            "/usr/local/lib/python3.11/dist-packages/keras/src/layers/convolutional/base_conv.py:107: UserWarning: Do not pass an `input_shape`/`input_dim` argument to a layer. When using Sequential models, prefer using an `Input(shape)` object as the first layer in the model instead.\n",
            "  super().__init__(activity_regularizer=activity_regularizer, **kwargs)\n"
          ]
        },
        {
          "output_type": "display_data",
          "data": {
            "text/plain": [
              "\u001b[1mModel: \"sequential\"\u001b[0m\n"
            ],
            "text/html": [
              "<pre style=\"white-space:pre;overflow-x:auto;line-height:normal;font-family:Menlo,'DejaVu Sans Mono',consolas,'Courier New',monospace\"><span style=\"font-weight: bold\">Model: \"sequential\"</span>\n",
              "</pre>\n"
            ]
          },
          "metadata": {}
        },
        {
          "output_type": "display_data",
          "data": {
            "text/plain": [
              "┏━━━━━━━━━━━━━━━━━━━━━━━━━━━━━━━━━┳━━━━━━━━━━━━━━━━━━━━━━━━┳━━━━━━━━━━━━━━━┓\n",
              "┃\u001b[1m \u001b[0m\u001b[1mLayer (type)                   \u001b[0m\u001b[1m \u001b[0m┃\u001b[1m \u001b[0m\u001b[1mOutput Shape          \u001b[0m\u001b[1m \u001b[0m┃\u001b[1m \u001b[0m\u001b[1m      Param #\u001b[0m\u001b[1m \u001b[0m┃\n",
              "┡━━━━━━━━━━━━━━━━━━━━━━━━━━━━━━━━━╇━━━━━━━━━━━━━━━━━━━━━━━━╇━━━━━━━━━━━━━━━┩\n",
              "│ conv2d (\u001b[38;5;33mConv2D\u001b[0m)                 │ (\u001b[38;5;45mNone\u001b[0m, \u001b[38;5;34m28\u001b[0m, \u001b[38;5;34m28\u001b[0m, \u001b[38;5;34m32\u001b[0m)     │           \u001b[38;5;34m832\u001b[0m │\n",
              "├─────────────────────────────────┼────────────────────────┼───────────────┤\n",
              "│ conv2d_1 (\u001b[38;5;33mConv2D\u001b[0m)               │ (\u001b[38;5;45mNone\u001b[0m, \u001b[38;5;34m28\u001b[0m, \u001b[38;5;34m28\u001b[0m, \u001b[38;5;34m32\u001b[0m)     │        \u001b[38;5;34m25,632\u001b[0m │\n",
              "├─────────────────────────────────┼────────────────────────┼───────────────┤\n",
              "│ average_pooling2d               │ (\u001b[38;5;45mNone\u001b[0m, \u001b[38;5;34m14\u001b[0m, \u001b[38;5;34m14\u001b[0m, \u001b[38;5;34m32\u001b[0m)     │             \u001b[38;5;34m0\u001b[0m │\n",
              "│ (\u001b[38;5;33mAveragePooling2D\u001b[0m)              │                        │               │\n",
              "├─────────────────────────────────┼────────────────────────┼───────────────┤\n",
              "│ conv2d_2 (\u001b[38;5;33mConv2D\u001b[0m)               │ (\u001b[38;5;45mNone\u001b[0m, \u001b[38;5;34m14\u001b[0m, \u001b[38;5;34m14\u001b[0m, \u001b[38;5;34m64\u001b[0m)     │        \u001b[38;5;34m51,264\u001b[0m │\n",
              "├─────────────────────────────────┼────────────────────────┼───────────────┤\n",
              "│ average_pooling2d_1             │ (\u001b[38;5;45mNone\u001b[0m, \u001b[38;5;34m7\u001b[0m, \u001b[38;5;34m7\u001b[0m, \u001b[38;5;34m64\u001b[0m)       │             \u001b[38;5;34m0\u001b[0m │\n",
              "│ (\u001b[38;5;33mAveragePooling2D\u001b[0m)              │                        │               │\n",
              "├─────────────────────────────────┼────────────────────────┼───────────────┤\n",
              "│ flatten (\u001b[38;5;33mFlatten\u001b[0m)               │ (\u001b[38;5;45mNone\u001b[0m, \u001b[38;5;34m3136\u001b[0m)           │             \u001b[38;5;34m0\u001b[0m │\n",
              "├─────────────────────────────────┼────────────────────────┼───────────────┤\n",
              "│ dense (\u001b[38;5;33mDense\u001b[0m)                   │ (\u001b[38;5;45mNone\u001b[0m, \u001b[38;5;34m64\u001b[0m)             │       \u001b[38;5;34m200,768\u001b[0m │\n",
              "├─────────────────────────────────┼────────────────────────┼───────────────┤\n",
              "│ dropout (\u001b[38;5;33mDropout\u001b[0m)               │ (\u001b[38;5;45mNone\u001b[0m, \u001b[38;5;34m64\u001b[0m)             │             \u001b[38;5;34m0\u001b[0m │\n",
              "├─────────────────────────────────┼────────────────────────┼───────────────┤\n",
              "│ dense_1 (\u001b[38;5;33mDense\u001b[0m)                 │ (\u001b[38;5;45mNone\u001b[0m, \u001b[38;5;34m10\u001b[0m)             │           \u001b[38;5;34m650\u001b[0m │\n",
              "└─────────────────────────────────┴────────────────────────┴───────────────┘\n"
            ],
            "text/html": [
              "<pre style=\"white-space:pre;overflow-x:auto;line-height:normal;font-family:Menlo,'DejaVu Sans Mono',consolas,'Courier New',monospace\">┏━━━━━━━━━━━━━━━━━━━━━━━━━━━━━━━━━┳━━━━━━━━━━━━━━━━━━━━━━━━┳━━━━━━━━━━━━━━━┓\n",
              "┃<span style=\"font-weight: bold\"> Layer (type)                    </span>┃<span style=\"font-weight: bold\"> Output Shape           </span>┃<span style=\"font-weight: bold\">       Param # </span>┃\n",
              "┡━━━━━━━━━━━━━━━━━━━━━━━━━━━━━━━━━╇━━━━━━━━━━━━━━━━━━━━━━━━╇━━━━━━━━━━━━━━━┩\n",
              "│ conv2d (<span style=\"color: #0087ff; text-decoration-color: #0087ff\">Conv2D</span>)                 │ (<span style=\"color: #00d7ff; text-decoration-color: #00d7ff\">None</span>, <span style=\"color: #00af00; text-decoration-color: #00af00\">28</span>, <span style=\"color: #00af00; text-decoration-color: #00af00\">28</span>, <span style=\"color: #00af00; text-decoration-color: #00af00\">32</span>)     │           <span style=\"color: #00af00; text-decoration-color: #00af00\">832</span> │\n",
              "├─────────────────────────────────┼────────────────────────┼───────────────┤\n",
              "│ conv2d_1 (<span style=\"color: #0087ff; text-decoration-color: #0087ff\">Conv2D</span>)               │ (<span style=\"color: #00d7ff; text-decoration-color: #00d7ff\">None</span>, <span style=\"color: #00af00; text-decoration-color: #00af00\">28</span>, <span style=\"color: #00af00; text-decoration-color: #00af00\">28</span>, <span style=\"color: #00af00; text-decoration-color: #00af00\">32</span>)     │        <span style=\"color: #00af00; text-decoration-color: #00af00\">25,632</span> │\n",
              "├─────────────────────────────────┼────────────────────────┼───────────────┤\n",
              "│ average_pooling2d               │ (<span style=\"color: #00d7ff; text-decoration-color: #00d7ff\">None</span>, <span style=\"color: #00af00; text-decoration-color: #00af00\">14</span>, <span style=\"color: #00af00; text-decoration-color: #00af00\">14</span>, <span style=\"color: #00af00; text-decoration-color: #00af00\">32</span>)     │             <span style=\"color: #00af00; text-decoration-color: #00af00\">0</span> │\n",
              "│ (<span style=\"color: #0087ff; text-decoration-color: #0087ff\">AveragePooling2D</span>)              │                        │               │\n",
              "├─────────────────────────────────┼────────────────────────┼───────────────┤\n",
              "│ conv2d_2 (<span style=\"color: #0087ff; text-decoration-color: #0087ff\">Conv2D</span>)               │ (<span style=\"color: #00d7ff; text-decoration-color: #00d7ff\">None</span>, <span style=\"color: #00af00; text-decoration-color: #00af00\">14</span>, <span style=\"color: #00af00; text-decoration-color: #00af00\">14</span>, <span style=\"color: #00af00; text-decoration-color: #00af00\">64</span>)     │        <span style=\"color: #00af00; text-decoration-color: #00af00\">51,264</span> │\n",
              "├─────────────────────────────────┼────────────────────────┼───────────────┤\n",
              "│ average_pooling2d_1             │ (<span style=\"color: #00d7ff; text-decoration-color: #00d7ff\">None</span>, <span style=\"color: #00af00; text-decoration-color: #00af00\">7</span>, <span style=\"color: #00af00; text-decoration-color: #00af00\">7</span>, <span style=\"color: #00af00; text-decoration-color: #00af00\">64</span>)       │             <span style=\"color: #00af00; text-decoration-color: #00af00\">0</span> │\n",
              "│ (<span style=\"color: #0087ff; text-decoration-color: #0087ff\">AveragePooling2D</span>)              │                        │               │\n",
              "├─────────────────────────────────┼────────────────────────┼───────────────┤\n",
              "│ flatten (<span style=\"color: #0087ff; text-decoration-color: #0087ff\">Flatten</span>)               │ (<span style=\"color: #00d7ff; text-decoration-color: #00d7ff\">None</span>, <span style=\"color: #00af00; text-decoration-color: #00af00\">3136</span>)           │             <span style=\"color: #00af00; text-decoration-color: #00af00\">0</span> │\n",
              "├─────────────────────────────────┼────────────────────────┼───────────────┤\n",
              "│ dense (<span style=\"color: #0087ff; text-decoration-color: #0087ff\">Dense</span>)                   │ (<span style=\"color: #00d7ff; text-decoration-color: #00d7ff\">None</span>, <span style=\"color: #00af00; text-decoration-color: #00af00\">64</span>)             │       <span style=\"color: #00af00; text-decoration-color: #00af00\">200,768</span> │\n",
              "├─────────────────────────────────┼────────────────────────┼───────────────┤\n",
              "│ dropout (<span style=\"color: #0087ff; text-decoration-color: #0087ff\">Dropout</span>)               │ (<span style=\"color: #00d7ff; text-decoration-color: #00d7ff\">None</span>, <span style=\"color: #00af00; text-decoration-color: #00af00\">64</span>)             │             <span style=\"color: #00af00; text-decoration-color: #00af00\">0</span> │\n",
              "├─────────────────────────────────┼────────────────────────┼───────────────┤\n",
              "│ dense_1 (<span style=\"color: #0087ff; text-decoration-color: #0087ff\">Dense</span>)                 │ (<span style=\"color: #00d7ff; text-decoration-color: #00d7ff\">None</span>, <span style=\"color: #00af00; text-decoration-color: #00af00\">10</span>)             │           <span style=\"color: #00af00; text-decoration-color: #00af00\">650</span> │\n",
              "└─────────────────────────────────┴────────────────────────┴───────────────┘\n",
              "</pre>\n"
            ]
          },
          "metadata": {}
        },
        {
          "output_type": "display_data",
          "data": {
            "text/plain": [
              "\u001b[1m Total params: \u001b[0m\u001b[38;5;34m279,146\u001b[0m (1.06 MB)\n"
            ],
            "text/html": [
              "<pre style=\"white-space:pre;overflow-x:auto;line-height:normal;font-family:Menlo,'DejaVu Sans Mono',consolas,'Courier New',monospace\"><span style=\"font-weight: bold\"> Total params: </span><span style=\"color: #00af00; text-decoration-color: #00af00\">279,146</span> (1.06 MB)\n",
              "</pre>\n"
            ]
          },
          "metadata": {}
        },
        {
          "output_type": "display_data",
          "data": {
            "text/plain": [
              "\u001b[1m Trainable params: \u001b[0m\u001b[38;5;34m279,146\u001b[0m (1.06 MB)\n"
            ],
            "text/html": [
              "<pre style=\"white-space:pre;overflow-x:auto;line-height:normal;font-family:Menlo,'DejaVu Sans Mono',consolas,'Courier New',monospace\"><span style=\"font-weight: bold\"> Trainable params: </span><span style=\"color: #00af00; text-decoration-color: #00af00\">279,146</span> (1.06 MB)\n",
              "</pre>\n"
            ]
          },
          "metadata": {}
        },
        {
          "output_type": "display_data",
          "data": {
            "text/plain": [
              "\u001b[1m Non-trainable params: \u001b[0m\u001b[38;5;34m0\u001b[0m (0.00 B)\n"
            ],
            "text/html": [
              "<pre style=\"white-space:pre;overflow-x:auto;line-height:normal;font-family:Menlo,'DejaVu Sans Mono',consolas,'Courier New',monospace\"><span style=\"font-weight: bold\"> Non-trainable params: </span><span style=\"color: #00af00; text-decoration-color: #00af00\">0</span> (0.00 B)\n",
              "</pre>\n"
            ]
          },
          "metadata": {}
        },
        {
          "output_type": "stream",
          "name": "stdout",
          "text": [
            "Epoch 1/10\n",
            "750/750 - 11s - 14ms/step - accuracy: 0.9030 - loss: 0.3170 - val_accuracy: 0.9775 - val_loss: 0.0785\n",
            "Epoch 2/10\n",
            "750/750 - 4s - 5ms/step - accuracy: 0.9630 - loss: 0.1265 - val_accuracy: 0.9838 - val_loss: 0.0572\n",
            "Epoch 3/10\n",
            "750/750 - 4s - 5ms/step - accuracy: 0.9722 - loss: 0.0978 - val_accuracy: 0.9868 - val_loss: 0.0439\n",
            "Epoch 4/10\n",
            "750/750 - 4s - 5ms/step - accuracy: 0.9764 - loss: 0.0829 - val_accuracy: 0.9887 - val_loss: 0.0404\n",
            "Epoch 5/10\n",
            "750/750 - 4s - 5ms/step - accuracy: 0.9771 - loss: 0.0781 - val_accuracy: 0.9902 - val_loss: 0.0388\n",
            "Epoch 6/10\n",
            "750/750 - 4s - 5ms/step - accuracy: 0.9808 - loss: 0.0668 - val_accuracy: 0.9898 - val_loss: 0.0429\n",
            "Epoch 7/10\n",
            "750/750 - 4s - 5ms/step - accuracy: 0.9821 - loss: 0.0600 - val_accuracy: 0.9900 - val_loss: 0.0413\n",
            "Epoch 8/10\n",
            "750/750 - 4s - 5ms/step - accuracy: 0.9834 - loss: 0.0564 - val_accuracy: 0.9908 - val_loss: 0.0368\n",
            "Epoch 9/10\n",
            "750/750 - 5s - 7ms/step - accuracy: 0.9838 - loss: 0.0550 - val_accuracy: 0.9902 - val_loss: 0.0384\n",
            "Epoch 10/10\n",
            "750/750 - 5s - 7ms/step - accuracy: 0.9851 - loss: 0.0512 - val_accuracy: 0.9888 - val_loss: 0.0403\n"
          ]
        },
        {
          "output_type": "display_data",
          "data": {
            "text/plain": [
              "<Figure size 640x480 with 1 Axes>"
            ],
            "image/png": "[encoded data removed]"
          },
          "metadata": {}
        },
        {
          "output_type": "display_data",
          "data": {
            "text/plain": [
              "<Figure size 640x480 with 1 Axes>"
            ],
            "image/png": "[encoded data removed]"
          },
          "metadata": {}
        }
      ]
    },
    {
      "cell_type": "markdown",
      "source": [
        "CNN Model-2"
      ],
      "metadata": {
        "id": "6ScXL3eYNaRv"
      }
    },
    {
      "cell_type": "code",
      "source": [
        "# CNN Model-2\n",
        "\n",
        "# CNN Model-2 : trying to understand which hyperparameter gives worse results\n",
        "# Hyperparamaeters: (-layer , 6x6 or 2x2 kernel, tanh, maxpooling)\n",
        "\n",
        "model2 = models.Sequential([\n",
        "    # layers.Conv2D(32, 6, padding='same', activation='tanh',input_shape=(28,28,1)),\n",
        "    # layers.Conv2D(32, 2, padding='same', activation='tanh'),\n",
        "    # layers.MaxPool2D(2),\n",
        "    layers.Conv2D(64, 2, padding='same', activation='tanh', input_shape=(28,28,1)),\n",
        "    layers.MaxPool2D(2),\n",
        "    # layers.Conv2D(128, 2, padding='same', activation='tanh'),\n",
        "    # layers.MaxPool2D(2),\n",
        "    layers.Flatten(),\n",
        "    layers.Dense(64, activation='relu'),\n",
        "    layers.Dropout(0.5),\n",
        "    layers.Dense(10, activation='softmax'),\n",
        "])\n",
        "\n",
        "model2.summary()\n",
        "\n",
        "model2.compile(\n",
        "    optimizer='adam',\n",
        "    loss='sparse_categorical_crossentropy',\n",
        "    metrics=['accuracy']\n",
        ")\n",
        "\n",
        "history = model2.fit(\n",
        "    x_train, y_train,\n",
        "    batch_size=64,\n",
        "    epochs=10,\n",
        "    validation_split=0.2,\n",
        "    verbose=2\n",
        ")\n",
        "\n",
        "plt.figure()\n",
        "plt.plot(history.history['loss'], label='Train Loss')\n",
        "plt.plot(history.history['val_loss'], label='Val Loss')\n",
        "plt.xlabel('Epoch'); plt.ylabel('Loss'); plt.legend()\n",
        "plt.title('Loss vs. Epoch')\n",
        "plt.show()\n",
        "\n",
        "plt.figure()\n",
        "plt.plot(history.history['accuracy'], label='Train Acc')\n",
        "plt.plot(history.history['val_accuracy'], label='Val Acc')\n",
        "plt.xlabel('Epoch'); plt.ylabel('Accuracy'); plt.legend()\n",
        "plt.title('Accuracy vs. Epoch')\n",
        "plt.show()"
      ],
      "metadata": {
        "colab": {
          "base_uri": "https://localhost:8080/",
          "height": 1000
        },
        "id": "2gY5qx4_D7DB",
        "outputId": "0961fdde-619c-456b-e4b0-bc4d503ecc61"
      },
      "execution_count": null,
      "outputs": [
        {
          "output_type": "display_data",
          "data": {
            "text/plain": [
              "\u001b[1mModel: \"sequential_3\"\u001b[0m\n"
            ],
            "text/html": [
              "<pre style=\"white-space:pre;overflow-x:auto;line-height:normal;font-family:Menlo,'DejaVu Sans Mono',consolas,'Courier New',monospace\"><span style=\"font-weight: bold\">Model: \"sequential_3\"</span>\n",
              "</pre>\n"
            ]
          },
          "metadata": {}
        },
        {
          "output_type": "display_data",
          "data": {
            "text/plain": [
              "┏━━━━━━━━━━━━━━━━━━━━━━━━━━━━━━━━━┳━━━━━━━━━━━━━━━━━━━━━━━━┳━━━━━━━━━━━━━━━┓\n",
              "┃\u001b[1m \u001b[0m\u001b[1mLayer (type)                   \u001b[0m\u001b[1m \u001b[0m┃\u001b[1m \u001b[0m\u001b[1mOutput Shape          \u001b[0m\u001b[1m \u001b[0m┃\u001b[1m \u001b[0m\u001b[1m      Param #\u001b[0m\u001b[1m \u001b[0m┃\n",
              "┡━━━━━━━━━━━━━━━━━━━━━━━━━━━━━━━━━╇━━━━━━━━━━━━━━━━━━━━━━━━╇━━━━━━━━━━━━━━━┩\n",
              "│ conv2d_3 (\u001b[38;5;33mConv2D\u001b[0m)               │ (\u001b[38;5;45mNone\u001b[0m, \u001b[38;5;34m28\u001b[0m, \u001b[38;5;34m28\u001b[0m, \u001b[38;5;34m64\u001b[0m)     │           \u001b[38;5;34m320\u001b[0m │\n",
              "├─────────────────────────────────┼────────────────────────┼───────────────┤\n",
              "│ max_pooling2d_3 (\u001b[38;5;33mMaxPooling2D\u001b[0m)  │ (\u001b[38;5;45mNone\u001b[0m, \u001b[38;5;34m14\u001b[0m, \u001b[38;5;34m14\u001b[0m, \u001b[38;5;34m64\u001b[0m)     │             \u001b[38;5;34m0\u001b[0m │\n",
              "├─────────────────────────────────┼────────────────────────┼───────────────┤\n",
              "│ flatten_3 (\u001b[38;5;33mFlatten\u001b[0m)             │ (\u001b[38;5;45mNone\u001b[0m, \u001b[38;5;34m12544\u001b[0m)          │             \u001b[38;5;34m0\u001b[0m │\n",
              "├─────────────────────────────────┼────────────────────────┼───────────────┤\n",
              "│ dense_6 (\u001b[38;5;33mDense\u001b[0m)                 │ (\u001b[38;5;45mNone\u001b[0m, \u001b[38;5;34m64\u001b[0m)             │       \u001b[38;5;34m802,880\u001b[0m │\n",
              "├─────────────────────────────────┼────────────────────────┼───────────────┤\n",
              "│ dropout_3 (\u001b[38;5;33mDropout\u001b[0m)             │ (\u001b[38;5;45mNone\u001b[0m, \u001b[38;5;34m64\u001b[0m)             │             \u001b[38;5;34m0\u001b[0m │\n",
              "├─────────────────────────────────┼────────────────────────┼───────────────┤\n",
              "│ dense_7 (\u001b[38;5;33mDense\u001b[0m)                 │ (\u001b[38;5;45mNone\u001b[0m, \u001b[38;5;34m10\u001b[0m)             │           \u001b[38;5;34m650\u001b[0m │\n",
              "└─────────────────────────────────┴────────────────────────┴───────────────┘\n"
            ],
            "text/html": [
              "<pre style=\"white-space:pre;overflow-x:auto;line-height:normal;font-family:Menlo,'DejaVu Sans Mono',consolas,'Courier New',monospace\">┏━━━━━━━━━━━━━━━━━━━━━━━━━━━━━━━━━┳━━━━━━━━━━━━━━━━━━━━━━━━┳━━━━━━━━━━━━━━━┓\n",
              "┃<span style=\"font-weight: bold\"> Layer (type)                    </span>┃<span style=\"font-weight: bold\"> Output Shape           </span>┃<span style=\"font-weight: bold\">       Param # </span>┃\n",
              "┡━━━━━━━━━━━━━━━━━━━━━━━━━━━━━━━━━╇━━━━━━━━━━━━━━━━━━━━━━━━╇━━━━━━━━━━━━━━━┩\n",
              "│ conv2d_3 (<span style=\"color: #0087ff; text-decoration-color: #0087ff\">Conv2D</span>)               │ (<span style=\"color: #00d7ff; text-decoration-color: #00d7ff\">None</span>, <span style=\"color: #00af00; text-decoration-color: #00af00\">28</span>, <span style=\"color: #00af00; text-decoration-color: #00af00\">28</span>, <span style=\"color: #00af00; text-decoration-color: #00af00\">64</span>)     │           <span style=\"color: #00af00; text-decoration-color: #00af00\">320</span> │\n",
              "├─────────────────────────────────┼────────────────────────┼───────────────┤\n",
              "│ max_pooling2d_3 (<span style=\"color: #0087ff; text-decoration-color: #0087ff\">MaxPooling2D</span>)  │ (<span style=\"color: #00d7ff; text-decoration-color: #00d7ff\">None</span>, <span style=\"color: #00af00; text-decoration-color: #00af00\">14</span>, <span style=\"color: #00af00; text-decoration-color: #00af00\">14</span>, <span style=\"color: #00af00; text-decoration-color: #00af00\">64</span>)     │             <span style=\"color: #00af00; text-decoration-color: #00af00\">0</span> │\n",
              "├─────────────────────────────────┼────────────────────────┼───────────────┤\n",
              "│ flatten_3 (<span style=\"color: #0087ff; text-decoration-color: #0087ff\">Flatten</span>)             │ (<span style=\"color: #00d7ff; text-decoration-color: #00d7ff\">None</span>, <span style=\"color: #00af00; text-decoration-color: #00af00\">12544</span>)          │             <span style=\"color: #00af00; text-decoration-color: #00af00\">0</span> │\n",
              "├─────────────────────────────────┼────────────────────────┼───────────────┤\n",
              "│ dense_6 (<span style=\"color: #0087ff; text-decoration-color: #0087ff\">Dense</span>)                 │ (<span style=\"color: #00d7ff; text-decoration-color: #00d7ff\">None</span>, <span style=\"color: #00af00; text-decoration-color: #00af00\">64</span>)             │       <span style=\"color: #00af00; text-decoration-color: #00af00\">802,880</span> │\n",
              "├─────────────────────────────────┼────────────────────────┼───────────────┤\n",
              "│ dropout_3 (<span style=\"color: #0087ff; text-decoration-color: #0087ff\">Dropout</span>)             │ (<span style=\"color: #00d7ff; text-decoration-color: #00d7ff\">None</span>, <span style=\"color: #00af00; text-decoration-color: #00af00\">64</span>)             │             <span style=\"color: #00af00; text-decoration-color: #00af00\">0</span> │\n",
              "├─────────────────────────────────┼────────────────────────┼───────────────┤\n",
              "│ dense_7 (<span style=\"color: #0087ff; text-decoration-color: #0087ff\">Dense</span>)                 │ (<span style=\"color: #00d7ff; text-decoration-color: #00d7ff\">None</span>, <span style=\"color: #00af00; text-decoration-color: #00af00\">10</span>)             │           <span style=\"color: #00af00; text-decoration-color: #00af00\">650</span> │\n",
              "└─────────────────────────────────┴────────────────────────┴───────────────┘\n",
              "</pre>\n"
            ]
          },
          "metadata": {}
        },
        {
          "output_type": "display_data",
          "data": {
            "text/plain": [
              "\u001b[1m Total params: \u001b[0m\u001b[38;5;34m803,850\u001b[0m (3.07 MB)\n"
            ],
            "text/html": [
              "<pre style=\"white-space:pre;overflow-x:auto;line-height:normal;font-family:Menlo,'DejaVu Sans Mono',consolas,'Courier New',monospace\"><span style=\"font-weight: bold\"> Total params: </span><span style=\"color: #00af00; text-decoration-color: #00af00\">803,850</span> (3.07 MB)\n",
              "</pre>\n"
            ]
          },
          "metadata": {}
        },
        {
          "output_type": "display_data",
          "data": {
            "text/plain": [
              "\u001b[1m Trainable params: \u001b[0m\u001b[38;5;34m803,850\u001b[0m (3.07 MB)\n"
            ],
            "text/html": [
              "<pre style=\"white-space:pre;overflow-x:auto;line-height:normal;font-family:Menlo,'DejaVu Sans Mono',consolas,'Courier New',monospace\"><span style=\"font-weight: bold\"> Trainable params: </span><span style=\"color: #00af00; text-decoration-color: #00af00\">803,850</span> (3.07 MB)\n",
              "</pre>\n"
            ]
          },
          "metadata": {}
        },
        {
          "output_type": "display_data",
          "data": {
            "text/plain": [
              "\u001b[1m Non-trainable params: \u001b[0m\u001b[38;5;34m0\u001b[0m (0.00 B)\n"
            ],
            "text/html": [
              "<pre style=\"white-space:pre;overflow-x:auto;line-height:normal;font-family:Menlo,'DejaVu Sans Mono',consolas,'Courier New',monospace\"><span style=\"font-weight: bold\"> Non-trainable params: </span><span style=\"color: #00af00; text-decoration-color: #00af00\">0</span> (0.00 B)\n",
              "</pre>\n"
            ]
          },
          "metadata": {}
        },
        {
          "output_type": "stream",
          "name": "stdout",
          "text": [
            "Epoch 1/10\n",
            "750/750 - 42s - 55ms/step - accuracy: 0.8555 - loss: 0.4739 - val_accuracy: 0.9512 - val_loss: 0.1589\n",
            "Epoch 2/10\n",
            "750/750 - 40s - 53ms/step - accuracy: 0.9187 - loss: 0.2704 - val_accuracy: 0.9617 - val_loss: 0.1303\n",
            "Epoch 3/10\n",
            "750/750 - 39s - 52ms/step - accuracy: 0.9353 - loss: 0.2129 - val_accuracy: 0.9713 - val_loss: 0.0991\n",
            "Epoch 4/10\n",
            "750/750 - 41s - 54ms/step - accuracy: 0.9451 - loss: 0.1805 - val_accuracy: 0.9747 - val_loss: 0.0880\n",
            "Epoch 5/10\n",
            "750/750 - 41s - 55ms/step - accuracy: 0.9499 - loss: 0.1605 - val_accuracy: 0.9753 - val_loss: 0.0821\n",
            "Epoch 6/10\n",
            "750/750 - 41s - 54ms/step - accuracy: 0.9551 - loss: 0.1426 - val_accuracy: 0.9748 - val_loss: 0.0852\n",
            "Epoch 7/10\n",
            "750/750 - 44s - 58ms/step - accuracy: 0.9578 - loss: 0.1333 - val_accuracy: 0.9766 - val_loss: 0.0833\n",
            "Epoch 8/10\n",
            "750/750 - 79s - 105ms/step - accuracy: 0.9595 - loss: 0.1266 - val_accuracy: 0.9782 - val_loss: 0.0784\n",
            "Epoch 9/10\n",
            "750/750 - 42s - 56ms/step - accuracy: 0.9618 - loss: 0.1197 - val_accuracy: 0.9783 - val_loss: 0.0773\n",
            "Epoch 10/10\n",
            "750/750 - 39s - 53ms/step - accuracy: 0.9630 - loss: 0.1144 - val_accuracy: 0.9783 - val_loss: 0.0780\n"
          ]
        },
        {
          "output_type": "display_data",
          "data": {
            "text/plain": [
              "<Figure size 640x480 with 1 Axes>"
            ],
            "image/png": "[encoded data removed]"
          },
          "metadata": {}
        },
        {
          "output_type": "display_data",
          "data": {
            "text/plain": [
              "<Figure size 640x480 with 1 Axes>"
            ],
            "image/png": "[encoded data removed]"
          },
          "metadata": {}
        }
      ]
    },
    {
      "cell_type": "markdown",
      "source": [
        "CNN Model-3"
      ],
      "metadata": {
        "id": "Imy1DionJnvm"
      }
    },
    {
      "cell_type": "code",
      "source": [
        "# Deeper neural networks\n",
        "\n",
        "model3 = models.Sequential([\n",
        "    layers.Conv2D(32, 3, padding='same', activation='relu', input_shape=(28,28,1)),\n",
        "    layers.Conv2D(32, 3, padding='same', activation='relu', input_shape=(28,28,1)),\n",
        "    layers.MaxPooling2D(2),\n",
        "    layers.Conv2D(64, 3, padding='same', activation='relu'),\n",
        "    # layers.MaxPooling2D(2),\n",
        "    layers.Conv2D(64, 3, padding='same', activation='relu'),\n",
        "    layers.MaxPooling2D(2),\n",
        "    layers.Conv2D(128, 3, padding='same', activation='relu'),\n",
        "    layers.MaxPooling2D(2),\n",
        "    layers.Flatten(),\n",
        "    layers.Dense(64, activation='relu'),\n",
        "    layers.Dropout(0.5),\n",
        "    layers.Dense(10, activation='softmax'), # x(-inf, +inf) -> y(0,inf)\n",
        "])\n",
        "\n",
        "\n",
        "model3.summary()\n",
        "\n",
        "model3.compile(\n",
        "    optimizer='adam',\n",
        "    loss='sparse_categorical_crossentropy',\n",
        "    metrics=['accuracy']\n",
        ")\n",
        "\n",
        "history = model3.fit(\n",
        "    x_train, y_train,\n",
        "    batch_size=64,\n",
        "    epochs=10,\n",
        "    validation_split=0.2,\n",
        "    verbose=2\n",
        ")\n",
        "\n",
        "plt.figure()\n",
        "plt.plot(history.history['loss'], label='Train Loss')\n",
        "plt.plot(history.history['val_loss'], label='Val Loss')\n",
        "plt.xlabel('Epoch'); plt.ylabel('Loss'); plt.legend()\n",
        "plt.title('Loss vs. Epoch')\n",
        "plt.show()\n",
        "\n",
        "plt.figure()\n",
        "plt.plot(history.history['accuracy'], label='Train Acc')\n",
        "plt.plot(history.history['val_accuracy'], label='Val Acc')\n",
        "plt.xlabel('Epoch'); plt.ylabel('Accuracy'); plt.legend()\n",
        "plt.title('Accuracy vs. Epoch')\n",
        "plt.show()"
      ],
      "metadata": {
        "colab": {
          "base_uri": "https://localhost:8080/",
          "height": 1000
        },
        "id": "UdxG6-meJpZF",
        "outputId": "5d826ac9-f704-46ec-a84a-80d19147c4e6"
      },
      "execution_count": null,
      "outputs": [
        {
          "output_type": "display_data",
          "data": {
            "text/plain": [
              "\u001b[1mModel: \"sequential_13\"\u001b[0m\n"
            ],
            "text/html": [
              "<pre style=\"white-space:pre;overflow-x:auto;line-height:normal;font-family:Menlo,'DejaVu Sans Mono',consolas,'Courier New',monospace\"><span style=\"font-weight: bold\">Model: \"sequential_13\"</span>\n",
              "</pre>\n"
            ]
          },
          "metadata": {}
        },
        {
          "output_type": "display_data",
          "data": {
            "text/plain": [
              "┏━━━━━━━━━━━━━━━━━━━━━━━━━━━━━━━━━┳━━━━━━━━━━━━━━━━━━━━━━━━┳━━━━━━━━━━━━━━━┓\n",
              "┃\u001b[1m \u001b[0m\u001b[1mLayer (type)                   \u001b[0m\u001b[1m \u001b[0m┃\u001b[1m \u001b[0m\u001b[1mOutput Shape          \u001b[0m\u001b[1m \u001b[0m┃\u001b[1m \u001b[0m\u001b[1m      Param #\u001b[0m\u001b[1m \u001b[0m┃\n",
              "┡━━━━━━━━━━━━━━━━━━━━━━━━━━━━━━━━━╇━━━━━━━━━━━━━━━━━━━━━━━━╇━━━━━━━━━━━━━━━┩\n",
              "│ conv2d_40 (\u001b[38;5;33mConv2D\u001b[0m)              │ (\u001b[38;5;45mNone\u001b[0m, \u001b[38;5;34m28\u001b[0m, \u001b[38;5;34m28\u001b[0m, \u001b[38;5;34m32\u001b[0m)     │           \u001b[38;5;34m320\u001b[0m │\n",
              "├─────────────────────────────────┼────────────────────────┼───────────────┤\n",
              "│ conv2d_41 (\u001b[38;5;33mConv2D\u001b[0m)              │ (\u001b[38;5;45mNone\u001b[0m, \u001b[38;5;34m28\u001b[0m, \u001b[38;5;34m28\u001b[0m, \u001b[38;5;34m32\u001b[0m)     │         \u001b[38;5;34m9,248\u001b[0m │\n",
              "├─────────────────────────────────┼────────────────────────┼───────────────┤\n",
              "│ max_pooling2d_37 (\u001b[38;5;33mMaxPooling2D\u001b[0m) │ (\u001b[38;5;45mNone\u001b[0m, \u001b[38;5;34m14\u001b[0m, \u001b[38;5;34m14\u001b[0m, \u001b[38;5;34m32\u001b[0m)     │             \u001b[38;5;34m0\u001b[0m │\n",
              "├─────────────────────────────────┼────────────────────────┼───────────────┤\n",
              "│ conv2d_42 (\u001b[38;5;33mConv2D\u001b[0m)              │ (\u001b[38;5;45mNone\u001b[0m, \u001b[38;5;34m14\u001b[0m, \u001b[38;5;34m14\u001b[0m, \u001b[38;5;34m64\u001b[0m)     │        \u001b[38;5;34m18,496\u001b[0m │\n",
              "├─────────────────────────────────┼────────────────────────┼───────────────┤\n",
              "│ conv2d_43 (\u001b[38;5;33mConv2D\u001b[0m)              │ (\u001b[38;5;45mNone\u001b[0m, \u001b[38;5;34m14\u001b[0m, \u001b[38;5;34m14\u001b[0m, \u001b[38;5;34m64\u001b[0m)     │        \u001b[38;5;34m36,928\u001b[0m │\n",
              "├─────────────────────────────────┼────────────────────────┼───────────────┤\n",
              "│ max_pooling2d_38 (\u001b[38;5;33mMaxPooling2D\u001b[0m) │ (\u001b[38;5;45mNone\u001b[0m, \u001b[38;5;34m7\u001b[0m, \u001b[38;5;34m7\u001b[0m, \u001b[38;5;34m64\u001b[0m)       │             \u001b[38;5;34m0\u001b[0m │\n",
              "├─────────────────────────────────┼────────────────────────┼───────────────┤\n",
              "│ conv2d_44 (\u001b[38;5;33mConv2D\u001b[0m)              │ (\u001b[38;5;45mNone\u001b[0m, \u001b[38;5;34m7\u001b[0m, \u001b[38;5;34m7\u001b[0m, \u001b[38;5;34m128\u001b[0m)      │        \u001b[38;5;34m73,856\u001b[0m │\n",
              "├─────────────────────────────────┼────────────────────────┼───────────────┤\n",
              "│ max_pooling2d_39 (\u001b[38;5;33mMaxPooling2D\u001b[0m) │ (\u001b[38;5;45mNone\u001b[0m, \u001b[38;5;34m3\u001b[0m, \u001b[38;5;34m3\u001b[0m, \u001b[38;5;34m128\u001b[0m)      │             \u001b[38;5;34m0\u001b[0m │\n",
              "├─────────────────────────────────┼────────────────────────┼───────────────┤\n",
              "│ flatten_13 (\u001b[38;5;33mFlatten\u001b[0m)            │ (\u001b[38;5;45mNone\u001b[0m, \u001b[38;5;34m1152\u001b[0m)           │             \u001b[38;5;34m0\u001b[0m │\n",
              "├─────────────────────────────────┼────────────────────────┼───────────────┤\n",
              "│ dense_26 (\u001b[38;5;33mDense\u001b[0m)                │ (\u001b[38;5;45mNone\u001b[0m, \u001b[38;5;34m64\u001b[0m)             │        \u001b[38;5;34m73,792\u001b[0m │\n",
              "├─────────────────────────────────┼────────────────────────┼───────────────┤\n",
              "│ dropout_13 (\u001b[38;5;33mDropout\u001b[0m)            │ (\u001b[38;5;45mNone\u001b[0m, \u001b[38;5;34m64\u001b[0m)             │             \u001b[38;5;34m0\u001b[0m │\n",
              "├─────────────────────────────────┼────────────────────────┼───────────────┤\n",
              "│ dense_27 (\u001b[38;5;33mDense\u001b[0m)                │ (\u001b[38;5;45mNone\u001b[0m, \u001b[38;5;34m10\u001b[0m)             │           \u001b[38;5;34m650\u001b[0m │\n",
              "└─────────────────────────────────┴────────────────────────┴───────────────┘\n"
            ],
            "text/html": [
              "<pre style=\"white-space:pre;overflow-x:auto;line-height:normal;font-family:Menlo,'DejaVu Sans Mono',consolas,'Courier New',monospace\">┏━━━━━━━━━━━━━━━━━━━━━━━━━━━━━━━━━┳━━━━━━━━━━━━━━━━━━━━━━━━┳━━━━━━━━━━━━━━━┓\n",
              "┃<span style=\"font-weight: bold\"> Layer (type)                    </span>┃<span style=\"font-weight: bold\"> Output Shape           </span>┃<span style=\"font-weight: bold\">       Param # </span>┃\n",
              "┡━━━━━━━━━━━━━━━━━━━━━━━━━━━━━━━━━╇━━━━━━━━━━━━━━━━━━━━━━━━╇━━━━━━━━━━━━━━━┩\n",
              "│ conv2d_40 (<span style=\"color: #0087ff; text-decoration-color: #0087ff\">Conv2D</span>)              │ (<span style=\"color: #00d7ff; text-decoration-color: #00d7ff\">None</span>, <span style=\"color: #00af00; text-decoration-color: #00af00\">28</span>, <span style=\"color: #00af00; text-decoration-color: #00af00\">28</span>, <span style=\"color: #00af00; text-decoration-color: #00af00\">32</span>)     │           <span style=\"color: #00af00; text-decoration-color: #00af00\">320</span> │\n",
              "├─────────────────────────────────┼────────────────────────┼───────────────┤\n",
              "│ conv2d_41 (<span style=\"color: #0087ff; text-decoration-color: #0087ff\">Conv2D</span>)              │ (<span style=\"color: #00d7ff; text-decoration-color: #00d7ff\">None</span>, <span style=\"color: #00af00; text-decoration-color: #00af00\">28</span>, <span style=\"color: #00af00; text-decoration-color: #00af00\">28</span>, <span style=\"color: #00af00; text-decoration-color: #00af00\">32</span>)     │         <span style=\"color: #00af00; text-decoration-color: #00af00\">9,248</span> │\n",
              "├─────────────────────────────────┼────────────────────────┼───────────────┤\n",
              "│ max_pooling2d_37 (<span style=\"color: #0087ff; text-decoration-color: #0087ff\">MaxPooling2D</span>) │ (<span style=\"color: #00d7ff; text-decoration-color: #00d7ff\">None</span>, <span style=\"color: #00af00; text-decoration-color: #00af00\">14</span>, <span style=\"color: #00af00; text-decoration-color: #00af00\">14</span>, <span style=\"color: #00af00; text-decoration-color: #00af00\">32</span>)     │             <span style=\"color: #00af00; text-decoration-color: #00af00\">0</span> │\n",
              "├─────────────────────────────────┼────────────────────────┼───────────────┤\n",
              "│ conv2d_42 (<span style=\"color: #0087ff; text-decoration-color: #0087ff\">Conv2D</span>)              │ (<span style=\"color: #00d7ff; text-decoration-color: #00d7ff\">None</span>, <span style=\"color: #00af00; text-decoration-color: #00af00\">14</span>, <span style=\"color: #00af00; text-decoration-color: #00af00\">14</span>, <span style=\"color: #00af00; text-decoration-color: #00af00\">64</span>)     │        <span style=\"color: #00af00; text-decoration-color: #00af00\">18,496</span> │\n",
              "├─────────────────────────────────┼────────────────────────┼───────────────┤\n",
              "│ conv2d_43 (<span style=\"color: #0087ff; text-decoration-color: #0087ff\">Conv2D</span>)              │ (<span style=\"color: #00d7ff; text-decoration-color: #00d7ff\">None</span>, <span style=\"color: #00af00; text-decoration-color: #00af00\">14</span>, <span style=\"color: #00af00; text-decoration-color: #00af00\">14</span>, <span style=\"color: #00af00; text-decoration-color: #00af00\">64</span>)     │        <span style=\"color: #00af00; text-decoration-color: #00af00\">36,928</span> │\n",
              "├─────────────────────────────────┼────────────────────────┼───────────────┤\n",
              "│ max_pooling2d_38 (<span style=\"color: #0087ff; text-decoration-color: #0087ff\">MaxPooling2D</span>) │ (<span style=\"color: #00d7ff; text-decoration-color: #00d7ff\">None</span>, <span style=\"color: #00af00; text-decoration-color: #00af00\">7</span>, <span style=\"color: #00af00; text-decoration-color: #00af00\">7</span>, <span style=\"color: #00af00; text-decoration-color: #00af00\">64</span>)       │             <span style=\"color: #00af00; text-decoration-color: #00af00\">0</span> │\n",
              "├─────────────────────────────────┼────────────────────────┼───────────────┤\n",
              "│ conv2d_44 (<span style=\"color: #0087ff; text-decoration-color: #0087ff\">Conv2D</span>)              │ (<span style=\"color: #00d7ff; text-decoration-color: #00d7ff\">None</span>, <span style=\"color: #00af00; text-decoration-color: #00af00\">7</span>, <span style=\"color: #00af00; text-decoration-color: #00af00\">7</span>, <span style=\"color: #00af00; text-decoration-color: #00af00\">128</span>)      │        <span style=\"color: #00af00; text-decoration-color: #00af00\">73,856</span> │\n",
              "├─────────────────────────────────┼────────────────────────┼───────────────┤\n",
              "│ max_pooling2d_39 (<span style=\"color: #0087ff; text-decoration-color: #0087ff\">MaxPooling2D</span>) │ (<span style=\"color: #00d7ff; text-decoration-color: #00d7ff\">None</span>, <span style=\"color: #00af00; text-decoration-color: #00af00\">3</span>, <span style=\"color: #00af00; text-decoration-color: #00af00\">3</span>, <span style=\"color: #00af00; text-decoration-color: #00af00\">128</span>)      │             <span style=\"color: #00af00; text-decoration-color: #00af00\">0</span> │\n",
              "├─────────────────────────────────┼────────────────────────┼───────────────┤\n",
              "│ flatten_13 (<span style=\"color: #0087ff; text-decoration-color: #0087ff\">Flatten</span>)            │ (<span style=\"color: #00d7ff; text-decoration-color: #00d7ff\">None</span>, <span style=\"color: #00af00; text-decoration-color: #00af00\">1152</span>)           │             <span style=\"color: #00af00; text-decoration-color: #00af00\">0</span> │\n",
              "├─────────────────────────────────┼────────────────────────┼───────────────┤\n",
              "│ dense_26 (<span style=\"color: #0087ff; text-decoration-color: #0087ff\">Dense</span>)                │ (<span style=\"color: #00d7ff; text-decoration-color: #00d7ff\">None</span>, <span style=\"color: #00af00; text-decoration-color: #00af00\">64</span>)             │        <span style=\"color: #00af00; text-decoration-color: #00af00\">73,792</span> │\n",
              "├─────────────────────────────────┼────────────────────────┼───────────────┤\n",
              "│ dropout_13 (<span style=\"color: #0087ff; text-decoration-color: #0087ff\">Dropout</span>)            │ (<span style=\"color: #00d7ff; text-decoration-color: #00d7ff\">None</span>, <span style=\"color: #00af00; text-decoration-color: #00af00\">64</span>)             │             <span style=\"color: #00af00; text-decoration-color: #00af00\">0</span> │\n",
              "├─────────────────────────────────┼────────────────────────┼───────────────┤\n",
              "│ dense_27 (<span style=\"color: #0087ff; text-decoration-color: #0087ff\">Dense</span>)                │ (<span style=\"color: #00d7ff; text-decoration-color: #00d7ff\">None</span>, <span style=\"color: #00af00; text-decoration-color: #00af00\">10</span>)             │           <span style=\"color: #00af00; text-decoration-color: #00af00\">650</span> │\n",
              "└─────────────────────────────────┴────────────────────────┴───────────────┘\n",
              "</pre>\n"
            ]
          },
          "metadata": {}
        },
        {
          "output_type": "display_data",
          "data": {
            "text/plain": [
              "\u001b[1m Total params: \u001b[0m\u001b[38;5;34m213,290\u001b[0m (833.16 KB)\n"
            ],
            "text/html": [
              "<pre style=\"white-space:pre;overflow-x:auto;line-height:normal;font-family:Menlo,'DejaVu Sans Mono',consolas,'Courier New',monospace\"><span style=\"font-weight: bold\"> Total params: </span><span style=\"color: #00af00; text-decoration-color: #00af00\">213,290</span> (833.16 KB)\n",
              "</pre>\n"
            ]
          },
          "metadata": {}
        },
        {
          "output_type": "display_data",
          "data": {
            "text/plain": [
              "\u001b[1m Trainable params: \u001b[0m\u001b[38;5;34m213,290\u001b[0m (833.16 KB)\n"
            ],
            "text/html": [
              "<pre style=\"white-space:pre;overflow-x:auto;line-height:normal;font-family:Menlo,'DejaVu Sans Mono',consolas,'Courier New',monospace\"><span style=\"font-weight: bold\"> Trainable params: </span><span style=\"color: #00af00; text-decoration-color: #00af00\">213,290</span> (833.16 KB)\n",
              "</pre>\n"
            ]
          },
          "metadata": {}
        },
        {
          "output_type": "display_data",
          "data": {
            "text/plain": [
              "\u001b[1m Non-trainable params: \u001b[0m\u001b[38;5;34m0\u001b[0m (0.00 B)\n"
            ],
            "text/html": [
              "<pre style=\"white-space:pre;overflow-x:auto;line-height:normal;font-family:Menlo,'DejaVu Sans Mono',consolas,'Courier New',monospace\"><span style=\"font-weight: bold\"> Non-trainable params: </span><span style=\"color: #00af00; text-decoration-color: #00af00\">0</span> (0.00 B)\n",
              "</pre>\n"
            ]
          },
          "metadata": {}
        },
        {
          "output_type": "stream",
          "name": "stdout",
          "text": [
            "Epoch 1/10\n",
            "750/750 - 50s - 66ms/step - accuracy: 0.8877 - loss: 0.3490 - val_accuracy: 0.9818 - val_loss: 0.0661\n",
            "Epoch 2/10\n",
            "750/750 - 4s - 6ms/step - accuracy: 0.9708 - loss: 0.1008 - val_accuracy: 0.9868 - val_loss: 0.0490\n",
            "Epoch 3/10\n",
            "750/750 - 4s - 6ms/step - accuracy: 0.9802 - loss: 0.0716 - val_accuracy: 0.9893 - val_loss: 0.0371\n",
            "Epoch 4/10\n",
            "750/750 - 4s - 6ms/step - accuracy: 0.9837 - loss: 0.0560 - val_accuracy: 0.9909 - val_loss: 0.0382\n",
            "Epoch 5/10\n",
            "750/750 - 4s - 6ms/step - accuracy: 0.9864 - loss: 0.0469 - val_accuracy: 0.9918 - val_loss: 0.0325\n",
            "Epoch 6/10\n",
            "750/750 - 5s - 7ms/step - accuracy: 0.9885 - loss: 0.0389 - val_accuracy: 0.9919 - val_loss: 0.0364\n",
            "Epoch 7/10\n",
            "750/750 - 5s - 7ms/step - accuracy: 0.9900 - loss: 0.0338 - val_accuracy: 0.9905 - val_loss: 0.0382\n",
            "Epoch 8/10\n",
            "750/750 - 4s - 6ms/step - accuracy: 0.9911 - loss: 0.0296 - val_accuracy: 0.9927 - val_loss: 0.0281\n",
            "Epoch 9/10\n",
            "750/750 - 5s - 6ms/step - accuracy: 0.9917 - loss: 0.0273 - val_accuracy: 0.9936 - val_loss: 0.0291\n",
            "Epoch 10/10\n",
            "750/750 - 4s - 6ms/step - accuracy: 0.9929 - loss: 0.0223 - val_accuracy: 0.9895 - val_loss: 0.0503\n"
          ]
        },
        {
          "output_type": "display_data",
          "data": {
            "text/plain": [
              "<Figure size 640x480 with 1 Axes>"
            ],
            "image/png": "[encoded data removed]"
          },
          "metadata": {}
        },
        {
          "output_type": "display_data",
          "data": {
            "text/plain": [
              "<Figure size 640x480 with 1 Axes>"
            ],
            "image/png": "[encoded data removed]"
          },
          "metadata": {}
        }
      ]
    },
    {
      "cell_type": "markdown",
      "source": [
        "Hyperparameter Optimization"
      ],
      "metadata": {
        "id": "y3HI2uihRmsP"
      }
    },
    {
      "cell_type": "code",
      "source": [
        "pip install wandb"
      ],
      "metadata": {
        "colab": {
          "base_uri": "https://localhost:8080/"
        },
        "id": "8NVmCo8fTaKg",
        "outputId": "c7a9e4b7-0071-4867-afa8-1ddd040f0b4c"
      },
      "execution_count": null,
      "outputs": [
        {
          "output_type": "stream",
          "name": "stdout",
          "text": [
            "Requirement already satisfied: wandb in /usr/local/lib/python3.11/dist-packages (0.19.11)\n",
            "Requirement already satisfied: click!=8.0.0,>=7.1 in /usr/local/lib/python3.11/dist-packages (from wandb) (8.2.0)\n",
            "Requirement already satisfied: docker-pycreds>=0.4.0 in /usr/local/lib/python3.11/dist-packages (from wandb) (0.4.0)\n",
            "Requirement already satisfied: gitpython!=3.1.29,>=1.0.0 in /usr/local/lib/python3.11/dist-packages (from wandb) (3.1.44)\n",
            "Requirement already satisfied: platformdirs in /usr/local/lib/python3.11/dist-packages (from wandb) (4.3.8)\n",
            "Requirement already satisfied: protobuf!=4.21.0,!=5.28.0,<7,>=3.19.0 in /usr/local/lib/python3.11/dist-packages (from wandb) (5.29.4)\n",
            "Requirement already satisfied: psutil>=5.0.0 in /usr/local/lib/python3.11/dist-packages (from wandb) (5.9.5)\n",
            "Requirement already satisfied: pydantic<3 in /usr/local/lib/python3.11/dist-packages (from wandb) (2.11.4)\n",
            "Requirement already satisfied: pyyaml in /usr/local/lib/python3.11/dist-packages (from wandb) (6.0.2)\n",
            "Requirement already satisfied: requests<3,>=2.0.0 in /usr/local/lib/python3.11/dist-packages (from wandb) (2.32.3)\n",
            "Requirement already satisfied: sentry-sdk>=2.0.0 in /usr/local/lib/python3.11/dist-packages (from wandb) (2.28.0)\n",
            "Requirement already satisfied: setproctitle in /usr/local/lib/python3.11/dist-packages (from wandb) (1.3.6)\n",
            "Requirement already satisfied: setuptools in /usr/local/lib/python3.11/dist-packages (from wandb) (75.2.0)\n",
            "Requirement already satisfied: typing-extensions<5,>=4.4 in /usr/local/lib/python3.11/dist-packages (from wandb) (4.13.2)\n",
            "Requirement already satisfied: six>=1.4.0 in /usr/local/lib/python3.11/dist-packages (from docker-pycreds>=0.4.0->wandb) (1.17.0)\n",
            "Requirement already satisfied: gitdb<5,>=4.0.1 in /usr/local/lib/python3.11/dist-packages (from gitpython!=3.1.29,>=1.0.0->wandb) (4.0.12)\n",
            "Requirement already satisfied: annotated-types>=0.6.0 in /usr/local/lib/python3.11/dist-packages (from pydantic<3->wandb) (0.7.0)\n",
            "Requirement already satisfied: pydantic-core==2.33.2 in /usr/local/lib/python3.11/dist-packages (from pydantic<3->wandb) (2.33.2)\n",
            "Requirement already satisfied: typing-inspection>=0.4.0 in /usr/local/lib/python3.11/dist-packages (from pydantic<3->wandb) (0.4.0)\n",
            "Requirement already satisfied: charset-normalizer<4,>=2 in /usr/local/lib/python3.11/dist-packages (from requests<3,>=2.0.0->wandb) (3.4.2)\n",
            "Requirement already satisfied: idna<4,>=2.5 in /usr/local/lib/python3.11/dist-packages (from requests<3,>=2.0.0->wandb) (3.10)\n",
            "Requirement already satisfied: urllib3<3,>=1.21.1 in /usr/local/lib/python3.11/dist-packages (from requests<3,>=2.0.0->wandb) (2.4.0)\n",
            "Requirement already satisfied: certifi>=2017.4.17 in /usr/local/lib/python3.11/dist-packages (from requests<3,>=2.0.0->wandb) (2025.4.26)\n",
            "Requirement already satisfied: smmap<6,>=3.0.1 in /usr/local/lib/python3.11/dist-packages (from gitdb<5,>=4.0.1->gitpython!=3.1.29,>=1.0.0->wandb) (5.0.2)\n"
          ]
        }
      ]
    },
    {
      "cell_type": "code",
      "source": [
        "import wandb\n",
        "wandb.login()"
      ],
      "metadata": {
        "colab": {
          "base_uri": "https://localhost:8080/",
          "height": 191
        },
        "id": "4QGc9AC9SoEE",
        "outputId": "6b7a731f-0f86-47b1-af62-01f48c1fa745"
      },
      "execution_count": null,
      "outputs": [
        {
          "output_type": "display_data",
          "data": {
            "text/plain": [
              "<IPython.core.display.Javascript object>"
            ],
            "application/javascript": [
              "\n",
              "        window._wandbApiKey = new Promise((resolve, reject) => {\n",
              "            function loadScript(url) {\n",
              "            return new Promise(function(resolve, reject) {\n",
              "                let newScript = document.createElement(\"script\");\n",
              "                newScript.onerror = reject;\n",
              "                newScript.onload = resolve;\n",
              "                document.body.appendChild(newScript);\n",
              "                newScript.src = url;\n",
              "            });\n",
              "            }\n",
              "            loadScript(\"https://cdn.jsdelivr.net/npm/postmate/build/postmate.min.js\").then(() => {\n",
              "            const iframe = document.createElement('iframe')\n",
              "            iframe.style.cssText = \"width:0;height:0;border:none\"\n",
              "            document.body.appendChild(iframe)\n",
              "            const handshake = new Postmate({\n",
              "                container: iframe,\n",
              "                url: 'https://wandb.ai/authorize'\n",
              "            });\n",
              "            const timeout = setTimeout(() => reject(\"Couldn't auto authenticate\"), 5000)\n",
              "            handshake.then(function(child) {\n",
              "                child.on('authorize', data => {\n",
              "                    clearTimeout(timeout)\n",
              "                    resolve(data)\n",
              "                });\n",
              "            });\n",
              "            })\n",
              "        });\n",
              "    "
            ]
          },
          "metadata": {}
        },
        {
          "output_type": "stream",
          "name": "stderr",
          "text": [
            "\u001b[34m\u001b[1mwandb\u001b[0m: Logging into wandb.ai. (Learn how to deploy a W&B server locally: https://wandb.me/wandb-server)\n",
            "\u001b[34m\u001b[1mwandb\u001b[0m: You can find your API key in your browser here: https://wandb.ai/authorize\n",
            "wandb: Paste an API key from your profile and hit enter:"
          ]
        },
        {
          "name": "stdout",
          "output_type": "stream",
          "text": [
            " ··········\n"
          ]
        },
        {
          "output_type": "stream",
          "name": "stderr",
          "text": [
            "\u001b[34m\u001b[1mwandb\u001b[0m: \u001b[33mWARNING\u001b[0m If you're specifying your api key in code, ensure this code is not shared publicly.\n",
            "\u001b[34m\u001b[1mwandb\u001b[0m: \u001b[33mWARNING\u001b[0m Consider setting the WANDB_API_KEY environment variable, or running `wandb login` from the command line.\n",
            "\u001b[34m\u001b[1mwandb\u001b[0m: No netrc file found, creating one.\n",
            "\u001b[34m\u001b[1mwandb\u001b[0m: Appending key for api.wandb.ai to your netrc file: /root/.netrc\n",
            "\u001b[34m\u001b[1mwandb\u001b[0m: Currently logged in as: \u001b[33momergunal84\u001b[0m (\u001b[33momergunal84-hacettepe-university\u001b[0m) to \u001b[32mhttps://api.wandb.ai\u001b[0m. Use \u001b[1m`wandb login --relogin`\u001b[0m to force relogin\n"
          ]
        },
        {
          "output_type": "execute_result",
          "data": {
            "text/plain": [
              "True"
            ]
          },
          "metadata": {},
          "execution_count": 18
        }
      ]
    },
    {
      "cell_type": "code",
      "source": [
        "import tensorflow as tf\n",
        "from tensorflow.keras import layers, models, initializers\n",
        "import wandb\n",
        "from wandb.integration.keras import WandbMetricsLogger\n",
        "\n",
        "# Sweep configuration\n",
        "sweep_config = {\n",
        "    'method': 'bayes', # choosing optimum hyperparameters in every sweep\n",
        "    'metric': {'name': 'val_accuracy', 'goal': 'maximize'},\n",
        "    'parameters': { # according to q3\n",
        "        'optimizer': {'values': ['adam', 'sgd']},\n",
        "        'learning_rate': {'values': [0.01, 0.001, 0.0001]},\n",
        "        'batch_size': {'values': [32, 64, 128]},\n",
        "        'dropout_rate': {'values': [0.2, 0.5, 0.7]},\n",
        "        'init_mode': {'values': ['he_uniform', 'glorot_uniform']},\n",
        "        'epochs': {'value': 10}\n",
        "    }\n",
        "}\n",
        "\n",
        "sweep_id = wandb.sweep(sweep_config, project=\"cnn-mnist-optimization\")\n",
        "\n",
        "# Train function compatible with dynamic wandb hyperparameters\n",
        "def train():\n",
        "    with wandb.init() as run:\n",
        "        config = run.config\n",
        "\n",
        "        (x_train, y_train), _ = tf.keras.datasets.mnist.load_data()\n",
        "        x_train = x_train.reshape(-1, 28, 28, 1).astype('float32') / 255.0\n",
        "\n",
        "        initializer = initializers.get(config.init_mode)\n",
        "\n",
        "        optimizer = tf.keras.optimizers.get({\n",
        "            'class_name': config.optimizer,\n",
        "            'config': {'learning_rate': config.learning_rate}\n",
        "        })\n",
        "\n",
        "        # Our model with deeper convolutional layers\n",
        "        model = models.Sequential([\n",
        "            layers.Input(shape=(28, 28, 1)),\n",
        "            layers.Conv2D(32, 3, padding='same', activation='relu', kernel_initializer=initializer),\n",
        "            layers.Conv2D(32, 3, padding='same', activation='relu', kernel_initializer=initializer),\n",
        "            layers.MaxPooling2D(2),\n",
        "            layers.Conv2D(64, 3, padding='same', activation='relu', kernel_initializer=initializer),\n",
        "            layers.MaxPooling2D(2),\n",
        "            layers.Flatten(),\n",
        "            layers.Dense(64, activation='relu', kernel_initializer=initializer),\n",
        "            layers.Dropout(config.dropout_rate),\n",
        "            layers.Dense(10, activation='softmax', kernel_initializer=initializer)\n",
        "        ])\n",
        "\n",
        "        model.compile(optimizer=optimizer,\n",
        "                      loss='sparse_categorical_crossentropy',\n",
        "                      metrics=['accuracy'])\n",
        "\n",
        "        model.fit(\n",
        "            x_train, y_train,\n",
        "            epochs=config.epochs,\n",
        "            batch_size=config.batch_size,\n",
        "            validation_split=0.2,\n",
        "            verbose=2,\n",
        "            callbacks=[WandbMetricsLogger()]\n",
        "        )\n",
        "\n",
        "\n",
        "wandb.agent(sweep_id, function=train)\n"
      ],
      "metadata": {
        "colab": {
          "base_uri": "https://localhost:8080/",
          "height": 1000
        },
        "id": "7c08bQ0LRcsb",
        "outputId": "55fda41b-8d75-4e2d-f0cc-f1f28af55908"
      },
      "execution_count": null,
      "outputs": [
        {
          "output_type": "stream",
          "name": "stdout",
          "text": [
            "Create sweep with ID: dpof9qfz\n",
            "Sweep URL: https://wandb.ai/omergunal84-hacettepe-university/cnn-mnist-optimization/sweeps/dpof9qfz\n"
          ]
        },
        {
          "output_type": "stream",
          "name": "stderr",
          "text": [
            "\u001b[34m\u001b[1mwandb\u001b[0m: Agent Starting Run: lyquqj6p with config:\n",
            "\u001b[34m\u001b[1mwandb\u001b[0m: \tbatch_size: 32\n",
            "\u001b[34m\u001b[1mwandb\u001b[0m: \tdropout_rate: 0.2\n",
            "\u001b[34m\u001b[1mwandb\u001b[0m: \tepochs: 10\n",
            "\u001b[34m\u001b[1mwandb\u001b[0m: \tinit_mode: he_uniform\n",
            "\u001b[34m\u001b[1mwandb\u001b[0m: \tlearning_rate: 0.01\n",
            "\u001b[34m\u001b[1mwandb\u001b[0m: \toptimizer: adam\n"
          ]
        },
        {
          "output_type": "display_data",
          "data": {
            "text/plain": [
              "<IPython.core.display.HTML object>"
            ],
            "text/html": [
              "Tracking run with wandb version 0.19.11"
            ]
          },
          "metadata": {}
        },
        {
          "output_type": "display_data",
          "data": {
            "text/plain": [
              "<IPython.core.display.HTML object>"
            ],
            "text/html": [
              "Run data is saved locally in <code>/content/wandb/run-20250518_073509-lyquqj6p</code>"
            ]
          },
          "metadata": {}
        },
        {
          "output_type": "display_data",
          "data": {
            "text/plain": [
              "<IPython.core.display.HTML object>"
            ],
            "text/html": [
              "Syncing run <strong><a href='https://wandb.ai/omergunal84-hacettepe-university/cnn-mnist-optimization/runs/lyquqj6p' target=\"_blank\">honest-sweep-1</a></strong> to <a href='https://wandb.ai/omergunal84-hacettepe-university/cnn-mnist-optimization' target=\"_blank\">Weights & Biases</a> (<a href='https://wandb.me/developer-guide' target=\"_blank\">docs</a>)<br>Sweep page: <a href='https://wandb.ai/omergunal84-hacettepe-university/cnn-mnist-optimization/sweeps/dpof9qfz' target=\"_blank\">https://wandb.ai/omergunal84-hacettepe-university/cnn-mnist-optimization/sweeps/dpof9qfz</a>"
            ]
          },
          "metadata": {}
        },
        {
          "output_type": "display_data",
          "data": {
            "text/plain": [
              "<IPython.core.display.HTML object>"
            ],
            "text/html": [
              " View project at <a href='https://wandb.ai/omergunal84-hacettepe-university/cnn-mnist-optimization' target=\"_blank\">https://wandb.ai/omergunal84-hacettepe-university/cnn-mnist-optimization</a>"
            ]
          },
          "metadata": {}
        },
        {
          "output_type": "display_data",
          "data": {
            "text/plain": [
              "<IPython.core.display.HTML object>"
            ],
            "text/html": [
              " View sweep at <a href='https://wandb.ai/omergunal84-hacettepe-university/cnn-mnist-optimization/sweeps/dpof9qfz' target=\"_blank\">https://wandb.ai/omergunal84-hacettepe-university/cnn-mnist-optimization/sweeps/dpof9qfz</a>"
            ]
          },
          "metadata": {}
        },
        {
          "output_type": "display_data",
          "data": {
            "text/plain": [
              "<IPython.core.display.HTML object>"
            ],
            "text/html": [
              " View run at <a href='https://wandb.ai/omergunal84-hacettepe-university/cnn-mnist-optimization/runs/lyquqj6p' target=\"_blank\">https://wandb.ai/omergunal84-hacettepe-university/cnn-mnist-optimization/runs/lyquqj6p</a>"
            ]
          },
          "metadata": {}
        },
        {
          "output_type": "stream",
          "name": "stdout",
          "text": [
            "Epoch 1/10\n",
            "1500/1500 - 9s - 6ms/step - accuracy: 0.9380 - loss: 0.2118 - val_accuracy: 0.9751 - val_loss: 0.0873\n",
            "Epoch 2/10\n",
            "1500/1500 - 8s - 5ms/step - accuracy: 0.9628 - loss: 0.1282 - val_accuracy: 0.9772 - val_loss: 0.0755\n",
            "Epoch 3/10\n",
            "1500/1500 - 10s - 7ms/step - accuracy: 0.9650 - loss: 0.1209 - val_accuracy: 0.9722 - val_loss: 0.0939\n",
            "Epoch 4/10\n",
            "1500/1500 - 10s - 6ms/step - accuracy: 0.9671 - loss: 0.1135 - val_accuracy: 0.9756 - val_loss: 0.1021\n",
            "Epoch 5/10\n",
            "1500/1500 - 10s - 7ms/step - accuracy: 0.9691 - loss: 0.1109 - val_accuracy: 0.9787 - val_loss: 0.0776\n",
            "Epoch 6/10\n",
            "1500/1500 - 11s - 7ms/step - accuracy: 0.9703 - loss: 0.1077 - val_accuracy: 0.9758 - val_loss: 0.0904\n",
            "Epoch 7/10\n",
            "1500/1500 - 6s - 4ms/step - accuracy: 0.9712 - loss: 0.1075 - val_accuracy: 0.9772 - val_loss: 0.1057\n",
            "Epoch 8/10\n",
            "1500/1500 - 10s - 6ms/step - accuracy: 0.9718 - loss: 0.1038 - val_accuracy: 0.9745 - val_loss: 0.0973\n",
            "Epoch 9/10\n",
            "1500/1500 - 6s - 4ms/step - accuracy: 0.9746 - loss: 0.0955 - val_accuracy: 0.9833 - val_loss: 0.0938\n",
            "Epoch 10/10\n",
            "1500/1500 - 5s - 3ms/step - accuracy: 0.9725 - loss: 0.1048 - val_accuracy: 0.9748 - val_loss: 0.1000\n"
          ]
        },
        {
          "output_type": "display_data",
          "data": {
            "text/plain": [
              "<IPython.core.display.HTML object>"
            ],
            "text/html": []
          },
          "metadata": {}
        },
        {
          "output_type": "display_data",
          "data": {
            "text/plain": [
              "<IPython.core.display.HTML object>"
            ],
            "text/html": [
              "<br>    <style><br>        .wandb-row {<br>            display: flex;<br>            flex-direction: row;<br>            flex-wrap: wrap;<br>            justify-content: flex-start;<br>            width: 100%;<br>        }<br>        .wandb-col {<br>            display: flex;<br>            flex-direction: column;<br>            flex-basis: 100%;<br>            flex: 1;<br>            padding: 10px;<br>        }<br>    </style><br><div class=\"wandb-row\"><div class=\"wandb-col\"><h3>Run history:</h3><br/><table class=\"wandb\"><tr><td>epoch/accuracy</td><td>▁▆▆▇▇▇▇▇██</td></tr><tr><td>epoch/epoch</td><td>▁▂▃▃▄▅▆▆▇█</td></tr><tr><td>epoch/learning_rate</td><td>▁▁▁▁▁▁▁▁▁▁</td></tr><tr><td>epoch/loss</td><td>█▃▃▂▂▂▂▂▁▂</td></tr><tr><td>epoch/val_accuracy</td><td>▃▄▁▃▅▃▄▂█▃</td></tr><tr><td>epoch/val_loss</td><td>▄▁▅▇▁▄█▆▅▇</td></tr></table><br/></div><div class=\"wandb-col\"><h3>Run summary:</h3><br/><table class=\"wandb\"><tr><td>epoch/accuracy</td><td>0.97254</td></tr><tr><td>epoch/epoch</td><td>9</td></tr><tr><td>epoch/learning_rate</td><td>0.01</td></tr><tr><td>epoch/loss</td><td>0.10477</td></tr><tr><td>epoch/val_accuracy</td><td>0.97483</td></tr><tr><td>epoch/val_loss</td><td>0.10004</td></tr></table><br/></div></div>"
            ]
          },
          "metadata": {}
        },
        {
          "output_type": "display_data",
          "data": {
            "text/plain": [
              "<IPython.core.display.HTML object>"
            ],
            "text/html": [
              " View run <strong style=\"color:#cdcd00\">honest-sweep-1</strong> at: <a href='https://wandb.ai/omergunal84-hacettepe-university/cnn-mnist-optimization/runs/lyquqj6p' target=\"_blank\">https://wandb.ai/omergunal84-hacettepe-university/cnn-mnist-optimization/runs/lyquqj6p</a><br> View project at: <a href='https://wandb.ai/omergunal84-hacettepe-university/cnn-mnist-optimization' target=\"_blank\">https://wandb.ai/omergunal84-hacettepe-university/cnn-mnist-optimization</a><br>Synced 5 W&B file(s), 0 media file(s), 0 artifact file(s) and 0 other file(s)"
            ]
          },
          "metadata": {}
        },
        {
          "output_type": "display_data",
          "data": {
            "text/plain": [
              "<IPython.core.display.HTML object>"
            ],
            "text/html": [
              "Find logs at: <code>./wandb/run-20250518_073509-lyquqj6p/logs</code>"
            ]
          },
          "metadata": {}
        },
        {
          "output_type": "stream",
          "name": "stderr",
          "text": [
            "\u001b[34m\u001b[1mwandb\u001b[0m: Agent Starting Run: 8uz7q3lx with config:\n",
            "\u001b[34m\u001b[1mwandb\u001b[0m: \tbatch_size: 64\n",
            "\u001b[34m\u001b[1mwandb\u001b[0m: \tdropout_rate: 0.5\n",
            "\u001b[34m\u001b[1mwandb\u001b[0m: \tepochs: 10\n",
            "\u001b[34m\u001b[1mwandb\u001b[0m: \tinit_mode: glorot_uniform\n",
            "\u001b[34m\u001b[1mwandb\u001b[0m: \tlearning_rate: 0.0001\n",
            "\u001b[34m\u001b[1mwandb\u001b[0m: \toptimizer: sgd\n"
          ]
        },
        {
          "output_type": "display_data",
          "data": {
            "text/plain": [
              "<IPython.core.display.HTML object>"
            ],
            "text/html": [
              "Tracking run with wandb version 0.19.11"
            ]
          },
          "metadata": {}
        },
        {
          "output_type": "display_data",
          "data": {
            "text/plain": [
              "<IPython.core.display.HTML object>"
            ],
            "text/html": [
              "Run data is saved locally in <code>/content/wandb/run-20250518_073641-8uz7q3lx</code>"
            ]
          },
          "metadata": {}
        },
        {
          "output_type": "display_data",
          "data": {
            "text/plain": [
              "<IPython.core.display.HTML object>"
            ],
            "text/html": [
              "Syncing run <strong><a href='https://wandb.ai/omergunal84-hacettepe-university/cnn-mnist-optimization/runs/8uz7q3lx' target=\"_blank\">dauntless-sweep-2</a></strong> to <a href='https://wandb.ai/omergunal84-hacettepe-university/cnn-mnist-optimization' target=\"_blank\">Weights & Biases</a> (<a href='https://wandb.me/developer-guide' target=\"_blank\">docs</a>)<br>Sweep page: <a href='https://wandb.ai/omergunal84-hacettepe-university/cnn-mnist-optimization/sweeps/dpof9qfz' target=\"_blank\">https://wandb.ai/omergunal84-hacettepe-university/cnn-mnist-optimization/sweeps/dpof9qfz</a>"
            ]
          },
          "metadata": {}
        },
        {
          "output_type": "display_data",
          "data": {
            "text/plain": [
              "<IPython.core.display.HTML object>"
            ],
            "text/html": [
              " View project at <a href='https://wandb.ai/omergunal84-hacettepe-university/cnn-mnist-optimization' target=\"_blank\">https://wandb.ai/omergunal84-hacettepe-university/cnn-mnist-optimization</a>"
            ]
          },
          "metadata": {}
        },
        {
          "output_type": "display_data",
          "data": {
            "text/plain": [
              "<IPython.core.display.HTML object>"
            ],
            "text/html": [
              " View sweep at <a href='https://wandb.ai/omergunal84-hacettepe-university/cnn-mnist-optimization/sweeps/dpof9qfz' target=\"_blank\">https://wandb.ai/omergunal84-hacettepe-university/cnn-mnist-optimization/sweeps/dpof9qfz</a>"
            ]
          },
          "metadata": {}
        },
        {
          "output_type": "display_data",
          "data": {
            "text/plain": [
              "<IPython.core.display.HTML object>"
            ],
            "text/html": [
              " View run at <a href='https://wandb.ai/omergunal84-hacettepe-university/cnn-mnist-optimization/runs/8uz7q3lx' target=\"_blank\">https://wandb.ai/omergunal84-hacettepe-university/cnn-mnist-optimization/runs/8uz7q3lx</a>"
            ]
          },
          "metadata": {}
        },
        {
          "output_type": "stream",
          "name": "stdout",
          "text": [
            "Epoch 1/10\n",
            "750/750 - 5s - 7ms/step - accuracy: 0.0949 - loss: 2.3052 - val_accuracy: 0.0794 - val_loss: 2.3000\n",
            "Epoch 2/10\n",
            "750/750 - 3s - 5ms/step - accuracy: 0.1076 - loss: 2.2968 - val_accuracy: 0.0972 - val_loss: 2.2919\n",
            "Epoch 3/10\n",
            "750/750 - 5s - 6ms/step - accuracy: 0.1283 - loss: 2.2889 - val_accuracy: 0.1225 - val_loss: 2.2841\n",
            "Epoch 4/10\n",
            "750/750 - 5s - 7ms/step - accuracy: 0.1531 - loss: 2.2810 - val_accuracy: 0.1616 - val_loss: 2.2768\n",
            "Epoch 5/10\n",
            "750/750 - 4s - 5ms/step - accuracy: 0.1686 - loss: 2.2747 - val_accuracy: 0.2104 - val_loss: 2.2698\n",
            "Epoch 6/10\n",
            "750/750 - 5s - 7ms/step - accuracy: 0.1932 - loss: 2.2678 - val_accuracy: 0.2717 - val_loss: 2.2626\n",
            "Epoch 7/10\n",
            "750/750 - 3s - 4ms/step - accuracy: 0.2082 - loss: 2.2613 - val_accuracy: 0.3239 - val_loss: 2.2551\n",
            "Epoch 8/10\n",
            "750/750 - 6s - 7ms/step - accuracy: 0.2229 - loss: 2.2539 - val_accuracy: 0.3736 - val_loss: 2.2469\n",
            "Epoch 9/10\n",
            "750/750 - 3s - 4ms/step - accuracy: 0.2397 - loss: 2.2453 - val_accuracy: 0.4092 - val_loss: 2.2378\n",
            "Epoch 10/10\n",
            "750/750 - 5s - 7ms/step - accuracy: 0.2565 - loss: 2.2364 - val_accuracy: 0.4387 - val_loss: 2.2273\n"
          ]
        },
        {
          "output_type": "display_data",
          "data": {
            "text/plain": [
              "<IPython.core.display.HTML object>"
            ],
            "text/html": []
          },
          "metadata": {}
        },
        {
          "output_type": "display_data",
          "data": {
            "text/plain": [
              "<IPython.core.display.HTML object>"
            ],
            "text/html": [
              "<br>    <style><br>        .wandb-row {<br>            display: flex;<br>            flex-direction: row;<br>            flex-wrap: wrap;<br>            justify-content: flex-start;<br>            width: 100%;<br>        }<br>        .wandb-col {<br>            display: flex;<br>            flex-direction: column;<br>            flex-basis: 100%;<br>            flex: 1;<br>            padding: 10px;<br>        }<br>    </style><br><div class=\"wandb-row\"><div class=\"wandb-col\"><h3>Run history:</h3><br/><table class=\"wandb\"><tr><td>epoch/accuracy</td><td>▁▂▂▄▄▅▆▇▇█</td></tr><tr><td>epoch/epoch</td><td>▁▂▃▃▄▅▆▆▇█</td></tr><tr><td>epoch/learning_rate</td><td>▁▁▁▁▁▁▁▁▁▁</td></tr><tr><td>epoch/loss</td><td>█▇▆▆▅▄▄▃▂▁</td></tr><tr><td>epoch/val_accuracy</td><td>▁▁▂▃▄▅▆▇▇█</td></tr><tr><td>epoch/val_loss</td><td>█▇▆▆▅▄▄▃▂▁</td></tr></table><br/></div><div class=\"wandb-col\"><h3>Run summary:</h3><br/><table class=\"wandb\"><tr><td>epoch/accuracy</td><td>0.25648</td></tr><tr><td>epoch/epoch</td><td>9</td></tr><tr><td>epoch/learning_rate</td><td>0.0001</td></tr><tr><td>epoch/loss</td><td>2.2364</td></tr><tr><td>epoch/val_accuracy</td><td>0.43875</td></tr><tr><td>epoch/val_loss</td><td>2.22727</td></tr></table><br/></div></div>"
            ]
          },
          "metadata": {}
        },
        {
          "output_type": "display_data",
          "data": {
            "text/plain": [
              "<IPython.core.display.HTML object>"
            ],
            "text/html": [
              " View run <strong style=\"color:#cdcd00\">dauntless-sweep-2</strong> at: <a href='https://wandb.ai/omergunal84-hacettepe-university/cnn-mnist-optimization/runs/8uz7q3lx' target=\"_blank\">https://wandb.ai/omergunal84-hacettepe-university/cnn-mnist-optimization/runs/8uz7q3lx</a><br> View project at: <a href='https://wandb.ai/omergunal84-hacettepe-university/cnn-mnist-optimization' target=\"_blank\">https://wandb.ai/omergunal84-hacettepe-university/cnn-mnist-optimization</a><br>Synced 5 W&B file(s), 0 media file(s), 0 artifact file(s) and 0 other file(s)"
            ]
          },
          "metadata": {}
        },
        {
          "output_type": "display_data",
          "data": {
            "text/plain": [
              "<IPython.core.display.HTML object>"
            ],
            "text/html": [
              "Find logs at: <code>./wandb/run-20250518_073641-8uz7q3lx/logs</code>"
            ]
          },
          "metadata": {}
        },
        {
          "output_type": "stream",
          "name": "stderr",
          "text": [
            "\u001b[34m\u001b[1mwandb\u001b[0m: Agent Starting Run: zn3svxmr with config:\n",
            "\u001b[34m\u001b[1mwandb\u001b[0m: \tbatch_size: 128\n",
            "\u001b[34m\u001b[1mwandb\u001b[0m: \tdropout_rate: 0.2\n",
            "\u001b[34m\u001b[1mwandb\u001b[0m: \tepochs: 10\n",
            "\u001b[34m\u001b[1mwandb\u001b[0m: \tinit_mode: glorot_uniform\n",
            "\u001b[34m\u001b[1mwandb\u001b[0m: \tlearning_rate: 0.01\n",
            "\u001b[34m\u001b[1mwandb\u001b[0m: \toptimizer: adam\n"
          ]
        },
        {
          "output_type": "display_data",
          "data": {
            "text/plain": [
              "<IPython.core.display.HTML object>"
            ],
            "text/html": [
              "Tracking run with wandb version 0.19.11"
            ]
          },
          "metadata": {}
        },
        {
          "output_type": "display_data",
          "data": {
            "text/plain": [
              "<IPython.core.display.HTML object>"
            ],
            "text/html": [
              "Run data is saved locally in <code>/content/wandb/run-20250518_073736-zn3svxmr</code>"
            ]
          },
          "metadata": {}
        },
        {
          "output_type": "display_data",
          "data": {
            "text/plain": [
              "<IPython.core.display.HTML object>"
            ],
            "text/html": [
              "Syncing run <strong><a href='https://wandb.ai/omergunal84-hacettepe-university/cnn-mnist-optimization/runs/zn3svxmr' target=\"_blank\">sweepy-sweep-3</a></strong> to <a href='https://wandb.ai/omergunal84-hacettepe-university/cnn-mnist-optimization' target=\"_blank\">Weights & Biases</a> (<a href='https://wandb.me/developer-guide' target=\"_blank\">docs</a>)<br>Sweep page: <a href='https://wandb.ai/omergunal84-hacettepe-university/cnn-mnist-optimization/sweeps/dpof9qfz' target=\"_blank\">https://wandb.ai/omergunal84-hacettepe-university/cnn-mnist-optimization/sweeps/dpof9qfz</a>"
            ]
          },
          "metadata": {}
        },
        {
          "output_type": "display_data",
          "data": {
            "text/plain": [
              "<IPython.core.display.HTML object>"
            ],
            "text/html": [
              " View project at <a href='https://wandb.ai/omergunal84-hacettepe-university/cnn-mnist-optimization' target=\"_blank\">https://wandb.ai/omergunal84-hacettepe-university/cnn-mnist-optimization</a>"
            ]
          },
          "metadata": {}
        },
        {
          "output_type": "display_data",
          "data": {
            "text/plain": [
              "<IPython.core.display.HTML object>"
            ],
            "text/html": [
              " View sweep at <a href='https://wandb.ai/omergunal84-hacettepe-university/cnn-mnist-optimization/sweeps/dpof9qfz' target=\"_blank\">https://wandb.ai/omergunal84-hacettepe-university/cnn-mnist-optimization/sweeps/dpof9qfz</a>"
            ]
          },
          "metadata": {}
        },
        {
          "output_type": "display_data",
          "data": {
            "text/plain": [
              "<IPython.core.display.HTML object>"
            ],
            "text/html": [
              " View run at <a href='https://wandb.ai/omergunal84-hacettepe-university/cnn-mnist-optimization/runs/zn3svxmr' target=\"_blank\">https://wandb.ai/omergunal84-hacettepe-university/cnn-mnist-optimization/runs/zn3svxmr</a>"
            ]
          },
          "metadata": {}
        },
        {
          "output_type": "stream",
          "name": "stdout",
          "text": [
            "Epoch 1/10\n",
            "375/375 - 7s - 18ms/step - accuracy: 0.9399 - loss: 0.1914 - val_accuracy: 0.9823 - val_loss: 0.0559\n",
            "Epoch 2/10\n",
            "375/375 - 2s - 6ms/step - accuracy: 0.9774 - loss: 0.0789 - val_accuracy: 0.9864 - val_loss: 0.0448\n",
            "Epoch 3/10\n",
            "375/375 - 3s - 7ms/step - accuracy: 0.9817 - loss: 0.0600 - val_accuracy: 0.9838 - val_loss: 0.0552\n",
            "Epoch 4/10\n",
            "375/375 - 3s - 7ms/step - accuracy: 0.9837 - loss: 0.0547 - val_accuracy: 0.9835 - val_loss: 0.0550\n",
            "Epoch 5/10\n",
            "375/375 - 3s - 8ms/step - accuracy: 0.9838 - loss: 0.0566 - val_accuracy: 0.9845 - val_loss: 0.0525\n",
            "Epoch 6/10\n",
            "375/375 - 2s - 7ms/step - accuracy: 0.9845 - loss: 0.0491 - val_accuracy: 0.9866 - val_loss: 0.0533\n",
            "Epoch 7/10\n",
            "375/375 - 2s - 7ms/step - accuracy: 0.9872 - loss: 0.0447 - val_accuracy: 0.9886 - val_loss: 0.0479\n",
            "Epoch 8/10\n",
            "375/375 - 2s - 6ms/step - accuracy: 0.9860 - loss: 0.0451 - val_accuracy: 0.9812 - val_loss: 0.0826\n",
            "Epoch 9/10\n",
            "375/375 - 3s - 8ms/step - accuracy: 0.9848 - loss: 0.0516 - val_accuracy: 0.9826 - val_loss: 0.0836\n",
            "Epoch 10/10\n",
            "375/375 - 5s - 13ms/step - accuracy: 0.9869 - loss: 0.0449 - val_accuracy: 0.9876 - val_loss: 0.0649\n"
          ]
        },
        {
          "output_type": "display_data",
          "data": {
            "text/plain": [
              "<IPython.core.display.HTML object>"
            ],
            "text/html": []
          },
          "metadata": {}
        },
        {
          "output_type": "display_data",
          "data": {
            "text/plain": [
              "<IPython.core.display.HTML object>"
            ],
            "text/html": [
              "<br>    <style><br>        .wandb-row {<br>            display: flex;<br>            flex-direction: row;<br>            flex-wrap: wrap;<br>            justify-content: flex-start;<br>            width: 100%;<br>        }<br>        .wandb-col {<br>            display: flex;<br>            flex-direction: column;<br>            flex-basis: 100%;<br>            flex: 1;<br>            padding: 10px;<br>        }<br>    </style><br><div class=\"wandb-row\"><div class=\"wandb-col\"><h3>Run history:</h3><br/><table class=\"wandb\"><tr><td>epoch/accuracy</td><td>▁▇▇▇▇█████</td></tr><tr><td>epoch/epoch</td><td>▁▂▃▃▄▅▆▆▇█</td></tr><tr><td>epoch/learning_rate</td><td>▁▁▁▁▁▁▁▁▁▁</td></tr><tr><td>epoch/loss</td><td>█▃▂▁▂▁▁▁▁▁</td></tr><tr><td>epoch/val_accuracy</td><td>▂▆▃▃▄▆█▁▂▇</td></tr><tr><td>epoch/val_loss</td><td>▃▁▃▃▂▃▂██▅</td></tr></table><br/></div><div class=\"wandb-col\"><h3>Run summary:</h3><br/><table class=\"wandb\"><tr><td>epoch/accuracy</td><td>0.9869</td></tr><tr><td>epoch/epoch</td><td>9</td></tr><tr><td>epoch/learning_rate</td><td>0.01</td></tr><tr><td>epoch/loss</td><td>0.04492</td></tr><tr><td>epoch/val_accuracy</td><td>0.98758</td></tr><tr><td>epoch/val_loss</td><td>0.06487</td></tr></table><br/></div></div>"
            ]
          },
          "metadata": {}
        },
        {
          "output_type": "display_data",
          "data": {
            "text/plain": [
              "<IPython.core.display.HTML object>"
            ],
            "text/html": [
              " View run <strong style=\"color:#cdcd00\">sweepy-sweep-3</strong> at: <a href='https://wandb.ai/omergunal84-hacettepe-university/cnn-mnist-optimization/runs/zn3svxmr' target=\"_blank\">https://wandb.ai/omergunal84-hacettepe-university/cnn-mnist-optimization/runs/zn3svxmr</a><br> View project at: <a href='https://wandb.ai/omergunal84-hacettepe-university/cnn-mnist-optimization' target=\"_blank\">https://wandb.ai/omergunal84-hacettepe-university/cnn-mnist-optimization</a><br>Synced 5 W&B file(s), 0 media file(s), 0 artifact file(s) and 0 other file(s)"
            ]
          },
          "metadata": {}
        },
        {
          "output_type": "display_data",
          "data": {
            "text/plain": [
              "<IPython.core.display.HTML object>"
            ],
            "text/html": [
              "Find logs at: <code>./wandb/run-20250518_073736-zn3svxmr/logs</code>"
            ]
          },
          "metadata": {}
        },
        {
          "output_type": "stream",
          "name": "stderr",
          "text": [
            "\u001b[34m\u001b[1mwandb\u001b[0m: Agent Starting Run: 47gbtgxf with config:\n",
            "\u001b[34m\u001b[1mwandb\u001b[0m: \tbatch_size: 128\n",
            "\u001b[34m\u001b[1mwandb\u001b[0m: \tdropout_rate: 0.2\n",
            "\u001b[34m\u001b[1mwandb\u001b[0m: \tepochs: 10\n",
            "\u001b[34m\u001b[1mwandb\u001b[0m: \tinit_mode: he_uniform\n",
            "\u001b[34m\u001b[1mwandb\u001b[0m: \tlearning_rate: 0.0001\n",
            "\u001b[34m\u001b[1mwandb\u001b[0m: \toptimizer: sgd\n"
          ]
        },
        {
          "output_type": "display_data",
          "data": {
            "text/plain": [
              "<IPython.core.display.HTML object>"
            ],
            "text/html": [
              "Tracking run with wandb version 0.19.11"
            ]
          },
          "metadata": {}
        },
        {
          "output_type": "display_data",
          "data": {
            "text/plain": [
              "<IPython.core.display.HTML object>"
            ],
            "text/html": [
              "Run data is saved locally in <code>/content/wandb/run-20250518_073817-47gbtgxf</code>"
            ]
          },
          "metadata": {}
        },
        {
          "output_type": "display_data",
          "data": {
            "text/plain": [
              "<IPython.core.display.HTML object>"
            ],
            "text/html": [
              "Syncing run <strong><a href='https://wandb.ai/omergunal84-hacettepe-university/cnn-mnist-optimization/runs/47gbtgxf' target=\"_blank\">rich-sweep-4</a></strong> to <a href='https://wandb.ai/omergunal84-hacettepe-university/cnn-mnist-optimization' target=\"_blank\">Weights & Biases</a> (<a href='https://wandb.me/developer-guide' target=\"_blank\">docs</a>)<br>Sweep page: <a href='https://wandb.ai/omergunal84-hacettepe-university/cnn-mnist-optimization/sweeps/dpof9qfz' target=\"_blank\">https://wandb.ai/omergunal84-hacettepe-university/cnn-mnist-optimization/sweeps/dpof9qfz</a>"
            ]
          },
          "metadata": {}
        },
        {
          "output_type": "display_data",
          "data": {
            "text/plain": [
              "<IPython.core.display.HTML object>"
            ],
            "text/html": [
              " View project at <a href='https://wandb.ai/omergunal84-hacettepe-university/cnn-mnist-optimization' target=\"_blank\">https://wandb.ai/omergunal84-hacettepe-university/cnn-mnist-optimization</a>"
            ]
          },
          "metadata": {}
        },
        {
          "output_type": "display_data",
          "data": {
            "text/plain": [
              "<IPython.core.display.HTML object>"
            ],
            "text/html": [
              " View sweep at <a href='https://wandb.ai/omergunal84-hacettepe-university/cnn-mnist-optimization/sweeps/dpof9qfz' target=\"_blank\">https://wandb.ai/omergunal84-hacettepe-university/cnn-mnist-optimization/sweeps/dpof9qfz</a>"
            ]
          },
          "metadata": {}
        },
        {
          "output_type": "display_data",
          "data": {
            "text/plain": [
              "<IPython.core.display.HTML object>"
            ],
            "text/html": [
              " View run at <a href='https://wandb.ai/omergunal84-hacettepe-university/cnn-mnist-optimization/runs/47gbtgxf' target=\"_blank\">https://wandb.ai/omergunal84-hacettepe-university/cnn-mnist-optimization/runs/47gbtgxf</a>"
            ]
          },
          "metadata": {}
        },
        {
          "output_type": "stream",
          "name": "stdout",
          "text": [
            "Epoch 1/10\n",
            "375/375 - 6s - 15ms/step - accuracy: 0.1154 - loss: 2.3457 - val_accuracy: 0.1783 - val_loss: 2.2199\n",
            "Epoch 2/10\n",
            "375/375 - 8s - 21ms/step - accuracy: 0.1865 - loss: 2.1902 - val_accuracy: 0.2968 - val_loss: 2.1070\n",
            "Epoch 3/10\n",
            "375/375 - 5s - 13ms/step - accuracy: 0.2698 - loss: 2.0855 - val_accuracy: 0.3976 - val_loss: 2.0020\n",
            "Epoch 4/10\n",
            "375/375 - 2s - 7ms/step - accuracy: 0.3413 - loss: 1.9867 - val_accuracy: 0.4842 - val_loss: 1.8933\n",
            "Epoch 5/10\n",
            "375/375 - 3s - 7ms/step - accuracy: 0.4104 - loss: 1.8819 - val_accuracy: 0.5551 - val_loss: 1.7758\n",
            "Epoch 6/10\n",
            "375/375 - 3s - 7ms/step - accuracy: 0.4638 - loss: 1.7715 - val_accuracy: 0.6221 - val_loss: 1.6503\n",
            "Epoch 7/10\n",
            "375/375 - 2s - 6ms/step - accuracy: 0.5107 - loss: 1.6581 - val_accuracy: 0.6727 - val_loss: 1.5216\n",
            "Epoch 8/10\n",
            "375/375 - 2s - 7ms/step - accuracy: 0.5519 - loss: 1.5436 - val_accuracy: 0.7078 - val_loss: 1.3939\n",
            "Epoch 9/10\n",
            "375/375 - 3s - 7ms/step - accuracy: 0.5872 - loss: 1.4369 - val_accuracy: 0.7353 - val_loss: 1.2724\n",
            "Epoch 10/10\n",
            "375/375 - 2s - 7ms/step - accuracy: 0.6148 - loss: 1.3377 - val_accuracy: 0.7595 - val_loss: 1.1607\n"
          ]
        },
        {
          "output_type": "display_data",
          "data": {
            "text/plain": [
              "<IPython.core.display.HTML object>"
            ],
            "text/html": []
          },
          "metadata": {}
        },
        {
          "output_type": "display_data",
          "data": {
            "text/plain": [
              "<IPython.core.display.HTML object>"
            ],
            "text/html": [
              "<br>    <style><br>        .wandb-row {<br>            display: flex;<br>            flex-direction: row;<br>            flex-wrap: wrap;<br>            justify-content: flex-start;<br>            width: 100%;<br>        }<br>        .wandb-col {<br>            display: flex;<br>            flex-direction: column;<br>            flex-basis: 100%;<br>            flex: 1;<br>            padding: 10px;<br>        }<br>    </style><br><div class=\"wandb-row\"><div class=\"wandb-col\"><h3>Run history:</h3><br/><table class=\"wandb\"><tr><td>epoch/accuracy</td><td>▁▂▃▄▅▆▇▇██</td></tr><tr><td>epoch/epoch</td><td>▁▂▃▃▄▅▆▆▇█</td></tr><tr><td>epoch/learning_rate</td><td>▁▁▁▁▁▁▁▁▁▁</td></tr><tr><td>epoch/loss</td><td>█▇▆▆▅▄▃▂▂▁</td></tr><tr><td>epoch/val_accuracy</td><td>▁▂▄▅▆▆▇▇██</td></tr><tr><td>epoch/val_loss</td><td>█▇▇▆▅▄▃▃▂▁</td></tr></table><br/></div><div class=\"wandb-col\"><h3>Run summary:</h3><br/><table class=\"wandb\"><tr><td>epoch/accuracy</td><td>0.61477</td></tr><tr><td>epoch/epoch</td><td>9</td></tr><tr><td>epoch/learning_rate</td><td>0.0001</td></tr><tr><td>epoch/loss</td><td>1.33765</td></tr><tr><td>epoch/val_accuracy</td><td>0.7595</td></tr><tr><td>epoch/val_loss</td><td>1.16071</td></tr></table><br/></div></div>"
            ]
          },
          "metadata": {}
        },
        {
          "output_type": "display_data",
          "data": {
            "text/plain": [
              "<IPython.core.display.HTML object>"
            ],
            "text/html": [
              " View run <strong style=\"color:#cdcd00\">rich-sweep-4</strong> at: <a href='https://wandb.ai/omergunal84-hacettepe-university/cnn-mnist-optimization/runs/47gbtgxf' target=\"_blank\">https://wandb.ai/omergunal84-hacettepe-university/cnn-mnist-optimization/runs/47gbtgxf</a><br> View project at: <a href='https://wandb.ai/omergunal84-hacettepe-university/cnn-mnist-optimization' target=\"_blank\">https://wandb.ai/omergunal84-hacettepe-university/cnn-mnist-optimization</a><br>Synced 5 W&B file(s), 0 media file(s), 0 artifact file(s) and 0 other file(s)"
            ]
          },
          "metadata": {}
        },
        {
          "output_type": "display_data",
          "data": {
            "text/plain": [
              "<IPython.core.display.HTML object>"
            ],
            "text/html": [
              "Find logs at: <code>./wandb/run-20250518_073817-47gbtgxf/logs</code>"
            ]
          },
          "metadata": {}
        },
        {
          "output_type": "stream",
          "name": "stderr",
          "text": [
            "\u001b[34m\u001b[1mwandb\u001b[0m: Agent Starting Run: zu9r7ssk with config:\n",
            "\u001b[34m\u001b[1mwandb\u001b[0m: \tbatch_size: 32\n",
            "\u001b[34m\u001b[1mwandb\u001b[0m: \tdropout_rate: 0.5\n",
            "\u001b[34m\u001b[1mwandb\u001b[0m: \tepochs: 10\n",
            "\u001b[34m\u001b[1mwandb\u001b[0m: \tinit_mode: he_uniform\n",
            "\u001b[34m\u001b[1mwandb\u001b[0m: \tlearning_rate: 0.001\n",
            "\u001b[34m\u001b[1mwandb\u001b[0m: \toptimizer: sgd\n"
          ]
        },
        {
          "output_type": "display_data",
          "data": {
            "text/plain": [
              "<IPython.core.display.HTML object>"
            ],
            "text/html": [
              "Tracking run with wandb version 0.19.11"
            ]
          },
          "metadata": {}
        },
        {
          "output_type": "display_data",
          "data": {
            "text/plain": [
              "<IPython.core.display.HTML object>"
            ],
            "text/html": [
              "Run data is saved locally in <code>/content/wandb/run-20250518_073858-zu9r7ssk</code>"
            ]
          },
          "metadata": {}
        },
        {
          "output_type": "display_data",
          "data": {
            "text/plain": [
              "<IPython.core.display.HTML object>"
            ],
            "text/html": [
              "Syncing run <strong><a href='https://wandb.ai/omergunal84-hacettepe-university/cnn-mnist-optimization/runs/zu9r7ssk' target=\"_blank\">revived-sweep-5</a></strong> to <a href='https://wandb.ai/omergunal84-hacettepe-university/cnn-mnist-optimization' target=\"_blank\">Weights & Biases</a> (<a href='https://wandb.me/developer-guide' target=\"_blank\">docs</a>)<br>Sweep page: <a href='https://wandb.ai/omergunal84-hacettepe-university/cnn-mnist-optimization/sweeps/dpof9qfz' target=\"_blank\">https://wandb.ai/omergunal84-hacettepe-university/cnn-mnist-optimization/sweeps/dpof9qfz</a>"
            ]
          },
          "metadata": {}
        },
        {
          "output_type": "display_data",
          "data": {
            "text/plain": [
              "<IPython.core.display.HTML object>"
            ],
            "text/html": [
              " View project at <a href='https://wandb.ai/omergunal84-hacettepe-university/cnn-mnist-optimization' target=\"_blank\">https://wandb.ai/omergunal84-hacettepe-university/cnn-mnist-optimization</a>"
            ]
          },
          "metadata": {}
        },
        {
          "output_type": "display_data",
          "data": {
            "text/plain": [
              "<IPython.core.display.HTML object>"
            ],
            "text/html": [
              " View sweep at <a href='https://wandb.ai/omergunal84-hacettepe-university/cnn-mnist-optimization/sweeps/dpof9qfz' target=\"_blank\">https://wandb.ai/omergunal84-hacettepe-university/cnn-mnist-optimization/sweeps/dpof9qfz</a>"
            ]
          },
          "metadata": {}
        },
        {
          "output_type": "display_data",
          "data": {
            "text/plain": [
              "<IPython.core.display.HTML object>"
            ],
            "text/html": [
              " View run at <a href='https://wandb.ai/omergunal84-hacettepe-university/cnn-mnist-optimization/runs/zu9r7ssk' target=\"_blank\">https://wandb.ai/omergunal84-hacettepe-university/cnn-mnist-optimization/runs/zu9r7ssk</a>"
            ]
          },
          "metadata": {}
        },
        {
          "output_type": "stream",
          "name": "stdout",
          "text": [
            "Epoch 1/10\n",
            "1500/1500 - 7s - 5ms/step - accuracy: 0.6685 - loss: 1.0171 - val_accuracy: 0.9225 - val_loss: 0.3106\n",
            "Epoch 2/10\n",
            "1500/1500 - 9s - 6ms/step - accuracy: 0.8446 - loss: 0.5140 - val_accuracy: 0.9433 - val_loss: 0.2098\n",
            "Epoch 3/10\n",
            "1500/1500 - 8s - 5ms/step - accuracy: 0.8792 - loss: 0.4003 - val_accuracy: 0.9522 - val_loss: 0.1704\n",
            "Epoch 4/10\n",
            "1500/1500 - 8s - 5ms/step - accuracy: 0.8998 - loss: 0.3379 - val_accuracy: 0.9601 - val_loss: 0.1422\n",
            "Epoch 5/10\n",
            "1500/1500 - 10s - 7ms/step - accuracy: 0.9107 - loss: 0.2994 - val_accuracy: 0.9654 - val_loss: 0.1260\n",
            "Epoch 6/10\n",
            "1500/1500 - 10s - 7ms/step - accuracy: 0.9214 - loss: 0.2684 - val_accuracy: 0.9685 - val_loss: 0.1147\n",
            "Epoch 7/10\n",
            "1500/1500 - 10s - 7ms/step - accuracy: 0.9267 - loss: 0.2462 - val_accuracy: 0.9708 - val_loss: 0.1074\n",
            "Epoch 8/10\n",
            "1500/1500 - 5s - 3ms/step - accuracy: 0.9321 - loss: 0.2332 - val_accuracy: 0.9717 - val_loss: 0.0999\n",
            "Epoch 9/10\n",
            "1500/1500 - 5s - 4ms/step - accuracy: 0.9364 - loss: 0.2159 - val_accuracy: 0.9737 - val_loss: 0.0929\n",
            "Epoch 10/10\n",
            "1500/1500 - 5s - 3ms/step - accuracy: 0.9403 - loss: 0.2061 - val_accuracy: 0.9745 - val_loss: 0.0890\n"
          ]
        },
        {
          "output_type": "display_data",
          "data": {
            "text/plain": [
              "<IPython.core.display.HTML object>"
            ],
            "text/html": []
          },
          "metadata": {}
        },
        {
          "output_type": "display_data",
          "data": {
            "text/plain": [
              "<IPython.core.display.HTML object>"
            ],
            "text/html": [
              "<br>    <style><br>        .wandb-row {<br>            display: flex;<br>            flex-direction: row;<br>            flex-wrap: wrap;<br>            justify-content: flex-start;<br>            width: 100%;<br>        }<br>        .wandb-col {<br>            display: flex;<br>            flex-direction: column;<br>            flex-basis: 100%;<br>            flex: 1;<br>            padding: 10px;<br>        }<br>    </style><br><div class=\"wandb-row\"><div class=\"wandb-col\"><h3>Run history:</h3><br/><table class=\"wandb\"><tr><td>epoch/accuracy</td><td>▁▆▆▇▇█████</td></tr><tr><td>epoch/epoch</td><td>▁▂▃▃▄▅▆▆▇█</td></tr><tr><td>epoch/learning_rate</td><td>▁▁▁▁▁▁▁▁▁▁</td></tr><tr><td>epoch/loss</td><td>█▄▃▂▂▂▁▁▁▁</td></tr><tr><td>epoch/val_accuracy</td><td>▁▄▅▆▇▇████</td></tr><tr><td>epoch/val_loss</td><td>█▅▄▃▂▂▂▁▁▁</td></tr></table><br/></div><div class=\"wandb-col\"><h3>Run summary:</h3><br/><table class=\"wandb\"><tr><td>epoch/accuracy</td><td>0.94033</td></tr><tr><td>epoch/epoch</td><td>9</td></tr><tr><td>epoch/learning_rate</td><td>0.001</td></tr><tr><td>epoch/loss</td><td>0.20606</td></tr><tr><td>epoch/val_accuracy</td><td>0.9745</td></tr><tr><td>epoch/val_loss</td><td>0.08896</td></tr></table><br/></div></div>"
            ]
          },
          "metadata": {}
        },
        {
          "output_type": "display_data",
          "data": {
            "text/plain": [
              "<IPython.core.display.HTML object>"
            ],
            "text/html": [
              " View run <strong style=\"color:#cdcd00\">revived-sweep-5</strong> at: <a href='https://wandb.ai/omergunal84-hacettepe-university/cnn-mnist-optimization/runs/zu9r7ssk' target=\"_blank\">https://wandb.ai/omergunal84-hacettepe-university/cnn-mnist-optimization/runs/zu9r7ssk</a><br> View project at: <a href='https://wandb.ai/omergunal84-hacettepe-university/cnn-mnist-optimization' target=\"_blank\">https://wandb.ai/omergunal84-hacettepe-university/cnn-mnist-optimization</a><br>Synced 5 W&B file(s), 0 media file(s), 0 artifact file(s) and 0 other file(s)"
            ]
          },
          "metadata": {}
        },
        {
          "output_type": "display_data",
          "data": {
            "text/plain": [
              "<IPython.core.display.HTML object>"
            ],
            "text/html": [
              "Find logs at: <code>./wandb/run-20250518_073858-zu9r7ssk/logs</code>"
            ]
          },
          "metadata": {}
        },
        {
          "output_type": "stream",
          "name": "stderr",
          "text": [
            "\u001b[34m\u001b[1mwandb\u001b[0m: Agent Starting Run: lfx5mhg0 with config:\n",
            "\u001b[34m\u001b[1mwandb\u001b[0m: \tbatch_size: 32\n",
            "\u001b[34m\u001b[1mwandb\u001b[0m: \tdropout_rate: 0.5\n",
            "\u001b[34m\u001b[1mwandb\u001b[0m: \tepochs: 10\n",
            "\u001b[34m\u001b[1mwandb\u001b[0m: \tinit_mode: he_uniform\n",
            "\u001b[34m\u001b[1mwandb\u001b[0m: \tlearning_rate: 0.0001\n",
            "\u001b[34m\u001b[1mwandb\u001b[0m: \toptimizer: sgd\n"
          ]
        },
        {
          "output_type": "display_data",
          "data": {
            "text/plain": [
              "<IPython.core.display.HTML object>"
            ],
            "text/html": [
              "Tracking run with wandb version 0.19.11"
            ]
          },
          "metadata": {}
        },
        {
          "output_type": "display_data",
          "data": {
            "text/plain": [
              "<IPython.core.display.HTML object>"
            ],
            "text/html": [
              "Run data is saved locally in <code>/content/wandb/run-20250518_074024-lfx5mhg0</code>"
            ]
          },
          "metadata": {}
        },
        {
          "output_type": "display_data",
          "data": {
            "text/plain": [
              "<IPython.core.display.HTML object>"
            ],
            "text/html": [
              "Syncing run <strong><a href='https://wandb.ai/omergunal84-hacettepe-university/cnn-mnist-optimization/runs/lfx5mhg0' target=\"_blank\">northern-sweep-6</a></strong> to <a href='https://wandb.ai/omergunal84-hacettepe-university/cnn-mnist-optimization' target=\"_blank\">Weights & Biases</a> (<a href='https://wandb.me/developer-guide' target=\"_blank\">docs</a>)<br>Sweep page: <a href='https://wandb.ai/omergunal84-hacettepe-university/cnn-mnist-optimization/sweeps/dpof9qfz' target=\"_blank\">https://wandb.ai/omergunal84-hacettepe-university/cnn-mnist-optimization/sweeps/dpof9qfz</a>"
            ]
          },
          "metadata": {}
        },
        {
          "output_type": "display_data",
          "data": {
            "text/plain": [
              "<IPython.core.display.HTML object>"
            ],
            "text/html": [
              " View project at <a href='https://wandb.ai/omergunal84-hacettepe-university/cnn-mnist-optimization' target=\"_blank\">https://wandb.ai/omergunal84-hacettepe-university/cnn-mnist-optimization</a>"
            ]
          },
          "metadata": {}
        },
        {
          "output_type": "display_data",
          "data": {
            "text/plain": [
              "<IPython.core.display.HTML object>"
            ],
            "text/html": [
              " View sweep at <a href='https://wandb.ai/omergunal84-hacettepe-university/cnn-mnist-optimization/sweeps/dpof9qfz' target=\"_blank\">https://wandb.ai/omergunal84-hacettepe-university/cnn-mnist-optimization/sweeps/dpof9qfz</a>"
            ]
          },
          "metadata": {}
        },
        {
          "output_type": "display_data",
          "data": {
            "text/plain": [
              "<IPython.core.display.HTML object>"
            ],
            "text/html": [
              " View run at <a href='https://wandb.ai/omergunal84-hacettepe-university/cnn-mnist-optimization/runs/lfx5mhg0' target=\"_blank\">https://wandb.ai/omergunal84-hacettepe-university/cnn-mnist-optimization/runs/lfx5mhg0</a>"
            ]
          },
          "metadata": {}
        },
        {
          "output_type": "stream",
          "name": "stdout",
          "text": [
            "Epoch 1/10\n",
            "1500/1500 - 7s - 5ms/step - accuracy: 0.2477 - loss: 2.1389 - val_accuracy: 0.5585 - val_loss: 1.8369\n",
            "Epoch 2/10\n",
            "1500/1500 - 9s - 6ms/step - accuracy: 0.4285 - loss: 1.7811 - val_accuracy: 0.6795 - val_loss: 1.4589\n",
            "Epoch 3/10\n",
            "1500/1500 - 10s - 6ms/step - accuracy: 0.5270 - loss: 1.5069 - val_accuracy: 0.7663 - val_loss: 1.1331\n",
            "Epoch 4/10\n",
            "1500/1500 - 5s - 3ms/step - accuracy: 0.5954 - loss: 1.2843 - val_accuracy: 0.8141 - val_loss: 0.9033\n",
            "Epoch 5/10\n",
            "1500/1500 - 5s - 4ms/step - accuracy: 0.6490 - loss: 1.1146 - val_accuracy: 0.8425 - val_loss: 0.7375\n",
            "Epoch 6/10\n",
            "1500/1500 - 11s - 7ms/step - accuracy: 0.6863 - loss: 0.9974 - val_accuracy: 0.8646 - val_loss: 0.6230\n",
            "Epoch 7/10\n",
            "1500/1500 - 5s - 3ms/step - accuracy: 0.7207 - loss: 0.8955 - val_accuracy: 0.8798 - val_loss: 0.5348\n",
            "Epoch 8/10\n",
            "1500/1500 - 5s - 3ms/step - accuracy: 0.7430 - loss: 0.8221 - val_accuracy: 0.8888 - val_loss: 0.4759\n",
            "Epoch 9/10\n",
            "1500/1500 - 7s - 4ms/step - accuracy: 0.7609 - loss: 0.7631 - val_accuracy: 0.8992 - val_loss: 0.4262\n",
            "Epoch 10/10\n",
            "1500/1500 - 6s - 4ms/step - accuracy: 0.7765 - loss: 0.7137 - val_accuracy: 0.9060 - val_loss: 0.3902\n"
          ]
        },
        {
          "output_type": "display_data",
          "data": {
            "text/plain": [
              "<IPython.core.display.HTML object>"
            ],
            "text/html": []
          },
          "metadata": {}
        },
        {
          "output_type": "display_data",
          "data": {
            "text/plain": [
              "<IPython.core.display.HTML object>"
            ],
            "text/html": [
              "<br>    <style><br>        .wandb-row {<br>            display: flex;<br>            flex-direction: row;<br>            flex-wrap: wrap;<br>            justify-content: flex-start;<br>            width: 100%;<br>        }<br>        .wandb-col {<br>            display: flex;<br>            flex-direction: column;<br>            flex-basis: 100%;<br>            flex: 1;<br>            padding: 10px;<br>        }<br>    </style><br><div class=\"wandb-row\"><div class=\"wandb-col\"><h3>Run history:</h3><br/><table class=\"wandb\"><tr><td>epoch/accuracy</td><td>▁▃▅▆▆▇▇███</td></tr><tr><td>epoch/epoch</td><td>▁▂▃▃▄▅▆▆▇█</td></tr><tr><td>epoch/learning_rate</td><td>▁▁▁▁▁▁▁▁▁▁</td></tr><tr><td>epoch/loss</td><td>█▆▅▄▃▂▂▂▁▁</td></tr><tr><td>epoch/val_accuracy</td><td>▁▃▅▆▇▇▇███</td></tr><tr><td>epoch/val_loss</td><td>█▆▅▃▃▂▂▁▁▁</td></tr></table><br/></div><div class=\"wandb-col\"><h3>Run summary:</h3><br/><table class=\"wandb\"><tr><td>epoch/accuracy</td><td>0.77646</td></tr><tr><td>epoch/epoch</td><td>9</td></tr><tr><td>epoch/learning_rate</td><td>0.0001</td></tr><tr><td>epoch/loss</td><td>0.71371</td></tr><tr><td>epoch/val_accuracy</td><td>0.906</td></tr><tr><td>epoch/val_loss</td><td>0.39017</td></tr></table><br/></div></div>"
            ]
          },
          "metadata": {}
        },
        {
          "output_type": "display_data",
          "data": {
            "text/plain": [
              "<IPython.core.display.HTML object>"
            ],
            "text/html": [
              " View run <strong style=\"color:#cdcd00\">northern-sweep-6</strong> at: <a href='https://wandb.ai/omergunal84-hacettepe-university/cnn-mnist-optimization/runs/lfx5mhg0' target=\"_blank\">https://wandb.ai/omergunal84-hacettepe-university/cnn-mnist-optimization/runs/lfx5mhg0</a><br> View project at: <a href='https://wandb.ai/omergunal84-hacettepe-university/cnn-mnist-optimization' target=\"_blank\">https://wandb.ai/omergunal84-hacettepe-university/cnn-mnist-optimization</a><br>Synced 5 W&B file(s), 0 media file(s), 0 artifact file(s) and 0 other file(s)"
            ]
          },
          "metadata": {}
        },
        {
          "output_type": "display_data",
          "data": {
            "text/plain": [
              "<IPython.core.display.HTML object>"
            ],
            "text/html": [
              "Find logs at: <code>./wandb/run-20250518_074024-lfx5mhg0/logs</code>"
            ]
          },
          "metadata": {}
        },
        {
          "output_type": "stream",
          "name": "stderr",
          "text": [
            "\u001b[34m\u001b[1mwandb\u001b[0m: Sweep Agent: Waiting for job.\n",
            "\u001b[34m\u001b[1mwandb\u001b[0m: Job received.\n",
            "\u001b[34m\u001b[1mwandb\u001b[0m: Agent Starting Run: 8g0kg30d with config:\n",
            "\u001b[34m\u001b[1mwandb\u001b[0m: \tbatch_size: 128\n",
            "\u001b[34m\u001b[1mwandb\u001b[0m: \tdropout_rate: 0.3\n",
            "\u001b[34m\u001b[1mwandb\u001b[0m: \tepochs: 10\n",
            "\u001b[34m\u001b[1mwandb\u001b[0m: \tinit_mode: he_uniform\n",
            "\u001b[34m\u001b[1mwandb\u001b[0m: \tlearning_rate: 0.01\n",
            "\u001b[34m\u001b[1mwandb\u001b[0m: \toptimizer: sgd\n"
          ]
        },
        {
          "output_type": "display_data",
          "data": {
            "text/plain": [
              "<IPython.core.display.HTML object>"
            ],
            "text/html": [
              "Tracking run with wandb version 0.19.11"
            ]
          },
          "metadata": {}
        },
        {
          "output_type": "display_data",
          "data": {
            "text/plain": [
              "<IPython.core.display.HTML object>"
            ],
            "text/html": [
              "Run data is saved locally in <code>/content/wandb/run-20250518_074152-8g0kg30d</code>"
            ]
          },
          "metadata": {}
        },
        {
          "output_type": "display_data",
          "data": {
            "text/plain": [
              "<IPython.core.display.HTML object>"
            ],
            "text/html": [
              "Syncing run <strong><a href='https://wandb.ai/omergunal84-hacettepe-university/cnn-mnist-optimization/runs/8g0kg30d' target=\"_blank\">still-sweep-7</a></strong> to <a href='https://wandb.ai/omergunal84-hacettepe-university/cnn-mnist-optimization' target=\"_blank\">Weights & Biases</a> (<a href='https://wandb.me/developer-guide' target=\"_blank\">docs</a>)<br>Sweep page: <a href='https://wandb.ai/omergunal84-hacettepe-university/cnn-mnist-optimization/sweeps/dpof9qfz' target=\"_blank\">https://wandb.ai/omergunal84-hacettepe-university/cnn-mnist-optimization/sweeps/dpof9qfz</a>"
            ]
          },
          "metadata": {}
        },
        {
          "output_type": "display_data",
          "data": {
            "text/plain": [
              "<IPython.core.display.HTML object>"
            ],
            "text/html": [
              " View project at <a href='https://wandb.ai/omergunal84-hacettepe-university/cnn-mnist-optimization' target=\"_blank\">https://wandb.ai/omergunal84-hacettepe-university/cnn-mnist-optimization</a>"
            ]
          },
          "metadata": {}
        },
        {
          "output_type": "display_data",
          "data": {
            "text/plain": [
              "<IPython.core.display.HTML object>"
            ],
            "text/html": [
              " View sweep at <a href='https://wandb.ai/omergunal84-hacettepe-university/cnn-mnist-optimization/sweeps/dpof9qfz' target=\"_blank\">https://wandb.ai/omergunal84-hacettepe-university/cnn-mnist-optimization/sweeps/dpof9qfz</a>"
            ]
          },
          "metadata": {}
        },
        {
          "output_type": "display_data",
          "data": {
            "text/plain": [
              "<IPython.core.display.HTML object>"
            ],
            "text/html": [
              " View run at <a href='https://wandb.ai/omergunal84-hacettepe-university/cnn-mnist-optimization/runs/8g0kg30d' target=\"_blank\">https://wandb.ai/omergunal84-hacettepe-university/cnn-mnist-optimization/runs/8g0kg30d</a>"
            ]
          },
          "metadata": {}
        },
        {
          "output_type": "stream",
          "name": "stdout",
          "text": [
            "Epoch 1/10\n",
            "375/375 - 5s - 14ms/step - accuracy: 0.7628 - loss: 0.7443 - val_accuracy: 0.9367 - val_loss: 0.2217\n",
            "Epoch 2/10\n",
            "375/375 - 3s - 7ms/step - accuracy: 0.9101 - loss: 0.3034 - val_accuracy: 0.9600 - val_loss: 0.1432\n",
            "Epoch 3/10\n",
            "375/375 - 5s - 13ms/step - accuracy: 0.9372 - loss: 0.2140 - val_accuracy: 0.9698 - val_loss: 0.1067\n",
            "Epoch 4/10\n",
            "375/375 - 5s - 15ms/step - accuracy: 0.9485 - loss: 0.1713 - val_accuracy: 0.9747 - val_loss: 0.0904\n",
            "Epoch 5/10\n",
            "375/375 - 5s - 13ms/step - accuracy: 0.9575 - loss: 0.1452 - val_accuracy: 0.9764 - val_loss: 0.0824\n",
            "Epoch 6/10\n",
            "375/375 - 2s - 7ms/step - accuracy: 0.9624 - loss: 0.1257 - val_accuracy: 0.9783 - val_loss: 0.0739\n",
            "Epoch 7/10\n",
            "375/375 - 3s - 7ms/step - accuracy: 0.9667 - loss: 0.1152 - val_accuracy: 0.9802 - val_loss: 0.0675\n",
            "Epoch 8/10\n",
            "375/375 - 3s - 9ms/step - accuracy: 0.9685 - loss: 0.1039 - val_accuracy: 0.9786 - val_loss: 0.0709\n",
            "Epoch 9/10\n",
            "375/375 - 4s - 12ms/step - accuracy: 0.9706 - loss: 0.0978 - val_accuracy: 0.9817 - val_loss: 0.0625\n",
            "Epoch 10/10\n",
            "375/375 - 2s - 7ms/step - accuracy: 0.9737 - loss: 0.0892 - val_accuracy: 0.9827 - val_loss: 0.0657\n"
          ]
        },
        {
          "output_type": "display_data",
          "data": {
            "text/plain": [
              "<IPython.core.display.HTML object>"
            ],
            "text/html": []
          },
          "metadata": {}
        },
        {
          "output_type": "display_data",
          "data": {
            "text/plain": [
              "<IPython.core.display.HTML object>"
            ],
            "text/html": [
              "<br>    <style><br>        .wandb-row {<br>            display: flex;<br>            flex-direction: row;<br>            flex-wrap: wrap;<br>            justify-content: flex-start;<br>            width: 100%;<br>        }<br>        .wandb-col {<br>            display: flex;<br>            flex-direction: column;<br>            flex-basis: 100%;<br>            flex: 1;<br>            padding: 10px;<br>        }<br>    </style><br><div class=\"wandb-row\"><div class=\"wandb-col\"><h3>Run history:</h3><br/><table class=\"wandb\"><tr><td>epoch/accuracy</td><td>▁▆▇▇▇█████</td></tr><tr><td>epoch/epoch</td><td>▁▂▃▃▄▅▆▆▇█</td></tr><tr><td>epoch/learning_rate</td><td>▁▁▁▁▁▁▁▁▁▁</td></tr><tr><td>epoch/loss</td><td>█▃▂▂▂▁▁▁▁▁</td></tr><tr><td>epoch/val_accuracy</td><td>▁▅▆▇▇▇█▇██</td></tr><tr><td>epoch/val_loss</td><td>█▅▃▂▂▂▁▁▁▁</td></tr></table><br/></div><div class=\"wandb-col\"><h3>Run summary:</h3><br/><table class=\"wandb\"><tr><td>epoch/accuracy</td><td>0.97373</td></tr><tr><td>epoch/epoch</td><td>9</td></tr><tr><td>epoch/learning_rate</td><td>0.01</td></tr><tr><td>epoch/loss</td><td>0.08919</td></tr><tr><td>epoch/val_accuracy</td><td>0.98267</td></tr><tr><td>epoch/val_loss</td><td>0.06574</td></tr></table><br/></div></div>"
            ]
          },
          "metadata": {}
        },
        {
          "output_type": "display_data",
          "data": {
            "text/plain": [
              "<IPython.core.display.HTML object>"
            ],
            "text/html": [
              " View run <strong style=\"color:#cdcd00\">still-sweep-7</strong> at: <a href='https://wandb.ai/omergunal84-hacettepe-university/cnn-mnist-optimization/runs/8g0kg30d' target=\"_blank\">https://wandb.ai/omergunal84-hacettepe-university/cnn-mnist-optimization/runs/8g0kg30d</a><br> View project at: <a href='https://wandb.ai/omergunal84-hacettepe-university/cnn-mnist-optimization' target=\"_blank\">https://wandb.ai/omergunal84-hacettepe-university/cnn-mnist-optimization</a><br>Synced 5 W&B file(s), 0 media file(s), 0 artifact file(s) and 0 other file(s)"
            ]
          },
          "metadata": {}
        },
        {
          "output_type": "display_data",
          "data": {
            "text/plain": [
              "<IPython.core.display.HTML object>"
            ],
            "text/html": [
              "Find logs at: <code>./wandb/run-20250518_074152-8g0kg30d/logs</code>"
            ]
          },
          "metadata": {}
        },
        {
          "output_type": "stream",
          "name": "stderr",
          "text": [
            "\u001b[34m\u001b[1mwandb\u001b[0m: Agent Starting Run: ifre87cl with config:\n",
            "\u001b[34m\u001b[1mwandb\u001b[0m: \tbatch_size: 32\n",
            "\u001b[34m\u001b[1mwandb\u001b[0m: \tdropout_rate: 0.2\n",
            "\u001b[34m\u001b[1mwandb\u001b[0m: \tepochs: 10\n",
            "\u001b[34m\u001b[1mwandb\u001b[0m: \tinit_mode: glorot_uniform\n",
            "\u001b[34m\u001b[1mwandb\u001b[0m: \tlearning_rate: 0.01\n",
            "\u001b[34m\u001b[1mwandb\u001b[0m: \toptimizer: sgd\n"
          ]
        },
        {
          "output_type": "display_data",
          "data": {
            "text/plain": [
              "<IPython.core.display.HTML object>"
            ],
            "text/html": [
              "Tracking run with wandb version 0.19.11"
            ]
          },
          "metadata": {}
        },
        {
          "output_type": "display_data",
          "data": {
            "text/plain": [
              "<IPython.core.display.HTML object>"
            ],
            "text/html": [
              "Run data is saved locally in <code>/content/wandb/run-20250518_074238-ifre87cl</code>"
            ]
          },
          "metadata": {}
        },
        {
          "output_type": "display_data",
          "data": {
            "text/plain": [
              "<IPython.core.display.HTML object>"
            ],
            "text/html": [
              "Syncing run <strong><a href='https://wandb.ai/omergunal84-hacettepe-university/cnn-mnist-optimization/runs/ifre87cl' target=\"_blank\">upbeat-sweep-8</a></strong> to <a href='https://wandb.ai/omergunal84-hacettepe-university/cnn-mnist-optimization' target=\"_blank\">Weights & Biases</a> (<a href='https://wandb.me/developer-guide' target=\"_blank\">docs</a>)<br>Sweep page: <a href='https://wandb.ai/omergunal84-hacettepe-university/cnn-mnist-optimization/sweeps/dpof9qfz' target=\"_blank\">https://wandb.ai/omergunal84-hacettepe-university/cnn-mnist-optimization/sweeps/dpof9qfz</a>"
            ]
          },
          "metadata": {}
        },
        {
          "output_type": "display_data",
          "data": {
            "text/plain": [
              "<IPython.core.display.HTML object>"
            ],
            "text/html": [
              " View project at <a href='https://wandb.ai/omergunal84-hacettepe-university/cnn-mnist-optimization' target=\"_blank\">https://wandb.ai/omergunal84-hacettepe-university/cnn-mnist-optimization</a>"
            ]
          },
          "metadata": {}
        },
        {
          "output_type": "display_data",
          "data": {
            "text/plain": [
              "<IPython.core.display.HTML object>"
            ],
            "text/html": [
              " View sweep at <a href='https://wandb.ai/omergunal84-hacettepe-university/cnn-mnist-optimization/sweeps/dpof9qfz' target=\"_blank\">https://wandb.ai/omergunal84-hacettepe-university/cnn-mnist-optimization/sweeps/dpof9qfz</a>"
            ]
          },
          "metadata": {}
        },
        {
          "output_type": "display_data",
          "data": {
            "text/plain": [
              "<IPython.core.display.HTML object>"
            ],
            "text/html": [
              " View run at <a href='https://wandb.ai/omergunal84-hacettepe-university/cnn-mnist-optimization/runs/ifre87cl' target=\"_blank\">https://wandb.ai/omergunal84-hacettepe-university/cnn-mnist-optimization/runs/ifre87cl</a>"
            ]
          },
          "metadata": {}
        },
        {
          "output_type": "stream",
          "name": "stdout",
          "text": [
            "Epoch 1/10\n",
            "1500/1500 - 8s - 5ms/step - accuracy: 0.7823 - loss: 0.6700 - val_accuracy: 0.9580 - val_loss: 0.1452\n",
            "Epoch 2/10\n",
            "1500/1500 - 6s - 4ms/step - accuracy: 0.9496 - loss: 0.1660 - val_accuracy: 0.9718 - val_loss: 0.0971\n",
            "Epoch 3/10\n",
            "1500/1500 - 11s - 7ms/step - accuracy: 0.9652 - loss: 0.1173 - val_accuracy: 0.9753 - val_loss: 0.0801\n",
            "Epoch 4/10\n",
            "1500/1500 - 5s - 4ms/step - accuracy: 0.9716 - loss: 0.0941 - val_accuracy: 0.9777 - val_loss: 0.0704\n",
            "Epoch 5/10\n",
            "1500/1500 - 10s - 7ms/step - accuracy: 0.9751 - loss: 0.0816 - val_accuracy: 0.9804 - val_loss: 0.0669\n",
            "Epoch 6/10\n",
            "1500/1500 - 5s - 3ms/step - accuracy: 0.9777 - loss: 0.0724 - val_accuracy: 0.9837 - val_loss: 0.0557\n",
            "Epoch 7/10\n",
            "1500/1500 - 6s - 4ms/step - accuracy: 0.9801 - loss: 0.0643 - val_accuracy: 0.9854 - val_loss: 0.0524\n",
            "Epoch 8/10\n",
            "1500/1500 - 11s - 7ms/step - accuracy: 0.9813 - loss: 0.0597 - val_accuracy: 0.9850 - val_loss: 0.0523\n",
            "Epoch 9/10\n",
            "1500/1500 - 10s - 6ms/step - accuracy: 0.9832 - loss: 0.0532 - val_accuracy: 0.9853 - val_loss: 0.0512\n",
            "Epoch 10/10\n",
            "1500/1500 - 9s - 6ms/step - accuracy: 0.9839 - loss: 0.0486 - val_accuracy: 0.9833 - val_loss: 0.0538\n"
          ]
        },
        {
          "output_type": "display_data",
          "data": {
            "text/plain": [
              "<IPython.core.display.HTML object>"
            ],
            "text/html": []
          },
          "metadata": {}
        },
        {
          "output_type": "display_data",
          "data": {
            "text/plain": [
              "<IPython.core.display.HTML object>"
            ],
            "text/html": [
              "<br>    <style><br>        .wandb-row {<br>            display: flex;<br>            flex-direction: row;<br>            flex-wrap: wrap;<br>            justify-content: flex-start;<br>            width: 100%;<br>        }<br>        .wandb-col {<br>            display: flex;<br>            flex-direction: column;<br>            flex-basis: 100%;<br>            flex: 1;<br>            padding: 10px;<br>        }<br>    </style><br><div class=\"wandb-row\"><div class=\"wandb-col\"><h3>Run history:</h3><br/><table class=\"wandb\"><tr><td>epoch/accuracy</td><td>▁▇▇███████</td></tr><tr><td>epoch/epoch</td><td>▁▂▃▃▄▅▆▆▇█</td></tr><tr><td>epoch/learning_rate</td><td>▁▁▁▁▁▁▁▁▁▁</td></tr><tr><td>epoch/loss</td><td>█▂▂▂▁▁▁▁▁▁</td></tr><tr><td>epoch/val_accuracy</td><td>▁▅▅▆▇████▇</td></tr><tr><td>epoch/val_loss</td><td>█▄▃▂▂▁▁▁▁▁</td></tr></table><br/></div><div class=\"wandb-col\"><h3>Run summary:</h3><br/><table class=\"wandb\"><tr><td>epoch/accuracy</td><td>0.98392</td></tr><tr><td>epoch/epoch</td><td>9</td></tr><tr><td>epoch/learning_rate</td><td>0.01</td></tr><tr><td>epoch/loss</td><td>0.0486</td></tr><tr><td>epoch/val_accuracy</td><td>0.98325</td></tr><tr><td>epoch/val_loss</td><td>0.05384</td></tr></table><br/></div></div>"
            ]
          },
          "metadata": {}
        },
        {
          "output_type": "display_data",
          "data": {
            "text/plain": [
              "<IPython.core.display.HTML object>"
            ],
            "text/html": [
              " View run <strong style=\"color:#cdcd00\">upbeat-sweep-8</strong> at: <a href='https://wandb.ai/omergunal84-hacettepe-university/cnn-mnist-optimization/runs/ifre87cl' target=\"_blank\">https://wandb.ai/omergunal84-hacettepe-university/cnn-mnist-optimization/runs/ifre87cl</a><br> View project at: <a href='https://wandb.ai/omergunal84-hacettepe-university/cnn-mnist-optimization' target=\"_blank\">https://wandb.ai/omergunal84-hacettepe-university/cnn-mnist-optimization</a><br>Synced 5 W&B file(s), 0 media file(s), 0 artifact file(s) and 0 other file(s)"
            ]
          },
          "metadata": {}
        },
        {
          "output_type": "display_data",
          "data": {
            "text/plain": [
              "<IPython.core.display.HTML object>"
            ],
            "text/html": [
              "Find logs at: <code>./wandb/run-20250518_074238-ifre87cl/logs</code>"
            ]
          },
          "metadata": {}
        },
        {
          "output_type": "stream",
          "name": "stderr",
          "text": [
            "\u001b[34m\u001b[1mwandb\u001b[0m: Agent Starting Run: tu2uebsf with config:\n",
            "\u001b[34m\u001b[1mwandb\u001b[0m: \tbatch_size: 32\n",
            "\u001b[34m\u001b[1mwandb\u001b[0m: \tdropout_rate: 0.5\n",
            "\u001b[34m\u001b[1mwandb\u001b[0m: \tepochs: 10\n",
            "\u001b[34m\u001b[1mwandb\u001b[0m: \tinit_mode: he_uniform\n",
            "\u001b[34m\u001b[1mwandb\u001b[0m: \tlearning_rate: 0.0001\n",
            "\u001b[34m\u001b[1mwandb\u001b[0m: \toptimizer: sgd\n"
          ]
        },
        {
          "output_type": "display_data",
          "data": {
            "text/plain": [
              "<IPython.core.display.HTML object>"
            ],
            "text/html": [
              "Tracking run with wandb version 0.19.11"
            ]
          },
          "metadata": {}
        },
        {
          "output_type": "display_data",
          "data": {
            "text/plain": [
              "<IPython.core.display.HTML object>"
            ],
            "text/html": [
              "Run data is saved locally in <code>/content/wandb/run-20250518_074404-tu2uebsf</code>"
            ]
          },
          "metadata": {}
        },
        {
          "output_type": "display_data",
          "data": {
            "text/plain": [
              "<IPython.core.display.HTML object>"
            ],
            "text/html": [
              "Syncing run <strong><a href='https://wandb.ai/omergunal84-hacettepe-university/cnn-mnist-optimization/runs/tu2uebsf' target=\"_blank\">desert-sweep-9</a></strong> to <a href='https://wandb.ai/omergunal84-hacettepe-university/cnn-mnist-optimization' target=\"_blank\">Weights & Biases</a> (<a href='https://wandb.me/developer-guide' target=\"_blank\">docs</a>)<br>Sweep page: <a href='https://wandb.ai/omergunal84-hacettepe-university/cnn-mnist-optimization/sweeps/dpof9qfz' target=\"_blank\">https://wandb.ai/omergunal84-hacettepe-university/cnn-mnist-optimization/sweeps/dpof9qfz</a>"
            ]
          },
          "metadata": {}
        },
        {
          "output_type": "display_data",
          "data": {
            "text/plain": [
              "<IPython.core.display.HTML object>"
            ],
            "text/html": [
              " View project at <a href='https://wandb.ai/omergunal84-hacettepe-university/cnn-mnist-optimization' target=\"_blank\">https://wandb.ai/omergunal84-hacettepe-university/cnn-mnist-optimization</a>"
            ]
          },
          "metadata": {}
        },
        {
          "output_type": "display_data",
          "data": {
            "text/plain": [
              "<IPython.core.display.HTML object>"
            ],
            "text/html": [
              " View sweep at <a href='https://wandb.ai/omergunal84-hacettepe-university/cnn-mnist-optimization/sweeps/dpof9qfz' target=\"_blank\">https://wandb.ai/omergunal84-hacettepe-university/cnn-mnist-optimization/sweeps/dpof9qfz</a>"
            ]
          },
          "metadata": {}
        },
        {
          "output_type": "display_data",
          "data": {
            "text/plain": [
              "<IPython.core.display.HTML object>"
            ],
            "text/html": [
              " View run at <a href='https://wandb.ai/omergunal84-hacettepe-university/cnn-mnist-optimization/runs/tu2uebsf' target=\"_blank\">https://wandb.ai/omergunal84-hacettepe-university/cnn-mnist-optimization/runs/tu2uebsf</a>"
            ]
          },
          "metadata": {}
        },
        {
          "output_type": "stream",
          "name": "stdout",
          "text": [
            "Epoch 1/10\n",
            "1500/1500 - 7s - 4ms/step - accuracy: 0.2715 - loss: 2.0444 - val_accuracy: 0.6692 - val_loss: 1.5508\n",
            "Epoch 2/10\n",
            "1500/1500 - 9s - 6ms/step - accuracy: 0.4949 - loss: 1.5080 - val_accuracy: 0.8054 - val_loss: 1.0503\n",
            "Epoch 3/10\n",
            "1500/1500 - 5s - 3ms/step - accuracy: 0.6000 - loss: 1.2117 - val_accuracy: 0.8543 - val_loss: 0.7783\n",
            "Epoch 4/10\n",
            "1500/1500 - 6s - 4ms/step - accuracy: 0.6605 - loss: 1.0355 - val_accuracy: 0.8761 - val_loss: 0.6251\n",
            "Epoch 5/10\n",
            "1500/1500 - 5s - 4ms/step - accuracy: 0.6990 - loss: 0.9214 - val_accuracy: 0.8890 - val_loss: 0.5231\n",
            "Epoch 6/10\n",
            "1500/1500 - 10s - 7ms/step - accuracy: 0.7271 - loss: 0.8378 - val_accuracy: 0.8958 - val_loss: 0.4571\n",
            "Epoch 7/10\n",
            "1500/1500 - 6s - 4ms/step - accuracy: 0.7530 - loss: 0.7703 - val_accuracy: 0.9043 - val_loss: 0.4070\n",
            "Epoch 8/10\n",
            "1500/1500 - 9s - 6ms/step - accuracy: 0.7732 - loss: 0.7096 - val_accuracy: 0.9111 - val_loss: 0.3695\n",
            "Epoch 9/10\n",
            "1500/1500 - 5s - 4ms/step - accuracy: 0.7876 - loss: 0.6708 - val_accuracy: 0.9172 - val_loss: 0.3413\n",
            "Epoch 10/10\n",
            "1500/1500 - 11s - 7ms/step - accuracy: 0.7996 - loss: 0.6378 - val_accuracy: 0.9206 - val_loss: 0.3174\n"
          ]
        },
        {
          "output_type": "display_data",
          "data": {
            "text/plain": [
              "<IPython.core.display.HTML object>"
            ],
            "text/html": []
          },
          "metadata": {}
        },
        {
          "output_type": "display_data",
          "data": {
            "text/plain": [
              "<IPython.core.display.HTML object>"
            ],
            "text/html": [
              "<br>    <style><br>        .wandb-row {<br>            display: flex;<br>            flex-direction: row;<br>            flex-wrap: wrap;<br>            justify-content: flex-start;<br>            width: 100%;<br>        }<br>        .wandb-col {<br>            display: flex;<br>            flex-direction: column;<br>            flex-basis: 100%;<br>            flex: 1;<br>            padding: 10px;<br>        }<br>    </style><br><div class=\"wandb-row\"><div class=\"wandb-col\"><h3>Run history:</h3><br/><table class=\"wandb\"><tr><td>epoch/accuracy</td><td>▁▄▅▆▇▇▇███</td></tr><tr><td>epoch/epoch</td><td>▁▂▃▃▄▅▆▆▇█</td></tr><tr><td>epoch/learning_rate</td><td>▁▁▁▁▁▁▁▁▁▁</td></tr><tr><td>epoch/loss</td><td>█▅▄▃▂▂▂▁▁▁</td></tr><tr><td>epoch/val_accuracy</td><td>▁▅▆▇▇▇████</td></tr><tr><td>epoch/val_loss</td><td>█▅▄▃▂▂▂▁▁▁</td></tr></table><br/></div><div class=\"wandb-col\"><h3>Run summary:</h3><br/><table class=\"wandb\"><tr><td>epoch/accuracy</td><td>0.79956</td></tr><tr><td>epoch/epoch</td><td>9</td></tr><tr><td>epoch/learning_rate</td><td>0.0001</td></tr><tr><td>epoch/loss</td><td>0.63776</td></tr><tr><td>epoch/val_accuracy</td><td>0.92058</td></tr><tr><td>epoch/val_loss</td><td>0.31745</td></tr></table><br/></div></div>"
            ]
          },
          "metadata": {}
        },
        {
          "output_type": "display_data",
          "data": {
            "text/plain": [
              "<IPython.core.display.HTML object>"
            ],
            "text/html": [
              " View run <strong style=\"color:#cdcd00\">desert-sweep-9</strong> at: <a href='https://wandb.ai/omergunal84-hacettepe-university/cnn-mnist-optimization/runs/tu2uebsf' target=\"_blank\">https://wandb.ai/omergunal84-hacettepe-university/cnn-mnist-optimization/runs/tu2uebsf</a><br> View project at: <a href='https://wandb.ai/omergunal84-hacettepe-university/cnn-mnist-optimization' target=\"_blank\">https://wandb.ai/omergunal84-hacettepe-university/cnn-mnist-optimization</a><br>Synced 5 W&B file(s), 0 media file(s), 0 artifact file(s) and 0 other file(s)"
            ]
          },
          "metadata": {}
        },
        {
          "output_type": "display_data",
          "data": {
            "text/plain": [
              "<IPython.core.display.HTML object>"
            ],
            "text/html": [
              "Find logs at: <code>./wandb/run-20250518_074404-tu2uebsf/logs</code>"
            ]
          },
          "metadata": {}
        },
        {
          "output_type": "stream",
          "name": "stderr",
          "text": [
            "\u001b[34m\u001b[1mwandb\u001b[0m: Agent Starting Run: bs6iosyq with config:\n",
            "\u001b[34m\u001b[1mwandb\u001b[0m: \tbatch_size: 128\n",
            "\u001b[34m\u001b[1mwandb\u001b[0m: \tdropout_rate: 0.3\n",
            "\u001b[34m\u001b[1mwandb\u001b[0m: \tepochs: 10\n",
            "\u001b[34m\u001b[1mwandb\u001b[0m: \tinit_mode: glorot_uniform\n",
            "\u001b[34m\u001b[1mwandb\u001b[0m: \tlearning_rate: 0.01\n",
            "\u001b[34m\u001b[1mwandb\u001b[0m: \toptimizer: adam\n"
          ]
        },
        {
          "output_type": "display_data",
          "data": {
            "text/plain": [
              "<IPython.core.display.HTML object>"
            ],
            "text/html": [
              "Tracking run with wandb version 0.19.11"
            ]
          },
          "metadata": {}
        },
        {
          "output_type": "display_data",
          "data": {
            "text/plain": [
              "<IPython.core.display.HTML object>"
            ],
            "text/html": [
              "Run data is saved locally in <code>/content/wandb/run-20250518_074525-bs6iosyq</code>"
            ]
          },
          "metadata": {}
        },
        {
          "output_type": "display_data",
          "data": {
            "text/plain": [
              "<IPython.core.display.HTML object>"
            ],
            "text/html": [
              "Syncing run <strong><a href='https://wandb.ai/omergunal84-hacettepe-university/cnn-mnist-optimization/runs/bs6iosyq' target=\"_blank\">swift-sweep-10</a></strong> to <a href='https://wandb.ai/omergunal84-hacettepe-university/cnn-mnist-optimization' target=\"_blank\">Weights & Biases</a> (<a href='https://wandb.me/developer-guide' target=\"_blank\">docs</a>)<br>Sweep page: <a href='https://wandb.ai/omergunal84-hacettepe-university/cnn-mnist-optimization/sweeps/dpof9qfz' target=\"_blank\">https://wandb.ai/omergunal84-hacettepe-university/cnn-mnist-optimization/sweeps/dpof9qfz</a>"
            ]
          },
          "metadata": {}
        },
        {
          "output_type": "display_data",
          "data": {
            "text/plain": [
              "<IPython.core.display.HTML object>"
            ],
            "text/html": [
              " View project at <a href='https://wandb.ai/omergunal84-hacettepe-university/cnn-mnist-optimization' target=\"_blank\">https://wandb.ai/omergunal84-hacettepe-university/cnn-mnist-optimization</a>"
            ]
          },
          "metadata": {}
        },
        {
          "output_type": "display_data",
          "data": {
            "text/plain": [
              "<IPython.core.display.HTML object>"
            ],
            "text/html": [
              " View sweep at <a href='https://wandb.ai/omergunal84-hacettepe-university/cnn-mnist-optimization/sweeps/dpof9qfz' target=\"_blank\">https://wandb.ai/omergunal84-hacettepe-university/cnn-mnist-optimization/sweeps/dpof9qfz</a>"
            ]
          },
          "metadata": {}
        },
        {
          "output_type": "display_data",
          "data": {
            "text/plain": [
              "<IPython.core.display.HTML object>"
            ],
            "text/html": [
              " View run at <a href='https://wandb.ai/omergunal84-hacettepe-university/cnn-mnist-optimization/runs/bs6iosyq' target=\"_blank\">https://wandb.ai/omergunal84-hacettepe-university/cnn-mnist-optimization/runs/bs6iosyq</a>"
            ]
          },
          "metadata": {}
        },
        {
          "output_type": "stream",
          "name": "stdout",
          "text": [
            "Epoch 1/10\n",
            "375/375 - 7s - 18ms/step - accuracy: 0.8513 - loss: 0.4413 - val_accuracy: 0.9779 - val_loss: 0.0739\n",
            "Epoch 2/10\n",
            "375/375 - 3s - 7ms/step - accuracy: 0.9612 - loss: 0.1286 - val_accuracy: 0.9802 - val_loss: 0.0673\n",
            "Epoch 3/10\n",
            "375/375 - 2s - 7ms/step - accuracy: 0.9671 - loss: 0.1094 - val_accuracy: 0.9845 - val_loss: 0.0542\n",
            "Epoch 4/10\n",
            "375/375 - 3s - 7ms/step - accuracy: 0.9704 - loss: 0.0967 - val_accuracy: 0.9843 - val_loss: 0.0550\n",
            "Epoch 5/10\n",
            "375/375 - 3s - 7ms/step - accuracy: 0.9740 - loss: 0.0866 - val_accuracy: 0.9862 - val_loss: 0.0599\n",
            "Epoch 6/10\n",
            "375/375 - 3s - 7ms/step - accuracy: 0.9736 - loss: 0.0843 - val_accuracy: 0.9852 - val_loss: 0.0571\n",
            "Epoch 7/10\n",
            "375/375 - 2s - 7ms/step - accuracy: 0.9745 - loss: 0.0811 - val_accuracy: 0.9856 - val_loss: 0.0578\n",
            "Epoch 8/10\n",
            "375/375 - 3s - 7ms/step - accuracy: 0.9734 - loss: 0.0827 - val_accuracy: 0.9864 - val_loss: 0.0550\n",
            "Epoch 9/10\n",
            "375/375 - 3s - 7ms/step - accuracy: 0.9769 - loss: 0.0746 - val_accuracy: 0.9852 - val_loss: 0.0574\n",
            "Epoch 10/10\n",
            "375/375 - 3s - 7ms/step - accuracy: 0.9782 - loss: 0.0707 - val_accuracy: 0.9876 - val_loss: 0.0470\n"
          ]
        },
        {
          "output_type": "display_data",
          "data": {
            "text/plain": [
              "<IPython.core.display.HTML object>"
            ],
            "text/html": []
          },
          "metadata": {}
        },
        {
          "output_type": "display_data",
          "data": {
            "text/plain": [
              "<IPython.core.display.HTML object>"
            ],
            "text/html": [
              "<br>    <style><br>        .wandb-row {<br>            display: flex;<br>            flex-direction: row;<br>            flex-wrap: wrap;<br>            justify-content: flex-start;<br>            width: 100%;<br>        }<br>        .wandb-col {<br>            display: flex;<br>            flex-direction: column;<br>            flex-basis: 100%;<br>            flex: 1;<br>            padding: 10px;<br>        }<br>    </style><br><div class=\"wandb-row\"><div class=\"wandb-col\"><h3>Run history:</h3><br/><table class=\"wandb\"><tr><td>epoch/accuracy</td><td>▁▇▇███████</td></tr><tr><td>epoch/epoch</td><td>▁▂▃▃▄▅▆▆▇█</td></tr><tr><td>epoch/learning_rate</td><td>▁▁▁▁▁▁▁▁▁▁</td></tr><tr><td>epoch/loss</td><td>█▂▂▁▁▁▁▁▁▁</td></tr><tr><td>epoch/val_accuracy</td><td>▁▃▆▆▇▆▇▇▆█</td></tr><tr><td>epoch/val_loss</td><td>█▆▃▃▄▄▄▃▄▁</td></tr></table><br/></div><div class=\"wandb-col\"><h3>Run summary:</h3><br/><table class=\"wandb\"><tr><td>epoch/accuracy</td><td>0.97817</td></tr><tr><td>epoch/epoch</td><td>9</td></tr><tr><td>epoch/learning_rate</td><td>0.01</td></tr><tr><td>epoch/loss</td><td>0.07073</td></tr><tr><td>epoch/val_accuracy</td><td>0.98758</td></tr><tr><td>epoch/val_loss</td><td>0.04704</td></tr></table><br/></div></div>"
            ]
          },
          "metadata": {}
        },
        {
          "output_type": "display_data",
          "data": {
            "text/plain": [
              "<IPython.core.display.HTML object>"
            ],
            "text/html": [
              " View run <strong style=\"color:#cdcd00\">swift-sweep-10</strong> at: <a href='https://wandb.ai/omergunal84-hacettepe-university/cnn-mnist-optimization/runs/bs6iosyq' target=\"_blank\">https://wandb.ai/omergunal84-hacettepe-university/cnn-mnist-optimization/runs/bs6iosyq</a><br> View project at: <a href='https://wandb.ai/omergunal84-hacettepe-university/cnn-mnist-optimization' target=\"_blank\">https://wandb.ai/omergunal84-hacettepe-university/cnn-mnist-optimization</a><br>Synced 5 W&B file(s), 0 media file(s), 0 artifact file(s) and 0 other file(s)"
            ]
          },
          "metadata": {}
        },
        {
          "output_type": "display_data",
          "data": {
            "text/plain": [
              "<IPython.core.display.HTML object>"
            ],
            "text/html": [
              "Find logs at: <code>./wandb/run-20250518_074525-bs6iosyq/logs</code>"
            ]
          },
          "metadata": {}
        },
        {
          "output_type": "stream",
          "name": "stderr",
          "text": [
            "\u001b[34m\u001b[1mwandb\u001b[0m: Agent Starting Run: dvytv4mz with config:\n",
            "\u001b[34m\u001b[1mwandb\u001b[0m: \tbatch_size: 64\n",
            "\u001b[34m\u001b[1mwandb\u001b[0m: \tdropout_rate: 0.3\n",
            "\u001b[34m\u001b[1mwandb\u001b[0m: \tepochs: 10\n",
            "\u001b[34m\u001b[1mwandb\u001b[0m: \tinit_mode: glorot_uniform\n",
            "\u001b[34m\u001b[1mwandb\u001b[0m: \tlearning_rate: 0.001\n",
            "\u001b[34m\u001b[1mwandb\u001b[0m: \toptimizer: sgd\n"
          ]
        },
        {
          "output_type": "display_data",
          "data": {
            "text/plain": [
              "<IPython.core.display.HTML object>"
            ],
            "text/html": [
              "Tracking run with wandb version 0.19.11"
            ]
          },
          "metadata": {}
        },
        {
          "output_type": "display_data",
          "data": {
            "text/plain": [
              "<IPython.core.display.HTML object>"
            ],
            "text/html": [
              "Run data is saved locally in <code>/content/wandb/run-20250518_074601-dvytv4mz</code>"
            ]
          },
          "metadata": {}
        },
        {
          "output_type": "display_data",
          "data": {
            "text/plain": [
              "<IPython.core.display.HTML object>"
            ],
            "text/html": [
              "Syncing run <strong><a href='https://wandb.ai/omergunal84-hacettepe-university/cnn-mnist-optimization/runs/dvytv4mz' target=\"_blank\">faithful-sweep-11</a></strong> to <a href='https://wandb.ai/omergunal84-hacettepe-university/cnn-mnist-optimization' target=\"_blank\">Weights & Biases</a> (<a href='https://wandb.me/developer-guide' target=\"_blank\">docs</a>)<br>Sweep page: <a href='https://wandb.ai/omergunal84-hacettepe-university/cnn-mnist-optimization/sweeps/dpof9qfz' target=\"_blank\">https://wandb.ai/omergunal84-hacettepe-university/cnn-mnist-optimization/sweeps/dpof9qfz</a>"
            ]
          },
          "metadata": {}
        },
        {
          "output_type": "display_data",
          "data": {
            "text/plain": [
              "<IPython.core.display.HTML object>"
            ],
            "text/html": [
              " View project at <a href='https://wandb.ai/omergunal84-hacettepe-university/cnn-mnist-optimization' target=\"_blank\">https://wandb.ai/omergunal84-hacettepe-university/cnn-mnist-optimization</a>"
            ]
          },
          "metadata": {}
        },
        {
          "output_type": "display_data",
          "data": {
            "text/plain": [
              "<IPython.core.display.HTML object>"
            ],
            "text/html": [
              " View sweep at <a href='https://wandb.ai/omergunal84-hacettepe-university/cnn-mnist-optimization/sweeps/dpof9qfz' target=\"_blank\">https://wandb.ai/omergunal84-hacettepe-university/cnn-mnist-optimization/sweeps/dpof9qfz</a>"
            ]
          },
          "metadata": {}
        },
        {
          "output_type": "display_data",
          "data": {
            "text/plain": [
              "<IPython.core.display.HTML object>"
            ],
            "text/html": [
              " View run at <a href='https://wandb.ai/omergunal84-hacettepe-university/cnn-mnist-optimization/runs/dvytv4mz' target=\"_blank\">https://wandb.ai/omergunal84-hacettepe-university/cnn-mnist-optimization/runs/dvytv4mz</a>"
            ]
          },
          "metadata": {}
        },
        {
          "output_type": "stream",
          "name": "stdout",
          "text": [
            "Epoch 1/10\n",
            "750/750 - 6s - 8ms/step - accuracy: 0.1781 - loss: 2.2840 - val_accuracy: 0.3495 - val_loss: 2.2571\n",
            "Epoch 2/10\n",
            "750/750 - 8s - 11ms/step - accuracy: 0.3524 - loss: 2.1990 - val_accuracy: 0.6145 - val_loss: 2.0732\n",
            "Epoch 3/10\n",
            "750/750 - 6s - 8ms/step - accuracy: 0.5500 - loss: 1.6667 - val_accuracy: 0.8016 - val_loss: 0.9567\n",
            "Epoch 4/10\n",
            "750/750 - 5s - 6ms/step - accuracy: 0.7376 - loss: 0.8648 - val_accuracy: 0.8784 - val_loss: 0.4823\n",
            "Epoch 5/10\n",
            "750/750 - 5s - 6ms/step - accuracy: 0.8149 - loss: 0.6073 - val_accuracy: 0.9042 - val_loss: 0.3566\n",
            "Epoch 6/10\n",
            "750/750 - 4s - 5ms/step - accuracy: 0.8495 - loss: 0.4948 - val_accuracy: 0.9165 - val_loss: 0.2961\n",
            "Epoch 7/10\n",
            "750/750 - 5s - 6ms/step - accuracy: 0.8701 - loss: 0.4317 - val_accuracy: 0.9258 - val_loss: 0.2615\n",
            "Epoch 8/10\n",
            "750/750 - 3s - 4ms/step - accuracy: 0.8820 - loss: 0.3893 - val_accuracy: 0.9328 - val_loss: 0.2368\n",
            "Epoch 9/10\n",
            "750/750 - 6s - 7ms/step - accuracy: 0.8939 - loss: 0.3539 - val_accuracy: 0.9371 - val_loss: 0.2180\n",
            "Epoch 10/10\n",
            "750/750 - 3s - 5ms/step - accuracy: 0.9013 - loss: 0.3305 - val_accuracy: 0.9391 - val_loss: 0.2045\n"
          ]
        },
        {
          "output_type": "display_data",
          "data": {
            "text/plain": [
              "<IPython.core.display.HTML object>"
            ],
            "text/html": []
          },
          "metadata": {}
        },
        {
          "output_type": "display_data",
          "data": {
            "text/plain": [
              "<IPython.core.display.HTML object>"
            ],
            "text/html": [
              "<br>    <style><br>        .wandb-row {<br>            display: flex;<br>            flex-direction: row;<br>            flex-wrap: wrap;<br>            justify-content: flex-start;<br>            width: 100%;<br>        }<br>        .wandb-col {<br>            display: flex;<br>            flex-direction: column;<br>            flex-basis: 100%;<br>            flex: 1;<br>            padding: 10px;<br>        }<br>    </style><br><div class=\"wandb-row\"><div class=\"wandb-col\"><h3>Run history:</h3><br/><table class=\"wandb\"><tr><td>epoch/accuracy</td><td>▁▃▅▆▇▇████</td></tr><tr><td>epoch/epoch</td><td>▁▂▃▃▄▅▆▆▇█</td></tr><tr><td>epoch/learning_rate</td><td>▁▁▁▁▁▁▁▁▁▁</td></tr><tr><td>epoch/loss</td><td>██▆▃▂▂▁▁▁▁</td></tr><tr><td>epoch/val_accuracy</td><td>▁▄▆▇██████</td></tr><tr><td>epoch/val_loss</td><td>█▇▄▂▂▁▁▁▁▁</td></tr></table><br/></div><div class=\"wandb-col\"><h3>Run summary:</h3><br/><table class=\"wandb\"><tr><td>epoch/accuracy</td><td>0.90129</td></tr><tr><td>epoch/epoch</td><td>9</td></tr><tr><td>epoch/learning_rate</td><td>0.001</td></tr><tr><td>epoch/loss</td><td>0.33054</td></tr><tr><td>epoch/val_accuracy</td><td>0.93908</td></tr><tr><td>epoch/val_loss</td><td>0.20448</td></tr></table><br/></div></div>"
            ]
          },
          "metadata": {}
        },
        {
          "output_type": "display_data",
          "data": {
            "text/plain": [
              "<IPython.core.display.HTML object>"
            ],
            "text/html": [
              " View run <strong style=\"color:#cdcd00\">faithful-sweep-11</strong> at: <a href='https://wandb.ai/omergunal84-hacettepe-university/cnn-mnist-optimization/runs/dvytv4mz' target=\"_blank\">https://wandb.ai/omergunal84-hacettepe-university/cnn-mnist-optimization/runs/dvytv4mz</a><br> View project at: <a href='https://wandb.ai/omergunal84-hacettepe-university/cnn-mnist-optimization' target=\"_blank\">https://wandb.ai/omergunal84-hacettepe-university/cnn-mnist-optimization</a><br>Synced 5 W&B file(s), 0 media file(s), 0 artifact file(s) and 0 other file(s)"
            ]
          },
          "metadata": {}
        },
        {
          "output_type": "display_data",
          "data": {
            "text/plain": [
              "<IPython.core.display.HTML object>"
            ],
            "text/html": [
              "Find logs at: <code>./wandb/run-20250518_074601-dvytv4mz/logs</code>"
            ]
          },
          "metadata": {}
        },
        {
          "output_type": "stream",
          "name": "stderr",
          "text": [
            "\u001b[34m\u001b[1mwandb\u001b[0m: Agent Starting Run: urn65jra with config:\n",
            "\u001b[34m\u001b[1mwandb\u001b[0m: \tbatch_size: 32\n",
            "\u001b[34m\u001b[1mwandb\u001b[0m: \tdropout_rate: 0.3\n",
            "\u001b[34m\u001b[1mwandb\u001b[0m: \tepochs: 10\n",
            "\u001b[34m\u001b[1mwandb\u001b[0m: \tinit_mode: glorot_uniform\n",
            "\u001b[34m\u001b[1mwandb\u001b[0m: \tlearning_rate: 0.0001\n",
            "\u001b[34m\u001b[1mwandb\u001b[0m: \toptimizer: sgd\n"
          ]
        },
        {
          "output_type": "display_data",
          "data": {
            "text/plain": [
              "<IPython.core.display.HTML object>"
            ],
            "text/html": [
              "Tracking run with wandb version 0.19.11"
            ]
          },
          "metadata": {}
        },
        {
          "output_type": "display_data",
          "data": {
            "text/plain": [
              "<IPython.core.display.HTML object>"
            ],
            "text/html": [
              "Run data is saved locally in <code>/content/wandb/run-20250518_074657-urn65jra</code>"
            ]
          },
          "metadata": {}
        },
        {
          "output_type": "display_data",
          "data": {
            "text/plain": [
              "<IPython.core.display.HTML object>"
            ],
            "text/html": [
              "Syncing run <strong><a href='https://wandb.ai/omergunal84-hacettepe-university/cnn-mnist-optimization/runs/urn65jra' target=\"_blank\">cosmic-sweep-12</a></strong> to <a href='https://wandb.ai/omergunal84-hacettepe-university/cnn-mnist-optimization' target=\"_blank\">Weights & Biases</a> (<a href='https://wandb.me/developer-guide' target=\"_blank\">docs</a>)<br>Sweep page: <a href='https://wandb.ai/omergunal84-hacettepe-university/cnn-mnist-optimization/sweeps/dpof9qfz' target=\"_blank\">https://wandb.ai/omergunal84-hacettepe-university/cnn-mnist-optimization/sweeps/dpof9qfz</a>"
            ]
          },
          "metadata": {}
        },
        {
          "output_type": "display_data",
          "data": {
            "text/plain": [
              "<IPython.core.display.HTML object>"
            ],
            "text/html": [
              " View project at <a href='https://wandb.ai/omergunal84-hacettepe-university/cnn-mnist-optimization' target=\"_blank\">https://wandb.ai/omergunal84-hacettepe-university/cnn-mnist-optimization</a>"
            ]
          },
          "metadata": {}
        },
        {
          "output_type": "display_data",
          "data": {
            "text/plain": [
              "<IPython.core.display.HTML object>"
            ],
            "text/html": [
              " View sweep at <a href='https://wandb.ai/omergunal84-hacettepe-university/cnn-mnist-optimization/sweeps/dpof9qfz' target=\"_blank\">https://wandb.ai/omergunal84-hacettepe-university/cnn-mnist-optimization/sweeps/dpof9qfz</a>"
            ]
          },
          "metadata": {}
        },
        {
          "output_type": "display_data",
          "data": {
            "text/plain": [
              "<IPython.core.display.HTML object>"
            ],
            "text/html": [
              " View run at <a href='https://wandb.ai/omergunal84-hacettepe-university/cnn-mnist-optimization/runs/urn65jra' target=\"_blank\">https://wandb.ai/omergunal84-hacettepe-university/cnn-mnist-optimization/runs/urn65jra</a>"
            ]
          },
          "metadata": {}
        },
        {
          "output_type": "stream",
          "name": "stdout",
          "text": [
            "Epoch 1/10\n",
            "1500/1500 - 7s - 5ms/step - accuracy: 0.1239 - loss: 2.2975 - val_accuracy: 0.1752 - val_loss: 2.2922\n",
            "Epoch 2/10\n",
            "1500/1500 - 9s - 6ms/step - accuracy: 0.1721 - loss: 2.2876 - val_accuracy: 0.2399 - val_loss: 2.2822\n",
            "Epoch 3/10\n",
            "1500/1500 - 5s - 3ms/step - accuracy: 0.2134 - loss: 2.2778 - val_accuracy: 0.2906 - val_loss: 2.2714\n",
            "Epoch 4/10\n",
            "1500/1500 - 6s - 4ms/step - accuracy: 0.2552 - loss: 2.2663 - val_accuracy: 0.3501 - val_loss: 2.2581\n",
            "Epoch 5/10\n",
            "1500/1500 - 5s - 4ms/step - accuracy: 0.2875 - loss: 2.2517 - val_accuracy: 0.3949 - val_loss: 2.2399\n",
            "Epoch 6/10\n",
            "1500/1500 - 11s - 7ms/step - accuracy: 0.3235 - loss: 2.2313 - val_accuracy: 0.4256 - val_loss: 2.2145\n",
            "Epoch 7/10\n",
            "1500/1500 - 5s - 3ms/step - accuracy: 0.3489 - loss: 2.2019 - val_accuracy: 0.4596 - val_loss: 2.1779\n",
            "Epoch 8/10\n",
            "1500/1500 - 6s - 4ms/step - accuracy: 0.3769 - loss: 2.1596 - val_accuracy: 0.4996 - val_loss: 2.1231\n",
            "Epoch 9/10\n",
            "1500/1500 - 10s - 7ms/step - accuracy: 0.4134 - loss: 2.0960 - val_accuracy: 0.5452 - val_loss: 2.0367\n",
            "Epoch 10/10\n",
            "1500/1500 - 10s - 6ms/step - accuracy: 0.4500 - loss: 1.9948 - val_accuracy: 0.5939 - val_loss: 1.8983\n"
          ]
        },
        {
          "output_type": "display_data",
          "data": {
            "text/plain": [
              "<IPython.core.display.HTML object>"
            ],
            "text/html": []
          },
          "metadata": {}
        },
        {
          "output_type": "display_data",
          "data": {
            "text/plain": [
              "<IPython.core.display.HTML object>"
            ],
            "text/html": [
              "<br>    <style><br>        .wandb-row {<br>            display: flex;<br>            flex-direction: row;<br>            flex-wrap: wrap;<br>            justify-content: flex-start;<br>            width: 100%;<br>        }<br>        .wandb-col {<br>            display: flex;<br>            flex-direction: column;<br>            flex-basis: 100%;<br>            flex: 1;<br>            padding: 10px;<br>        }<br>    </style><br><div class=\"wandb-row\"><div class=\"wandb-col\"><h3>Run history:</h3><br/><table class=\"wandb\"><tr><td>epoch/accuracy</td><td>▁▂▃▄▅▅▆▆▇█</td></tr><tr><td>epoch/epoch</td><td>▁▂▃▃▄▅▆▆▇█</td></tr><tr><td>epoch/learning_rate</td><td>▁▁▁▁▁▁▁▁▁▁</td></tr><tr><td>epoch/loss</td><td>███▇▇▆▆▅▃▁</td></tr><tr><td>epoch/val_accuracy</td><td>▁▂▃▄▅▅▆▆▇█</td></tr><tr><td>epoch/val_loss</td><td>███▇▇▇▆▅▃▁</td></tr></table><br/></div><div class=\"wandb-col\"><h3>Run summary:</h3><br/><table class=\"wandb\"><tr><td>epoch/accuracy</td><td>0.44998</td></tr><tr><td>epoch/epoch</td><td>9</td></tr><tr><td>epoch/learning_rate</td><td>0.0001</td></tr><tr><td>epoch/loss</td><td>1.99482</td></tr><tr><td>epoch/val_accuracy</td><td>0.59392</td></tr><tr><td>epoch/val_loss</td><td>1.89831</td></tr></table><br/></div></div>"
            ]
          },
          "metadata": {}
        },
        {
          "output_type": "display_data",
          "data": {
            "text/plain": [
              "<IPython.core.display.HTML object>"
            ],
            "text/html": [
              " View run <strong style=\"color:#cdcd00\">cosmic-sweep-12</strong> at: <a href='https://wandb.ai/omergunal84-hacettepe-university/cnn-mnist-optimization/runs/urn65jra' target=\"_blank\">https://wandb.ai/omergunal84-hacettepe-university/cnn-mnist-optimization/runs/urn65jra</a><br> View project at: <a href='https://wandb.ai/omergunal84-hacettepe-university/cnn-mnist-optimization' target=\"_blank\">https://wandb.ai/omergunal84-hacettepe-university/cnn-mnist-optimization</a><br>Synced 5 W&B file(s), 0 media file(s), 0 artifact file(s) and 0 other file(s)"
            ]
          },
          "metadata": {}
        },
        {
          "output_type": "display_data",
          "data": {
            "text/plain": [
              "<IPython.core.display.HTML object>"
            ],
            "text/html": [
              "Find logs at: <code>./wandb/run-20250518_074657-urn65jra/logs</code>"
            ]
          },
          "metadata": {}
        },
        {
          "output_type": "stream",
          "name": "stderr",
          "text": [
            "\u001b[34m\u001b[1mwandb\u001b[0m: Agent Starting Run: 3oqezwax with config:\n",
            "\u001b[34m\u001b[1mwandb\u001b[0m: \tbatch_size: 128\n",
            "\u001b[34m\u001b[1mwandb\u001b[0m: \tdropout_rate: 0.5\n",
            "\u001b[34m\u001b[1mwandb\u001b[0m: \tepochs: 10\n",
            "\u001b[34m\u001b[1mwandb\u001b[0m: \tinit_mode: glorot_uniform\n",
            "\u001b[34m\u001b[1mwandb\u001b[0m: \tlearning_rate: 0.01\n",
            "\u001b[34m\u001b[1mwandb\u001b[0m: \toptimizer: adam\n"
          ]
        },
        {
          "output_type": "display_data",
          "data": {
            "text/plain": [
              "<IPython.core.display.HTML object>"
            ],
            "text/html": [
              "Tracking run with wandb version 0.19.11"
            ]
          },
          "metadata": {}
        },
        {
          "output_type": "display_data",
          "data": {
            "text/plain": [
              "<IPython.core.display.HTML object>"
            ],
            "text/html": [
              "Run data is saved locally in <code>/content/wandb/run-20250518_074819-3oqezwax</code>"
            ]
          },
          "metadata": {}
        },
        {
          "output_type": "display_data",
          "data": {
            "text/plain": [
              "<IPython.core.display.HTML object>"
            ],
            "text/html": [
              "Syncing run <strong><a href='https://wandb.ai/omergunal84-hacettepe-university/cnn-mnist-optimization/runs/3oqezwax' target=\"_blank\">eager-sweep-13</a></strong> to <a href='https://wandb.ai/omergunal84-hacettepe-university/cnn-mnist-optimization' target=\"_blank\">Weights & Biases</a> (<a href='https://wandb.me/developer-guide' target=\"_blank\">docs</a>)<br>Sweep page: <a href='https://wandb.ai/omergunal84-hacettepe-university/cnn-mnist-optimization/sweeps/dpof9qfz' target=\"_blank\">https://wandb.ai/omergunal84-hacettepe-university/cnn-mnist-optimization/sweeps/dpof9qfz</a>"
            ]
          },
          "metadata": {}
        },
        {
          "output_type": "display_data",
          "data": {
            "text/plain": [
              "<IPython.core.display.HTML object>"
            ],
            "text/html": [
              " View project at <a href='https://wandb.ai/omergunal84-hacettepe-university/cnn-mnist-optimization' target=\"_blank\">https://wandb.ai/omergunal84-hacettepe-university/cnn-mnist-optimization</a>"
            ]
          },
          "metadata": {}
        },
        {
          "output_type": "display_data",
          "data": {
            "text/plain": [
              "<IPython.core.display.HTML object>"
            ],
            "text/html": [
              " View sweep at <a href='https://wandb.ai/omergunal84-hacettepe-university/cnn-mnist-optimization/sweeps/dpof9qfz' target=\"_blank\">https://wandb.ai/omergunal84-hacettepe-university/cnn-mnist-optimization/sweeps/dpof9qfz</a>"
            ]
          },
          "metadata": {}
        },
        {
          "output_type": "display_data",
          "data": {
            "text/plain": [
              "<IPython.core.display.HTML object>"
            ],
            "text/html": [
              " View run at <a href='https://wandb.ai/omergunal84-hacettepe-university/cnn-mnist-optimization/runs/3oqezwax' target=\"_blank\">https://wandb.ai/omergunal84-hacettepe-university/cnn-mnist-optimization/runs/3oqezwax</a>"
            ]
          },
          "metadata": {}
        },
        {
          "output_type": "stream",
          "name": "stdout",
          "text": [
            "Epoch 1/10\n",
            "375/375 - 6s - 17ms/step - accuracy: 0.8859 - loss: 0.3558 - val_accuracy: 0.9775 - val_loss: 0.0703\n",
            "Epoch 2/10\n",
            "375/375 - 7s - 20ms/step - accuracy: 0.9490 - loss: 0.1641 - val_accuracy: 0.9817 - val_loss: 0.0708\n",
            "Epoch 3/10\n",
            "375/375 - 6s - 15ms/step - accuracy: 0.9563 - loss: 0.1393 - val_accuracy: 0.9840 - val_loss: 0.0641\n",
            "Epoch 4/10\n",
            "375/375 - 2s - 7ms/step - accuracy: 0.9600 - loss: 0.1297 - val_accuracy: 0.9861 - val_loss: 0.0494\n",
            "Epoch 5/10\n",
            "375/375 - 2s - 7ms/step - accuracy: 0.9627 - loss: 0.1193 - val_accuracy: 0.9868 - val_loss: 0.0534\n",
            "Epoch 6/10\n",
            "375/375 - 2s - 6ms/step - accuracy: 0.9633 - loss: 0.1206 - val_accuracy: 0.9869 - val_loss: 0.0568\n",
            "Epoch 7/10\n",
            "375/375 - 3s - 7ms/step - accuracy: 0.9675 - loss: 0.1044 - val_accuracy: 0.9872 - val_loss: 0.0538\n",
            "Epoch 8/10\n",
            "375/375 - 3s - 7ms/step - accuracy: 0.9675 - loss: 0.1039 - val_accuracy: 0.9862 - val_loss: 0.0530\n",
            "Epoch 9/10\n",
            "375/375 - 5s - 13ms/step - accuracy: 0.9705 - loss: 0.0957 - val_accuracy: 0.9875 - val_loss: 0.0546\n",
            "Epoch 10/10\n",
            "375/375 - 2s - 7ms/step - accuracy: 0.9667 - loss: 0.1054 - val_accuracy: 0.9870 - val_loss: 0.0537\n"
          ]
        },
        {
          "output_type": "display_data",
          "data": {
            "text/plain": [
              "<IPython.core.display.HTML object>"
            ],
            "text/html": []
          },
          "metadata": {}
        },
        {
          "output_type": "display_data",
          "data": {
            "text/plain": [
              "<IPython.core.display.HTML object>"
            ],
            "text/html": [
              "<br>    <style><br>        .wandb-row {<br>            display: flex;<br>            flex-direction: row;<br>            flex-wrap: wrap;<br>            justify-content: flex-start;<br>            width: 100%;<br>        }<br>        .wandb-col {<br>            display: flex;<br>            flex-direction: column;<br>            flex-basis: 100%;<br>            flex: 1;<br>            padding: 10px;<br>        }<br>    </style><br><div class=\"wandb-row\"><div class=\"wandb-col\"><h3>Run history:</h3><br/><table class=\"wandb\"><tr><td>epoch/accuracy</td><td>▁▆▇▇▇▇████</td></tr><tr><td>epoch/epoch</td><td>▁▂▃▃▄▅▆▆▇█</td></tr><tr><td>epoch/learning_rate</td><td>▁▁▁▁▁▁▁▁▁▁</td></tr><tr><td>epoch/loss</td><td>█▃▂▂▂▂▁▁▁▁</td></tr><tr><td>epoch/val_accuracy</td><td>▁▄▆▇▇██▇██</td></tr><tr><td>epoch/val_loss</td><td>██▆▁▂▃▂▂▃▂</td></tr></table><br/></div><div class=\"wandb-col\"><h3>Run summary:</h3><br/><table class=\"wandb\"><tr><td>epoch/accuracy</td><td>0.96667</td></tr><tr><td>epoch/epoch</td><td>9</td></tr><tr><td>epoch/learning_rate</td><td>0.01</td></tr><tr><td>epoch/loss</td><td>0.10544</td></tr><tr><td>epoch/val_accuracy</td><td>0.987</td></tr><tr><td>epoch/val_loss</td><td>0.05372</td></tr></table><br/></div></div>"
            ]
          },
          "metadata": {}
        },
        {
          "output_type": "display_data",
          "data": {
            "text/plain": [
              "<IPython.core.display.HTML object>"
            ],
            "text/html": [
              " View run <strong style=\"color:#cdcd00\">eager-sweep-13</strong> at: <a href='https://wandb.ai/omergunal84-hacettepe-university/cnn-mnist-optimization/runs/3oqezwax' target=\"_blank\">https://wandb.ai/omergunal84-hacettepe-university/cnn-mnist-optimization/runs/3oqezwax</a><br> View project at: <a href='https://wandb.ai/omergunal84-hacettepe-university/cnn-mnist-optimization' target=\"_blank\">https://wandb.ai/omergunal84-hacettepe-university/cnn-mnist-optimization</a><br>Synced 5 W&B file(s), 0 media file(s), 0 artifact file(s) and 0 other file(s)"
            ]
          },
          "metadata": {}
        },
        {
          "output_type": "display_data",
          "data": {
            "text/plain": [
              "<IPython.core.display.HTML object>"
            ],
            "text/html": [
              "Find logs at: <code>./wandb/run-20250518_074819-3oqezwax/logs</code>"
            ]
          },
          "metadata": {}
        },
        {
          "output_type": "stream",
          "name": "stderr",
          "text": [
            "\u001b[34m\u001b[1mwandb\u001b[0m: Agent Starting Run: 9ehf5svk with config:\n",
            "\u001b[34m\u001b[1mwandb\u001b[0m: \tbatch_size: 64\n",
            "\u001b[34m\u001b[1mwandb\u001b[0m: \tdropout_rate: 0.3\n",
            "\u001b[34m\u001b[1mwandb\u001b[0m: \tepochs: 10\n",
            "\u001b[34m\u001b[1mwandb\u001b[0m: \tinit_mode: glorot_uniform\n",
            "\u001b[34m\u001b[1mwandb\u001b[0m: \tlearning_rate: 0.001\n",
            "\u001b[34m\u001b[1mwandb\u001b[0m: \toptimizer: adam\n"
          ]
        },
        {
          "output_type": "display_data",
          "data": {
            "text/plain": [
              "<IPython.core.display.HTML object>"
            ],
            "text/html": [
              "Tracking run with wandb version 0.19.11"
            ]
          },
          "metadata": {}
        },
        {
          "output_type": "display_data",
          "data": {
            "text/plain": [
              "<IPython.core.display.HTML object>"
            ],
            "text/html": [
              "Run data is saved locally in <code>/content/wandb/run-20250518_074904-9ehf5svk</code>"
            ]
          },
          "metadata": {}
        },
        {
          "output_type": "display_data",
          "data": {
            "text/plain": [
              "<IPython.core.display.HTML object>"
            ],
            "text/html": [
              "Syncing run <strong><a href='https://wandb.ai/omergunal84-hacettepe-university/cnn-mnist-optimization/runs/9ehf5svk' target=\"_blank\">decent-sweep-14</a></strong> to <a href='https://wandb.ai/omergunal84-hacettepe-university/cnn-mnist-optimization' target=\"_blank\">Weights & Biases</a> (<a href='https://wandb.me/developer-guide' target=\"_blank\">docs</a>)<br>Sweep page: <a href='https://wandb.ai/omergunal84-hacettepe-university/cnn-mnist-optimization/sweeps/dpof9qfz' target=\"_blank\">https://wandb.ai/omergunal84-hacettepe-university/cnn-mnist-optimization/sweeps/dpof9qfz</a>"
            ]
          },
          "metadata": {}
        },
        {
          "output_type": "display_data",
          "data": {
            "text/plain": [
              "<IPython.core.display.HTML object>"
            ],
            "text/html": [
              " View project at <a href='https://wandb.ai/omergunal84-hacettepe-university/cnn-mnist-optimization' target=\"_blank\">https://wandb.ai/omergunal84-hacettepe-university/cnn-mnist-optimization</a>"
            ]
          },
          "metadata": {}
        },
        {
          "output_type": "display_data",
          "data": {
            "text/plain": [
              "<IPython.core.display.HTML object>"
            ],
            "text/html": [
              " View sweep at <a href='https://wandb.ai/omergunal84-hacettepe-university/cnn-mnist-optimization/sweeps/dpof9qfz' target=\"_blank\">https://wandb.ai/omergunal84-hacettepe-university/cnn-mnist-optimization/sweeps/dpof9qfz</a>"
            ]
          },
          "metadata": {}
        },
        {
          "output_type": "display_data",
          "data": {
            "text/plain": [
              "<IPython.core.display.HTML object>"
            ],
            "text/html": [
              " View run at <a href='https://wandb.ai/omergunal84-hacettepe-university/cnn-mnist-optimization/runs/9ehf5svk' target=\"_blank\">https://wandb.ai/omergunal84-hacettepe-university/cnn-mnist-optimization/runs/9ehf5svk</a>"
            ]
          },
          "metadata": {}
        },
        {
          "output_type": "stream",
          "name": "stdout",
          "text": [
            "Epoch 1/10\n",
            "750/750 - 7s - 9ms/step - accuracy: 0.9220 - loss: 0.2497 - val_accuracy: 0.9801 - val_loss: 0.0652\n",
            "Epoch 2/10\n",
            "750/750 - 4s - 5ms/step - accuracy: 0.9767 - loss: 0.0760 - val_accuracy: 0.9883 - val_loss: 0.0392\n",
            "Epoch 3/10\n",
            "750/750 - 5s - 7ms/step - accuracy: 0.9836 - loss: 0.0537 - val_accuracy: 0.9877 - val_loss: 0.0394\n",
            "Epoch 4/10\n",
            "750/750 - 5s - 7ms/step - accuracy: 0.9868 - loss: 0.0451 - val_accuracy: 0.9897 - val_loss: 0.0347\n",
            "Epoch 5/10\n",
            "750/750 - 4s - 5ms/step - accuracy: 0.9890 - loss: 0.0356 - val_accuracy: 0.9892 - val_loss: 0.0376\n",
            "Epoch 6/10\n",
            "750/750 - 5s - 7ms/step - accuracy: 0.9906 - loss: 0.0299 - val_accuracy: 0.9898 - val_loss: 0.0364\n",
            "Epoch 7/10\n",
            "750/750 - 3s - 5ms/step - accuracy: 0.9921 - loss: 0.0264 - val_accuracy: 0.9901 - val_loss: 0.0412\n",
            "Epoch 8/10\n",
            "750/750 - 6s - 7ms/step - accuracy: 0.9926 - loss: 0.0238 - val_accuracy: 0.9901 - val_loss: 0.0408\n",
            "Epoch 9/10\n",
            "750/750 - 3s - 4ms/step - accuracy: 0.9933 - loss: 0.0209 - val_accuracy: 0.9906 - val_loss: 0.0379\n",
            "Epoch 10/10\n",
            "750/750 - 3s - 4ms/step - accuracy: 0.9939 - loss: 0.0187 - val_accuracy: 0.9923 - val_loss: 0.0314\n"
          ]
        },
        {
          "output_type": "display_data",
          "data": {
            "text/plain": [
              "<IPython.core.display.HTML object>"
            ],
            "text/html": []
          },
          "metadata": {}
        },
        {
          "output_type": "display_data",
          "data": {
            "text/plain": [
              "<IPython.core.display.HTML object>"
            ],
            "text/html": [
              "<br>    <style><br>        .wandb-row {<br>            display: flex;<br>            flex-direction: row;<br>            flex-wrap: wrap;<br>            justify-content: flex-start;<br>            width: 100%;<br>        }<br>        .wandb-col {<br>            display: flex;<br>            flex-direction: column;<br>            flex-basis: 100%;<br>            flex: 1;<br>            padding: 10px;<br>        }<br>    </style><br><div class=\"wandb-row\"><div class=\"wandb-col\"><h3>Run history:</h3><br/><table class=\"wandb\"><tr><td>epoch/accuracy</td><td>▁▆▇▇██████</td></tr><tr><td>epoch/epoch</td><td>▁▂▃▃▄▅▆▆▇█</td></tr><tr><td>epoch/learning_rate</td><td>▁▁▁▁▁▁▁▁▁▁</td></tr><tr><td>epoch/loss</td><td>█▃▂▂▂▁▁▁▁▁</td></tr><tr><td>epoch/val_accuracy</td><td>▁▆▅▇▆▇▇▇▇█</td></tr><tr><td>epoch/val_loss</td><td>█▃▃▂▂▂▃▃▂▁</td></tr></table><br/></div><div class=\"wandb-col\"><h3>Run summary:</h3><br/><table class=\"wandb\"><tr><td>epoch/accuracy</td><td>0.99385</td></tr><tr><td>epoch/epoch</td><td>9</td></tr><tr><td>epoch/learning_rate</td><td>0.001</td></tr><tr><td>epoch/loss</td><td>0.0187</td></tr><tr><td>epoch/val_accuracy</td><td>0.99225</td></tr><tr><td>epoch/val_loss</td><td>0.03142</td></tr></table><br/></div></div>"
            ]
          },
          "metadata": {}
        },
        {
          "output_type": "display_data",
          "data": {
            "text/plain": [
              "<IPython.core.display.HTML object>"
            ],
            "text/html": [
              " View run <strong style=\"color:#cdcd00\">decent-sweep-14</strong> at: <a href='https://wandb.ai/omergunal84-hacettepe-university/cnn-mnist-optimization/runs/9ehf5svk' target=\"_blank\">https://wandb.ai/omergunal84-hacettepe-university/cnn-mnist-optimization/runs/9ehf5svk</a><br> View project at: <a href='https://wandb.ai/omergunal84-hacettepe-university/cnn-mnist-optimization' target=\"_blank\">https://wandb.ai/omergunal84-hacettepe-university/cnn-mnist-optimization</a><br>Synced 5 W&B file(s), 0 media file(s), 0 artifact file(s) and 0 other file(s)"
            ]
          },
          "metadata": {}
        },
        {
          "output_type": "display_data",
          "data": {
            "text/plain": [
              "<IPython.core.display.HTML object>"
            ],
            "text/html": [
              "Find logs at: <code>./wandb/run-20250518_074904-9ehf5svk/logs</code>"
            ]
          },
          "metadata": {}
        },
        {
          "output_type": "stream",
          "name": "stderr",
          "text": [
            "\u001b[34m\u001b[1mwandb\u001b[0m: Agent Starting Run: n6tcm1o0 with config:\n",
            "\u001b[34m\u001b[1mwandb\u001b[0m: \tbatch_size: 64\n",
            "\u001b[34m\u001b[1mwandb\u001b[0m: \tdropout_rate: 0.3\n",
            "\u001b[34m\u001b[1mwandb\u001b[0m: \tepochs: 10\n",
            "\u001b[34m\u001b[1mwandb\u001b[0m: \tinit_mode: glorot_uniform\n",
            "\u001b[34m\u001b[1mwandb\u001b[0m: \tlearning_rate: 0.01\n",
            "\u001b[34m\u001b[1mwandb\u001b[0m: \toptimizer: sgd\n"
          ]
        },
        {
          "output_type": "display_data",
          "data": {
            "text/plain": [
              "<IPython.core.display.HTML object>"
            ],
            "text/html": [
              "Tracking run with wandb version 0.19.11"
            ]
          },
          "metadata": {}
        },
        {
          "output_type": "display_data",
          "data": {
            "text/plain": [
              "<IPython.core.display.HTML object>"
            ],
            "text/html": [
              "Run data is saved locally in <code>/content/wandb/run-20250518_074955-n6tcm1o0</code>"
            ]
          },
          "metadata": {}
        },
        {
          "output_type": "display_data",
          "data": {
            "text/plain": [
              "<IPython.core.display.HTML object>"
            ],
            "text/html": [
              "Syncing run <strong><a href='https://wandb.ai/omergunal84-hacettepe-university/cnn-mnist-optimization/runs/n6tcm1o0' target=\"_blank\">golden-sweep-15</a></strong> to <a href='https://wandb.ai/omergunal84-hacettepe-university/cnn-mnist-optimization' target=\"_blank\">Weights & Biases</a> (<a href='https://wandb.me/developer-guide' target=\"_blank\">docs</a>)<br>Sweep page: <a href='https://wandb.ai/omergunal84-hacettepe-university/cnn-mnist-optimization/sweeps/dpof9qfz' target=\"_blank\">https://wandb.ai/omergunal84-hacettepe-university/cnn-mnist-optimization/sweeps/dpof9qfz</a>"
            ]
          },
          "metadata": {}
        },
        {
          "output_type": "display_data",
          "data": {
            "text/plain": [
              "<IPython.core.display.HTML object>"
            ],
            "text/html": [
              " View project at <a href='https://wandb.ai/omergunal84-hacettepe-university/cnn-mnist-optimization' target=\"_blank\">https://wandb.ai/omergunal84-hacettepe-university/cnn-mnist-optimization</a>"
            ]
          },
          "metadata": {}
        },
        {
          "output_type": "display_data",
          "data": {
            "text/plain": [
              "<IPython.core.display.HTML object>"
            ],
            "text/html": [
              " View sweep at <a href='https://wandb.ai/omergunal84-hacettepe-university/cnn-mnist-optimization/sweeps/dpof9qfz' target=\"_blank\">https://wandb.ai/omergunal84-hacettepe-university/cnn-mnist-optimization/sweeps/dpof9qfz</a>"
            ]
          },
          "metadata": {}
        },
        {
          "output_type": "display_data",
          "data": {
            "text/plain": [
              "<IPython.core.display.HTML object>"
            ],
            "text/html": [
              " View run at <a href='https://wandb.ai/omergunal84-hacettepe-university/cnn-mnist-optimization/runs/n6tcm1o0' target=\"_blank\">https://wandb.ai/omergunal84-hacettepe-university/cnn-mnist-optimization/runs/n6tcm1o0</a>"
            ]
          },
          "metadata": {}
        },
        {
          "output_type": "stream",
          "name": "stdout",
          "text": [
            "Epoch 1/10\n",
            "750/750 - 5s - 7ms/step - accuracy: 0.6718 - loss: 1.0032 - val_accuracy: 0.9293 - val_loss: 0.2449\n",
            "Epoch 2/10\n",
            "750/750 - 3s - 4ms/step - accuracy: 0.9105 - loss: 0.2982 - val_accuracy: 0.9564 - val_loss: 0.1454\n",
            "Epoch 3/10\n",
            "750/750 - 5s - 7ms/step - accuracy: 0.9396 - loss: 0.1988 - val_accuracy: 0.9652 - val_loss: 0.1150\n",
            "Epoch 4/10\n",
            "750/750 - 3s - 4ms/step - accuracy: 0.9522 - loss: 0.1587 - val_accuracy: 0.9695 - val_loss: 0.0993\n",
            "Epoch 5/10\n",
            "750/750 - 3s - 4ms/step - accuracy: 0.9593 - loss: 0.1378 - val_accuracy: 0.9745 - val_loss: 0.0866\n",
            "Epoch 6/10\n",
            "750/750 - 3s - 5ms/step - accuracy: 0.9644 - loss: 0.1180 - val_accuracy: 0.9765 - val_loss: 0.0738\n",
            "Epoch 7/10\n",
            "750/750 - 3s - 4ms/step - accuracy: 0.9665 - loss: 0.1086 - val_accuracy: 0.9792 - val_loss: 0.0702\n",
            "Epoch 8/10\n",
            "750/750 - 3s - 4ms/step - accuracy: 0.9695 - loss: 0.0990 - val_accuracy: 0.9782 - val_loss: 0.0692\n",
            "Epoch 9/10\n",
            "750/750 - 6s - 7ms/step - accuracy: 0.9720 - loss: 0.0917 - val_accuracy: 0.9812 - val_loss: 0.0624\n",
            "Epoch 10/10\n",
            "750/750 - 4s - 6ms/step - accuracy: 0.9739 - loss: 0.0859 - val_accuracy: 0.9803 - val_loss: 0.0625\n"
          ]
        },
        {
          "output_type": "display_data",
          "data": {
            "text/plain": [
              "<IPython.core.display.HTML object>"
            ],
            "text/html": []
          },
          "metadata": {}
        },
        {
          "output_type": "display_data",
          "data": {
            "text/plain": [
              "<IPython.core.display.HTML object>"
            ],
            "text/html": [
              "<br>    <style><br>        .wandb-row {<br>            display: flex;<br>            flex-direction: row;<br>            flex-wrap: wrap;<br>            justify-content: flex-start;<br>            width: 100%;<br>        }<br>        .wandb-col {<br>            display: flex;<br>            flex-direction: column;<br>            flex-basis: 100%;<br>            flex: 1;<br>            padding: 10px;<br>        }<br>    </style><br><div class=\"wandb-row\"><div class=\"wandb-col\"><h3>Run history:</h3><br/><table class=\"wandb\"><tr><td>epoch/accuracy</td><td>▁▇▇▇██████</td></tr><tr><td>epoch/epoch</td><td>▁▂▃▃▄▅▆▆▇█</td></tr><tr><td>epoch/learning_rate</td><td>▁▁▁▁▁▁▁▁▁▁</td></tr><tr><td>epoch/loss</td><td>█▃▂▂▁▁▁▁▁▁</td></tr><tr><td>epoch/val_accuracy</td><td>▁▅▆▆▇▇████</td></tr><tr><td>epoch/val_loss</td><td>█▄▃▂▂▁▁▁▁▁</td></tr></table><br/></div><div class=\"wandb-col\"><h3>Run summary:</h3><br/><table class=\"wandb\"><tr><td>epoch/accuracy</td><td>0.97394</td></tr><tr><td>epoch/epoch</td><td>9</td></tr><tr><td>epoch/learning_rate</td><td>0.01</td></tr><tr><td>epoch/loss</td><td>0.08588</td></tr><tr><td>epoch/val_accuracy</td><td>0.98025</td></tr><tr><td>epoch/val_loss</td><td>0.06249</td></tr></table><br/></div></div>"
            ]
          },
          "metadata": {}
        },
        {
          "output_type": "display_data",
          "data": {
            "text/plain": [
              "<IPython.core.display.HTML object>"
            ],
            "text/html": [
              " View run <strong style=\"color:#cdcd00\">golden-sweep-15</strong> at: <a href='https://wandb.ai/omergunal84-hacettepe-university/cnn-mnist-optimization/runs/n6tcm1o0' target=\"_blank\">https://wandb.ai/omergunal84-hacettepe-university/cnn-mnist-optimization/runs/n6tcm1o0</a><br> View project at: <a href='https://wandb.ai/omergunal84-hacettepe-university/cnn-mnist-optimization' target=\"_blank\">https://wandb.ai/omergunal84-hacettepe-university/cnn-mnist-optimization</a><br>Synced 5 W&B file(s), 0 media file(s), 0 artifact file(s) and 0 other file(s)"
            ]
          },
          "metadata": {}
        },
        {
          "output_type": "display_data",
          "data": {
            "text/plain": [
              "<IPython.core.display.HTML object>"
            ],
            "text/html": [
              "Find logs at: <code>./wandb/run-20250518_074955-n6tcm1o0/logs</code>"
            ]
          },
          "metadata": {}
        },
        {
          "output_type": "stream",
          "name": "stderr",
          "text": [
            "\u001b[34m\u001b[1mwandb\u001b[0m: Sweep Agent: Waiting for job.\n",
            "\u001b[34m\u001b[1mwandb\u001b[0m: Job received.\n",
            "\u001b[34m\u001b[1mwandb\u001b[0m: Agent Starting Run: r0o5hfpf with config:\n",
            "\u001b[34m\u001b[1mwandb\u001b[0m: \tbatch_size: 32\n",
            "\u001b[34m\u001b[1mwandb\u001b[0m: \tdropout_rate: 0.5\n",
            "\u001b[34m\u001b[1mwandb\u001b[0m: \tepochs: 10\n",
            "\u001b[34m\u001b[1mwandb\u001b[0m: \tinit_mode: he_uniform\n",
            "\u001b[34m\u001b[1mwandb\u001b[0m: \tlearning_rate: 0.0001\n",
            "\u001b[34m\u001b[1mwandb\u001b[0m: \toptimizer: sgd\n"
          ]
        },
        {
          "output_type": "display_data",
          "data": {
            "text/plain": [
              "<IPython.core.display.HTML object>"
            ],
            "text/html": [
              "Tracking run with wandb version 0.19.11"
            ]
          },
          "metadata": {}
        },
        {
          "output_type": "display_data",
          "data": {
            "text/plain": [
              "<IPython.core.display.HTML object>"
            ],
            "text/html": [
              "Run data is saved locally in <code>/content/wandb/run-20250518_075124-r0o5hfpf</code>"
            ]
          },
          "metadata": {}
        },
        {
          "output_type": "display_data",
          "data": {
            "text/plain": [
              "<IPython.core.display.HTML object>"
            ],
            "text/html": [
              "Syncing run <strong><a href='https://wandb.ai/omergunal84-hacettepe-university/cnn-mnist-optimization/runs/r0o5hfpf' target=\"_blank\">fancy-sweep-16</a></strong> to <a href='https://wandb.ai/omergunal84-hacettepe-university/cnn-mnist-optimization' target=\"_blank\">Weights & Biases</a> (<a href='https://wandb.me/developer-guide' target=\"_blank\">docs</a>)<br>Sweep page: <a href='https://wandb.ai/omergunal84-hacettepe-university/cnn-mnist-optimization/sweeps/dpof9qfz' target=\"_blank\">https://wandb.ai/omergunal84-hacettepe-university/cnn-mnist-optimization/sweeps/dpof9qfz</a>"
            ]
          },
          "metadata": {}
        },
        {
          "output_type": "display_data",
          "data": {
            "text/plain": [
              "<IPython.core.display.HTML object>"
            ],
            "text/html": [
              " View project at <a href='https://wandb.ai/omergunal84-hacettepe-university/cnn-mnist-optimization' target=\"_blank\">https://wandb.ai/omergunal84-hacettepe-university/cnn-mnist-optimization</a>"
            ]
          },
          "metadata": {}
        },
        {
          "output_type": "display_data",
          "data": {
            "text/plain": [
              "<IPython.core.display.HTML object>"
            ],
            "text/html": [
              " View sweep at <a href='https://wandb.ai/omergunal84-hacettepe-university/cnn-mnist-optimization/sweeps/dpof9qfz' target=\"_blank\">https://wandb.ai/omergunal84-hacettepe-university/cnn-mnist-optimization/sweeps/dpof9qfz</a>"
            ]
          },
          "metadata": {}
        },
        {
          "output_type": "display_data",
          "data": {
            "text/plain": [
              "<IPython.core.display.HTML object>"
            ],
            "text/html": [
              " View run at <a href='https://wandb.ai/omergunal84-hacettepe-university/cnn-mnist-optimization/runs/r0o5hfpf' target=\"_blank\">https://wandb.ai/omergunal84-hacettepe-university/cnn-mnist-optimization/runs/r0o5hfpf</a>"
            ]
          },
          "metadata": {}
        },
        {
          "output_type": "stream",
          "name": "stdout",
          "text": [
            "Epoch 1/10\n",
            "1500/1500 - 8s - 5ms/step - accuracy: 0.2982 - loss: 2.0388 - val_accuracy: 0.6302 - val_loss: 1.6008\n",
            "Epoch 2/10\n",
            "1500/1500 - 5s - 3ms/step - accuracy: 0.5003 - loss: 1.5460 - val_accuracy: 0.7781 - val_loss: 1.0863\n",
            "Epoch 3/10\n",
            "1500/1500 - 6s - 4ms/step - accuracy: 0.6083 - loss: 1.2194 - val_accuracy: 0.8415 - val_loss: 0.7801\n",
            "Epoch 4/10\n",
            "1500/1500 - 5s - 4ms/step - accuracy: 0.6747 - loss: 1.0165 - val_accuracy: 0.8706 - val_loss: 0.6169\n",
            "Epoch 5/10\n",
            "1500/1500 - 10s - 7ms/step - accuracy: 0.7191 - loss: 0.8905 - val_accuracy: 0.8871 - val_loss: 0.5103\n",
            "Epoch 6/10\n",
            "1500/1500 - 5s - 3ms/step - accuracy: 0.7511 - loss: 0.8012 - val_accuracy: 0.8994 - val_loss: 0.4395\n",
            "Epoch 7/10\n",
            "1500/1500 - 6s - 4ms/step - accuracy: 0.7704 - loss: 0.7326 - val_accuracy: 0.9054 - val_loss: 0.3929\n",
            "Epoch 8/10\n",
            "1500/1500 - 5s - 3ms/step - accuracy: 0.7892 - loss: 0.6790 - val_accuracy: 0.9110 - val_loss: 0.3583\n",
            "Epoch 9/10\n",
            "1500/1500 - 6s - 4ms/step - accuracy: 0.8007 - loss: 0.6388 - val_accuracy: 0.9147 - val_loss: 0.3269\n",
            "Epoch 10/10\n",
            "1500/1500 - 5s - 4ms/step - accuracy: 0.8143 - loss: 0.6075 - val_accuracy: 0.9200 - val_loss: 0.3085\n"
          ]
        },
        {
          "output_type": "display_data",
          "data": {
            "text/plain": [
              "<IPython.core.display.HTML object>"
            ],
            "text/html": []
          },
          "metadata": {}
        },
        {
          "output_type": "display_data",
          "data": {
            "text/plain": [
              "<IPython.core.display.HTML object>"
            ],
            "text/html": [
              "<br>    <style><br>        .wandb-row {<br>            display: flex;<br>            flex-direction: row;<br>            flex-wrap: wrap;<br>            justify-content: flex-start;<br>            width: 100%;<br>        }<br>        .wandb-col {<br>            display: flex;<br>            flex-direction: column;<br>            flex-basis: 100%;<br>            flex: 1;<br>            padding: 10px;<br>        }<br>    </style><br><div class=\"wandb-row\"><div class=\"wandb-col\"><h3>Run history:</h3><br/><table class=\"wandb\"><tr><td>epoch/accuracy</td><td>▁▄▅▆▇▇▇███</td></tr><tr><td>epoch/epoch</td><td>▁▂▃▃▄▅▆▆▇█</td></tr><tr><td>epoch/learning_rate</td><td>▁▁▁▁▁▁▁▁▁▁</td></tr><tr><td>epoch/loss</td><td>█▆▄▃▂▂▂▁▁▁</td></tr><tr><td>epoch/val_accuracy</td><td>▁▅▆▇▇█████</td></tr><tr><td>epoch/val_loss</td><td>█▅▄▃▂▂▁▁▁▁</td></tr></table><br/></div><div class=\"wandb-col\"><h3>Run summary:</h3><br/><table class=\"wandb\"><tr><td>epoch/accuracy</td><td>0.81427</td></tr><tr><td>epoch/epoch</td><td>9</td></tr><tr><td>epoch/learning_rate</td><td>0.0001</td></tr><tr><td>epoch/loss</td><td>0.60752</td></tr><tr><td>epoch/val_accuracy</td><td>0.92</td></tr><tr><td>epoch/val_loss</td><td>0.30845</td></tr></table><br/></div></div>"
            ]
          },
          "metadata": {}
        },
        {
          "output_type": "display_data",
          "data": {
            "text/plain": [
              "<IPython.core.display.HTML object>"
            ],
            "text/html": [
              " View run <strong style=\"color:#cdcd00\">fancy-sweep-16</strong> at: <a href='https://wandb.ai/omergunal84-hacettepe-university/cnn-mnist-optimization/runs/r0o5hfpf' target=\"_blank\">https://wandb.ai/omergunal84-hacettepe-university/cnn-mnist-optimization/runs/r0o5hfpf</a><br> View project at: <a href='https://wandb.ai/omergunal84-hacettepe-university/cnn-mnist-optimization' target=\"_blank\">https://wandb.ai/omergunal84-hacettepe-university/cnn-mnist-optimization</a><br>Synced 5 W&B file(s), 0 media file(s), 0 artifact file(s) and 0 other file(s)"
            ]
          },
          "metadata": {}
        },
        {
          "output_type": "display_data",
          "data": {
            "text/plain": [
              "<IPython.core.display.HTML object>"
            ],
            "text/html": [
              "Find logs at: <code>./wandb/run-20250518_075124-r0o5hfpf/logs</code>"
            ]
          },
          "metadata": {}
        },
        {
          "output_type": "stream",
          "name": "stderr",
          "text": [
            "\u001b[34m\u001b[1mwandb\u001b[0m: Agent Starting Run: l411gryf with config:\n",
            "\u001b[34m\u001b[1mwandb\u001b[0m: \tbatch_size: 64\n",
            "\u001b[34m\u001b[1mwandb\u001b[0m: \tdropout_rate: 0.3\n",
            "\u001b[34m\u001b[1mwandb\u001b[0m: \tepochs: 10\n",
            "\u001b[34m\u001b[1mwandb\u001b[0m: \tinit_mode: glorot_uniform\n",
            "\u001b[34m\u001b[1mwandb\u001b[0m: \tlearning_rate: 0.0001\n",
            "\u001b[34m\u001b[1mwandb\u001b[0m: \toptimizer: adam\n"
          ]
        },
        {
          "output_type": "display_data",
          "data": {
            "text/plain": [
              "<IPython.core.display.HTML object>"
            ],
            "text/html": [
              "Tracking run with wandb version 0.19.11"
            ]
          },
          "metadata": {}
        },
        {
          "output_type": "display_data",
          "data": {
            "text/plain": [
              "<IPython.core.display.HTML object>"
            ],
            "text/html": [
              "Run data is saved locally in <code>/content/wandb/run-20250518_075238-l411gryf</code>"
            ]
          },
          "metadata": {}
        },
        {
          "output_type": "display_data",
          "data": {
            "text/plain": [
              "<IPython.core.display.HTML object>"
            ],
            "text/html": [
              "Syncing run <strong><a href='https://wandb.ai/omergunal84-hacettepe-university/cnn-mnist-optimization/runs/l411gryf' target=\"_blank\">glowing-sweep-17</a></strong> to <a href='https://wandb.ai/omergunal84-hacettepe-university/cnn-mnist-optimization' target=\"_blank\">Weights & Biases</a> (<a href='https://wandb.me/developer-guide' target=\"_blank\">docs</a>)<br>Sweep page: <a href='https://wandb.ai/omergunal84-hacettepe-university/cnn-mnist-optimization/sweeps/dpof9qfz' target=\"_blank\">https://wandb.ai/omergunal84-hacettepe-university/cnn-mnist-optimization/sweeps/dpof9qfz</a>"
            ]
          },
          "metadata": {}
        },
        {
          "output_type": "display_data",
          "data": {
            "text/plain": [
              "<IPython.core.display.HTML object>"
            ],
            "text/html": [
              " View project at <a href='https://wandb.ai/omergunal84-hacettepe-university/cnn-mnist-optimization' target=\"_blank\">https://wandb.ai/omergunal84-hacettepe-university/cnn-mnist-optimization</a>"
            ]
          },
          "metadata": {}
        },
        {
          "output_type": "display_data",
          "data": {
            "text/plain": [
              "<IPython.core.display.HTML object>"
            ],
            "text/html": [
              " View sweep at <a href='https://wandb.ai/omergunal84-hacettepe-university/cnn-mnist-optimization/sweeps/dpof9qfz' target=\"_blank\">https://wandb.ai/omergunal84-hacettepe-university/cnn-mnist-optimization/sweeps/dpof9qfz</a>"
            ]
          },
          "metadata": {}
        },
        {
          "output_type": "display_data",
          "data": {
            "text/plain": [
              "<IPython.core.display.HTML object>"
            ],
            "text/html": [
              " View run at <a href='https://wandb.ai/omergunal84-hacettepe-university/cnn-mnist-optimization/runs/l411gryf' target=\"_blank\">https://wandb.ai/omergunal84-hacettepe-university/cnn-mnist-optimization/runs/l411gryf</a>"
            ]
          },
          "metadata": {}
        },
        {
          "output_type": "stream",
          "name": "stdout",
          "text": [
            "Epoch 1/10\n",
            "750/750 - 7s - 9ms/step - accuracy: 0.7901 - loss: 0.6714 - val_accuracy: 0.9507 - val_loss: 0.1678\n",
            "Epoch 2/10\n",
            "750/750 - 8s - 10ms/step - accuracy: 0.9359 - loss: 0.2157 - val_accuracy: 0.9653 - val_loss: 0.1156\n",
            "Epoch 3/10\n",
            "750/750 - 4s - 5ms/step - accuracy: 0.9541 - loss: 0.1544 - val_accuracy: 0.9741 - val_loss: 0.0867\n",
            "Epoch 4/10\n",
            "750/750 - 5s - 6ms/step - accuracy: 0.9632 - loss: 0.1204 - val_accuracy: 0.9787 - val_loss: 0.0693\n",
            "Epoch 5/10\n",
            "750/750 - 3s - 5ms/step - accuracy: 0.9694 - loss: 0.1020 - val_accuracy: 0.9808 - val_loss: 0.0648\n",
            "Epoch 6/10\n",
            "750/750 - 5s - 7ms/step - accuracy: 0.9725 - loss: 0.0906 - val_accuracy: 0.9828 - val_loss: 0.0567\n",
            "Epoch 7/10\n",
            "750/750 - 3s - 4ms/step - accuracy: 0.9753 - loss: 0.0806 - val_accuracy: 0.9839 - val_loss: 0.0530\n",
            "Epoch 8/10\n",
            "750/750 - 3s - 4ms/step - accuracy: 0.9781 - loss: 0.0731 - val_accuracy: 0.9848 - val_loss: 0.0510\n",
            "Epoch 9/10\n",
            "750/750 - 4s - 5ms/step - accuracy: 0.9794 - loss: 0.0678 - val_accuracy: 0.9869 - val_loss: 0.0462\n",
            "Epoch 10/10\n",
            "750/750 - 5s - 6ms/step - accuracy: 0.9812 - loss: 0.0628 - val_accuracy: 0.9866 - val_loss: 0.0459\n"
          ]
        },
        {
          "output_type": "display_data",
          "data": {
            "text/plain": [
              "<IPython.core.display.HTML object>"
            ],
            "text/html": []
          },
          "metadata": {}
        },
        {
          "output_type": "display_data",
          "data": {
            "text/plain": [
              "<IPython.core.display.HTML object>"
            ],
            "text/html": [
              "<br>    <style><br>        .wandb-row {<br>            display: flex;<br>            flex-direction: row;<br>            flex-wrap: wrap;<br>            justify-content: flex-start;<br>            width: 100%;<br>        }<br>        .wandb-col {<br>            display: flex;<br>            flex-direction: column;<br>            flex-basis: 100%;<br>            flex: 1;<br>            padding: 10px;<br>        }<br>    </style><br><div class=\"wandb-row\"><div class=\"wandb-col\"><h3>Run history:</h3><br/><table class=\"wandb\"><tr><td>epoch/accuracy</td><td>▁▆▇▇██████</td></tr><tr><td>epoch/epoch</td><td>▁▂▃▃▄▅▆▆▇█</td></tr><tr><td>epoch/learning_rate</td><td>▁▁▁▁▁▁▁▁▁▁</td></tr><tr><td>epoch/loss</td><td>█▃▂▂▁▁▁▁▁▁</td></tr><tr><td>epoch/val_accuracy</td><td>▁▄▆▆▇▇▇███</td></tr><tr><td>epoch/val_loss</td><td>█▅▃▂▂▂▁▁▁▁</td></tr></table><br/></div><div class=\"wandb-col\"><h3>Run summary:</h3><br/><table class=\"wandb\"><tr><td>epoch/accuracy</td><td>0.98117</td></tr><tr><td>epoch/epoch</td><td>9</td></tr><tr><td>epoch/learning_rate</td><td>0.0001</td></tr><tr><td>epoch/loss</td><td>0.06275</td></tr><tr><td>epoch/val_accuracy</td><td>0.98658</td></tr><tr><td>epoch/val_loss</td><td>0.0459</td></tr></table><br/></div></div>"
            ]
          },
          "metadata": {}
        },
        {
          "output_type": "display_data",
          "data": {
            "text/plain": [
              "<IPython.core.display.HTML object>"
            ],
            "text/html": [
              " View run <strong style=\"color:#cdcd00\">glowing-sweep-17</strong> at: <a href='https://wandb.ai/omergunal84-hacettepe-university/cnn-mnist-optimization/runs/l411gryf' target=\"_blank\">https://wandb.ai/omergunal84-hacettepe-university/cnn-mnist-optimization/runs/l411gryf</a><br> View project at: <a href='https://wandb.ai/omergunal84-hacettepe-university/cnn-mnist-optimization' target=\"_blank\">https://wandb.ai/omergunal84-hacettepe-university/cnn-mnist-optimization</a><br>Synced 5 W&B file(s), 0 media file(s), 0 artifact file(s) and 0 other file(s)"
            ]
          },
          "metadata": {}
        },
        {
          "output_type": "display_data",
          "data": {
            "text/plain": [
              "<IPython.core.display.HTML object>"
            ],
            "text/html": [
              "Find logs at: <code>./wandb/run-20250518_075238-l411gryf/logs</code>"
            ]
          },
          "metadata": {}
        },
        {
          "output_type": "stream",
          "name": "stderr",
          "text": [
            "\u001b[34m\u001b[1mwandb\u001b[0m: Sweep Agent: Waiting for job.\n",
            "\u001b[34m\u001b[1mwandb\u001b[0m: Job received.\n",
            "\u001b[34m\u001b[1mwandb\u001b[0m: Agent Starting Run: 5z6y1f9n with config:\n",
            "\u001b[34m\u001b[1mwandb\u001b[0m: \tbatch_size: 128\n",
            "\u001b[34m\u001b[1mwandb\u001b[0m: \tdropout_rate: 0.5\n",
            "\u001b[34m\u001b[1mwandb\u001b[0m: \tepochs: 10\n",
            "\u001b[34m\u001b[1mwandb\u001b[0m: \tinit_mode: glorot_uniform\n",
            "\u001b[34m\u001b[1mwandb\u001b[0m: \tlearning_rate: 0.01\n",
            "\u001b[34m\u001b[1mwandb\u001b[0m: \toptimizer: sgd\n"
          ]
        },
        {
          "output_type": "display_data",
          "data": {
            "text/plain": [
              "<IPython.core.display.HTML object>"
            ],
            "text/html": [
              "Tracking run with wandb version 0.19.11"
            ]
          },
          "metadata": {}
        },
        {
          "output_type": "display_data",
          "data": {
            "text/plain": [
              "<IPython.core.display.HTML object>"
            ],
            "text/html": [
              "Run data is saved locally in <code>/content/wandb/run-20250518_075338-5z6y1f9n</code>"
            ]
          },
          "metadata": {}
        },
        {
          "output_type": "display_data",
          "data": {
            "text/plain": [
              "<IPython.core.display.HTML object>"
            ],
            "text/html": [
              "Syncing run <strong><a href='https://wandb.ai/omergunal84-hacettepe-university/cnn-mnist-optimization/runs/5z6y1f9n' target=\"_blank\">genial-sweep-18</a></strong> to <a href='https://wandb.ai/omergunal84-hacettepe-university/cnn-mnist-optimization' target=\"_blank\">Weights & Biases</a> (<a href='https://wandb.me/developer-guide' target=\"_blank\">docs</a>)<br>Sweep page: <a href='https://wandb.ai/omergunal84-hacettepe-university/cnn-mnist-optimization/sweeps/dpof9qfz' target=\"_blank\">https://wandb.ai/omergunal84-hacettepe-university/cnn-mnist-optimization/sweeps/dpof9qfz</a>"
            ]
          },
          "metadata": {}
        },
        {
          "output_type": "display_data",
          "data": {
            "text/plain": [
              "<IPython.core.display.HTML object>"
            ],
            "text/html": [
              " View project at <a href='https://wandb.ai/omergunal84-hacettepe-university/cnn-mnist-optimization' target=\"_blank\">https://wandb.ai/omergunal84-hacettepe-university/cnn-mnist-optimization</a>"
            ]
          },
          "metadata": {}
        },
        {
          "output_type": "display_data",
          "data": {
            "text/plain": [
              "<IPython.core.display.HTML object>"
            ],
            "text/html": [
              " View sweep at <a href='https://wandb.ai/omergunal84-hacettepe-university/cnn-mnist-optimization/sweeps/dpof9qfz' target=\"_blank\">https://wandb.ai/omergunal84-hacettepe-university/cnn-mnist-optimization/sweeps/dpof9qfz</a>"
            ]
          },
          "metadata": {}
        },
        {
          "output_type": "display_data",
          "data": {
            "text/plain": [
              "<IPython.core.display.HTML object>"
            ],
            "text/html": [
              " View run at <a href='https://wandb.ai/omergunal84-hacettepe-university/cnn-mnist-optimization/runs/5z6y1f9n' target=\"_blank\">https://wandb.ai/omergunal84-hacettepe-university/cnn-mnist-optimization/runs/5z6y1f9n</a>"
            ]
          },
          "metadata": {}
        },
        {
          "output_type": "stream",
          "name": "stdout",
          "text": [
            "Epoch 1/10\n",
            "375/375 - 5s - 15ms/step - accuracy: 0.4503 - loss: 1.6711 - val_accuracy: 0.8676 - val_loss: 0.4900\n",
            "Epoch 2/10\n",
            "375/375 - 2s - 6ms/step - accuracy: 0.7994 - loss: 0.6345 - val_accuracy: 0.9228 - val_loss: 0.2770\n",
            "Epoch 3/10\n",
            "375/375 - 3s - 7ms/step - accuracy: 0.8562 - loss: 0.4663 - val_accuracy: 0.9423 - val_loss: 0.2020\n",
            "Epoch 4/10\n",
            "375/375 - 3s - 7ms/step - accuracy: 0.8891 - loss: 0.3685 - val_accuracy: 0.9502 - val_loss: 0.1690\n",
            "Epoch 5/10\n",
            "375/375 - 3s - 7ms/step - accuracy: 0.9078 - loss: 0.3043 - val_accuracy: 0.9622 - val_loss: 0.1329\n",
            "Epoch 6/10\n",
            "375/375 - 3s - 7ms/step - accuracy: 0.9198 - loss: 0.2659 - val_accuracy: 0.9650 - val_loss: 0.1164\n",
            "Epoch 7/10\n",
            "375/375 - 5s - 13ms/step - accuracy: 0.9294 - loss: 0.2319 - val_accuracy: 0.9688 - val_loss: 0.1044\n",
            "Epoch 8/10\n",
            "375/375 - 2s - 6ms/step - accuracy: 0.9385 - loss: 0.2076 - val_accuracy: 0.9731 - val_loss: 0.0949\n",
            "Epoch 9/10\n",
            "375/375 - 3s - 8ms/step - accuracy: 0.9440 - loss: 0.1918 - val_accuracy: 0.9744 - val_loss: 0.0878\n",
            "Epoch 10/10\n",
            "375/375 - 5s - 13ms/step - accuracy: 0.9471 - loss: 0.1769 - val_accuracy: 0.9735 - val_loss: 0.0905\n"
          ]
        },
        {
          "output_type": "display_data",
          "data": {
            "text/plain": [
              "<IPython.core.display.HTML object>"
            ],
            "text/html": []
          },
          "metadata": {}
        },
        {
          "output_type": "display_data",
          "data": {
            "text/plain": [
              "<IPython.core.display.HTML object>"
            ],
            "text/html": [
              "<br>    <style><br>        .wandb-row {<br>            display: flex;<br>            flex-direction: row;<br>            flex-wrap: wrap;<br>            justify-content: flex-start;<br>            width: 100%;<br>        }<br>        .wandb-col {<br>            display: flex;<br>            flex-direction: column;<br>            flex-basis: 100%;<br>            flex: 1;<br>            padding: 10px;<br>        }<br>    </style><br><div class=\"wandb-row\"><div class=\"wandb-col\"><h3>Run history:</h3><br/><table class=\"wandb\"><tr><td>epoch/accuracy</td><td>▁▆▇▇▇█████</td></tr><tr><td>epoch/epoch</td><td>▁▂▃▃▄▅▆▆▇█</td></tr><tr><td>epoch/learning_rate</td><td>▁▁▁▁▁▁▁▁▁▁</td></tr><tr><td>epoch/loss</td><td>█▃▂▂▂▁▁▁▁▁</td></tr><tr><td>epoch/val_accuracy</td><td>▁▅▆▆▇▇████</td></tr><tr><td>epoch/val_loss</td><td>█▄▃▂▂▁▁▁▁▁</td></tr></table><br/></div><div class=\"wandb-col\"><h3>Run summary:</h3><br/><table class=\"wandb\"><tr><td>epoch/accuracy</td><td>0.94708</td></tr><tr><td>epoch/epoch</td><td>9</td></tr><tr><td>epoch/learning_rate</td><td>0.01</td></tr><tr><td>epoch/loss</td><td>0.17694</td></tr><tr><td>epoch/val_accuracy</td><td>0.9735</td></tr><tr><td>epoch/val_loss</td><td>0.09053</td></tr></table><br/></div></div>"
            ]
          },
          "metadata": {}
        },
        {
          "output_type": "display_data",
          "data": {
            "text/plain": [
              "<IPython.core.display.HTML object>"
            ],
            "text/html": [
              " View run <strong style=\"color:#cdcd00\">genial-sweep-18</strong> at: <a href='https://wandb.ai/omergunal84-hacettepe-university/cnn-mnist-optimization/runs/5z6y1f9n' target=\"_blank\">https://wandb.ai/omergunal84-hacettepe-university/cnn-mnist-optimization/runs/5z6y1f9n</a><br> View project at: <a href='https://wandb.ai/omergunal84-hacettepe-university/cnn-mnist-optimization' target=\"_blank\">https://wandb.ai/omergunal84-hacettepe-university/cnn-mnist-optimization</a><br>Synced 5 W&B file(s), 0 media file(s), 0 artifact file(s) and 0 other file(s)"
            ]
          },
          "metadata": {}
        },
        {
          "output_type": "display_data",
          "data": {
            "text/plain": [
              "<IPython.core.display.HTML object>"
            ],
            "text/html": [
              "Find logs at: <code>./wandb/run-20250518_075338-5z6y1f9n/logs</code>"
            ]
          },
          "metadata": {}
        },
        {
          "output_type": "stream",
          "name": "stderr",
          "text": [
            "\u001b[34m\u001b[1mwandb\u001b[0m: Agent Starting Run: 8p9zbgqq with config:\n",
            "\u001b[34m\u001b[1mwandb\u001b[0m: \tbatch_size: 128\n",
            "\u001b[34m\u001b[1mwandb\u001b[0m: \tdropout_rate: 0.3\n",
            "\u001b[34m\u001b[1mwandb\u001b[0m: \tepochs: 10\n",
            "\u001b[34m\u001b[1mwandb\u001b[0m: \tinit_mode: glorot_uniform\n",
            "\u001b[34m\u001b[1mwandb\u001b[0m: \tlearning_rate: 0.01\n",
            "\u001b[34m\u001b[1mwandb\u001b[0m: \toptimizer: sgd\n"
          ]
        },
        {
          "output_type": "display_data",
          "data": {
            "text/plain": [
              "<IPython.core.display.HTML object>"
            ],
            "text/html": [
              "Tracking run with wandb version 0.19.11"
            ]
          },
          "metadata": {}
        },
        {
          "output_type": "display_data",
          "data": {
            "text/plain": [
              "<IPython.core.display.HTML object>"
            ],
            "text/html": [
              "Run data is saved locally in <code>/content/wandb/run-20250518_075420-8p9zbgqq</code>"
            ]
          },
          "metadata": {}
        },
        {
          "output_type": "display_data",
          "data": {
            "text/plain": [
              "<IPython.core.display.HTML object>"
            ],
            "text/html": [
              "Syncing run <strong><a href='https://wandb.ai/omergunal84-hacettepe-university/cnn-mnist-optimization/runs/8p9zbgqq' target=\"_blank\">genial-sweep-19</a></strong> to <a href='https://wandb.ai/omergunal84-hacettepe-university/cnn-mnist-optimization' target=\"_blank\">Weights & Biases</a> (<a href='https://wandb.me/developer-guide' target=\"_blank\">docs</a>)<br>Sweep page: <a href='https://wandb.ai/omergunal84-hacettepe-university/cnn-mnist-optimization/sweeps/dpof9qfz' target=\"_blank\">https://wandb.ai/omergunal84-hacettepe-university/cnn-mnist-optimization/sweeps/dpof9qfz</a>"
            ]
          },
          "metadata": {}
        },
        {
          "output_type": "display_data",
          "data": {
            "text/plain": [
              "<IPython.core.display.HTML object>"
            ],
            "text/html": [
              " View project at <a href='https://wandb.ai/omergunal84-hacettepe-university/cnn-mnist-optimization' target=\"_blank\">https://wandb.ai/omergunal84-hacettepe-university/cnn-mnist-optimization</a>"
            ]
          },
          "metadata": {}
        },
        {
          "output_type": "display_data",
          "data": {
            "text/plain": [
              "<IPython.core.display.HTML object>"
            ],
            "text/html": [
              " View sweep at <a href='https://wandb.ai/omergunal84-hacettepe-university/cnn-mnist-optimization/sweeps/dpof9qfz' target=\"_blank\">https://wandb.ai/omergunal84-hacettepe-university/cnn-mnist-optimization/sweeps/dpof9qfz</a>"
            ]
          },
          "metadata": {}
        },
        {
          "output_type": "display_data",
          "data": {
            "text/plain": [
              "<IPython.core.display.HTML object>"
            ],
            "text/html": [
              " View run at <a href='https://wandb.ai/omergunal84-hacettepe-university/cnn-mnist-optimization/runs/8p9zbgqq' target=\"_blank\">https://wandb.ai/omergunal84-hacettepe-university/cnn-mnist-optimization/runs/8p9zbgqq</a>"
            ]
          },
          "metadata": {}
        },
        {
          "output_type": "stream",
          "name": "stdout",
          "text": [
            "Epoch 1/10\n",
            "375/375 - 5s - 14ms/step - accuracy: 0.4822 - loss: 1.6232 - val_accuracy: 0.8863 - val_loss: 0.4029\n",
            "Epoch 2/10\n",
            "375/375 - 2s - 7ms/step - accuracy: 0.8594 - loss: 0.4498 - val_accuracy: 0.9340 - val_loss: 0.2162\n",
            "Epoch 3/10\n",
            "375/375 - 2s - 7ms/step - accuracy: 0.9093 - loss: 0.2978 - val_accuracy: 0.9502 - val_loss: 0.1620\n",
            "Epoch 4/10\n",
            "375/375 - 3s - 7ms/step - accuracy: 0.9290 - loss: 0.2336 - val_accuracy: 0.9563 - val_loss: 0.1429\n",
            "Epoch 5/10\n",
            "375/375 - 2s - 6ms/step - accuracy: 0.9422 - loss: 0.1876 - val_accuracy: 0.9649 - val_loss: 0.1150\n",
            "Epoch 6/10\n",
            "375/375 - 2s - 7ms/step - accuracy: 0.9509 - loss: 0.1634 - val_accuracy: 0.9695 - val_loss: 0.0995\n",
            "Epoch 7/10\n",
            "375/375 - 2s - 7ms/step - accuracy: 0.9553 - loss: 0.1478 - val_accuracy: 0.9727 - val_loss: 0.0929\n",
            "Epoch 8/10\n",
            "375/375 - 3s - 7ms/step - accuracy: 0.9597 - loss: 0.1340 - val_accuracy: 0.9740 - val_loss: 0.0827\n",
            "Epoch 9/10\n",
            "375/375 - 3s - 7ms/step - accuracy: 0.9631 - loss: 0.1225 - val_accuracy: 0.9747 - val_loss: 0.0801\n",
            "Epoch 10/10\n",
            "375/375 - 2s - 6ms/step - accuracy: 0.9647 - loss: 0.1138 - val_accuracy: 0.9743 - val_loss: 0.0794\n"
          ]
        },
        {
          "output_type": "display_data",
          "data": {
            "text/plain": [
              "<IPython.core.display.HTML object>"
            ],
            "text/html": []
          },
          "metadata": {}
        },
        {
          "output_type": "display_data",
          "data": {
            "text/plain": [
              "<IPython.core.display.HTML object>"
            ],
            "text/html": [
              "<br>    <style><br>        .wandb-row {<br>            display: flex;<br>            flex-direction: row;<br>            flex-wrap: wrap;<br>            justify-content: flex-start;<br>            width: 100%;<br>        }<br>        .wandb-col {<br>            display: flex;<br>            flex-direction: column;<br>            flex-basis: 100%;<br>            flex: 1;<br>            padding: 10px;<br>        }<br>    </style><br><div class=\"wandb-row\"><div class=\"wandb-col\"><h3>Run history:</h3><br/><table class=\"wandb\"><tr><td>epoch/accuracy</td><td>▁▆▇▇██████</td></tr><tr><td>epoch/epoch</td><td>▁▂▃▃▄▅▆▆▇█</td></tr><tr><td>epoch/learning_rate</td><td>▁▁▁▁▁▁▁▁▁▁</td></tr><tr><td>epoch/loss</td><td>█▃▂▂▁▁▁▁▁▁</td></tr><tr><td>epoch/val_accuracy</td><td>▁▅▆▇▇█████</td></tr><tr><td>epoch/val_loss</td><td>█▄▃▂▂▁▁▁▁▁</td></tr></table><br/></div><div class=\"wandb-col\"><h3>Run summary:</h3><br/><table class=\"wandb\"><tr><td>epoch/accuracy</td><td>0.96467</td></tr><tr><td>epoch/epoch</td><td>9</td></tr><tr><td>epoch/learning_rate</td><td>0.01</td></tr><tr><td>epoch/loss</td><td>0.11381</td></tr><tr><td>epoch/val_accuracy</td><td>0.97433</td></tr><tr><td>epoch/val_loss</td><td>0.07942</td></tr></table><br/></div></div>"
            ]
          },
          "metadata": {}
        },
        {
          "output_type": "display_data",
          "data": {
            "text/plain": [
              "<IPython.core.display.HTML object>"
            ],
            "text/html": [
              " View run <strong style=\"color:#cdcd00\">genial-sweep-19</strong> at: <a href='https://wandb.ai/omergunal84-hacettepe-university/cnn-mnist-optimization/runs/8p9zbgqq' target=\"_blank\">https://wandb.ai/omergunal84-hacettepe-university/cnn-mnist-optimization/runs/8p9zbgqq</a><br> View project at: <a href='https://wandb.ai/omergunal84-hacettepe-university/cnn-mnist-optimization' target=\"_blank\">https://wandb.ai/omergunal84-hacettepe-university/cnn-mnist-optimization</a><br>Synced 5 W&B file(s), 0 media file(s), 0 artifact file(s) and 0 other file(s)"
            ]
          },
          "metadata": {}
        },
        {
          "output_type": "display_data",
          "data": {
            "text/plain": [
              "<IPython.core.display.HTML object>"
            ],
            "text/html": [
              "Find logs at: <code>./wandb/run-20250518_075420-8p9zbgqq/logs</code>"
            ]
          },
          "metadata": {}
        },
        {
          "output_type": "stream",
          "name": "stderr",
          "text": [
            "\u001b[34m\u001b[1mwandb\u001b[0m: Agent Starting Run: ffl4bpeh with config:\n",
            "\u001b[34m\u001b[1mwandb\u001b[0m: \tbatch_size: 32\n",
            "\u001b[34m\u001b[1mwandb\u001b[0m: \tdropout_rate: 0.3\n",
            "\u001b[34m\u001b[1mwandb\u001b[0m: \tepochs: 10\n",
            "\u001b[34m\u001b[1mwandb\u001b[0m: \tinit_mode: he_uniform\n",
            "\u001b[34m\u001b[1mwandb\u001b[0m: \tlearning_rate: 0.0001\n",
            "\u001b[34m\u001b[1mwandb\u001b[0m: \toptimizer: adam\n"
          ]
        },
        {
          "output_type": "display_data",
          "data": {
            "text/plain": [
              "<IPython.core.display.HTML object>"
            ],
            "text/html": [
              "Tracking run with wandb version 0.19.11"
            ]
          },
          "metadata": {}
        },
        {
          "output_type": "display_data",
          "data": {
            "text/plain": [
              "<IPython.core.display.HTML object>"
            ],
            "text/html": [
              "Run data is saved locally in <code>/content/wandb/run-20250518_075456-ffl4bpeh</code>"
            ]
          },
          "metadata": {}
        },
        {
          "output_type": "display_data",
          "data": {
            "text/plain": [
              "<IPython.core.display.HTML object>"
            ],
            "text/html": [
              "Syncing run <strong><a href='https://wandb.ai/omergunal84-hacettepe-university/cnn-mnist-optimization/runs/ffl4bpeh' target=\"_blank\">silvery-sweep-20</a></strong> to <a href='https://wandb.ai/omergunal84-hacettepe-university/cnn-mnist-optimization' target=\"_blank\">Weights & Biases</a> (<a href='https://wandb.me/developer-guide' target=\"_blank\">docs</a>)<br>Sweep page: <a href='https://wandb.ai/omergunal84-hacettepe-university/cnn-mnist-optimization/sweeps/dpof9qfz' target=\"_blank\">https://wandb.ai/omergunal84-hacettepe-university/cnn-mnist-optimization/sweeps/dpof9qfz</a>"
            ]
          },
          "metadata": {}
        },
        {
          "output_type": "display_data",
          "data": {
            "text/plain": [
              "<IPython.core.display.HTML object>"
            ],
            "text/html": [
              " View project at <a href='https://wandb.ai/omergunal84-hacettepe-university/cnn-mnist-optimization' target=\"_blank\">https://wandb.ai/omergunal84-hacettepe-university/cnn-mnist-optimization</a>"
            ]
          },
          "metadata": {}
        },
        {
          "output_type": "display_data",
          "data": {
            "text/plain": [
              "<IPython.core.display.HTML object>"
            ],
            "text/html": [
              " View sweep at <a href='https://wandb.ai/omergunal84-hacettepe-university/cnn-mnist-optimization/sweeps/dpof9qfz' target=\"_blank\">https://wandb.ai/omergunal84-hacettepe-university/cnn-mnist-optimization/sweeps/dpof9qfz</a>"
            ]
          },
          "metadata": {}
        },
        {
          "output_type": "display_data",
          "data": {
            "text/plain": [
              "<IPython.core.display.HTML object>"
            ],
            "text/html": [
              " View run at <a href='https://wandb.ai/omergunal84-hacettepe-university/cnn-mnist-optimization/runs/ffl4bpeh' target=\"_blank\">https://wandb.ai/omergunal84-hacettepe-university/cnn-mnist-optimization/runs/ffl4bpeh</a>"
            ]
          },
          "metadata": {}
        },
        {
          "output_type": "stream",
          "name": "stdout",
          "text": [
            "Epoch 1/10\n",
            "1500/1500 - 9s - 6ms/step - accuracy: 0.8765 - loss: 0.4056 - val_accuracy: 0.9728 - val_loss: 0.0952\n",
            "Epoch 2/10\n",
            "1500/1500 - 9s - 6ms/step - accuracy: 0.9622 - loss: 0.1311 - val_accuracy: 0.9792 - val_loss: 0.0690\n",
            "Epoch 3/10\n",
            "1500/1500 - 10s - 7ms/step - accuracy: 0.9724 - loss: 0.0933 - val_accuracy: 0.9822 - val_loss: 0.0626\n",
            "Epoch 4/10\n",
            "1500/1500 - 10s - 6ms/step - accuracy: 0.9771 - loss: 0.0765 - val_accuracy: 0.9857 - val_loss: 0.0481\n",
            "Epoch 5/10\n",
            "1500/1500 - 11s - 7ms/step - accuracy: 0.9806 - loss: 0.0649 - val_accuracy: 0.9852 - val_loss: 0.0447\n",
            "Epoch 6/10\n",
            "1500/1500 - 10s - 6ms/step - accuracy: 0.9834 - loss: 0.0547 - val_accuracy: 0.9882 - val_loss: 0.0418\n",
            "Epoch 7/10\n",
            "1500/1500 - 6s - 4ms/step - accuracy: 0.9853 - loss: 0.0480 - val_accuracy: 0.9889 - val_loss: 0.0381\n",
            "Epoch 8/10\n",
            "1500/1500 - 10s - 7ms/step - accuracy: 0.9871 - loss: 0.0415 - val_accuracy: 0.9898 - val_loss: 0.0376\n",
            "Epoch 9/10\n",
            "1500/1500 - 6s - 4ms/step - accuracy: 0.9883 - loss: 0.0385 - val_accuracy: 0.9895 - val_loss: 0.0356\n",
            "Epoch 10/10\n",
            "1500/1500 - 10s - 7ms/step - accuracy: 0.9898 - loss: 0.0337 - val_accuracy: 0.9902 - val_loss: 0.0342\n"
          ]
        },
        {
          "output_type": "display_data",
          "data": {
            "text/plain": [
              "<IPython.core.display.HTML object>"
            ],
            "text/html": []
          },
          "metadata": {}
        },
        {
          "output_type": "display_data",
          "data": {
            "text/plain": [
              "<IPython.core.display.HTML object>"
            ],
            "text/html": [
              "<br>    <style><br>        .wandb-row {<br>            display: flex;<br>            flex-direction: row;<br>            flex-wrap: wrap;<br>            justify-content: flex-start;<br>            width: 100%;<br>        }<br>        .wandb-col {<br>            display: flex;<br>            flex-direction: column;<br>            flex-basis: 100%;<br>            flex: 1;<br>            padding: 10px;<br>        }<br>    </style><br><div class=\"wandb-row\"><div class=\"wandb-col\"><h3>Run history:</h3><br/><table class=\"wandb\"><tr><td>epoch/accuracy</td><td>▁▆▇▇▇█████</td></tr><tr><td>epoch/epoch</td><td>▁▂▃▃▄▅▆▆▇█</td></tr><tr><td>epoch/learning_rate</td><td>▁▁▁▁▁▁▁▁▁▁</td></tr><tr><td>epoch/loss</td><td>█▃▂▂▂▁▁▁▁▁</td></tr><tr><td>epoch/val_accuracy</td><td>▁▄▅▆▆▇▇███</td></tr><tr><td>epoch/val_loss</td><td>█▅▄▃▂▂▁▁▁▁</td></tr></table><br/></div><div class=\"wandb-col\"><h3>Run summary:</h3><br/><table class=\"wandb\"><tr><td>epoch/accuracy</td><td>0.98979</td></tr><tr><td>epoch/epoch</td><td>9</td></tr><tr><td>epoch/learning_rate</td><td>0.0001</td></tr><tr><td>epoch/loss</td><td>0.03365</td></tr><tr><td>epoch/val_accuracy</td><td>0.99017</td></tr><tr><td>epoch/val_loss</td><td>0.03424</td></tr></table><br/></div></div>"
            ]
          },
          "metadata": {}
        },
        {
          "output_type": "display_data",
          "data": {
            "text/plain": [
              "<IPython.core.display.HTML object>"
            ],
            "text/html": [
              " View run <strong style=\"color:#cdcd00\">silvery-sweep-20</strong> at: <a href='https://wandb.ai/omergunal84-hacettepe-university/cnn-mnist-optimization/runs/ffl4bpeh' target=\"_blank\">https://wandb.ai/omergunal84-hacettepe-university/cnn-mnist-optimization/runs/ffl4bpeh</a><br> View project at: <a href='https://wandb.ai/omergunal84-hacettepe-university/cnn-mnist-optimization' target=\"_blank\">https://wandb.ai/omergunal84-hacettepe-university/cnn-mnist-optimization</a><br>Synced 5 W&B file(s), 0 media file(s), 0 artifact file(s) and 0 other file(s)"
            ]
          },
          "metadata": {}
        },
        {
          "output_type": "display_data",
          "data": {
            "text/plain": [
              "<IPython.core.display.HTML object>"
            ],
            "text/html": [
              "Find logs at: <code>./wandb/run-20250518_075456-ffl4bpeh/logs</code>"
            ]
          },
          "metadata": {}
        },
        {
          "output_type": "stream",
          "name": "stderr",
          "text": [
            "\u001b[34m\u001b[1mwandb\u001b[0m: Agent Starting Run: e6dlmvfg with config:\n",
            "\u001b[34m\u001b[1mwandb\u001b[0m: \tbatch_size: 64\n",
            "\u001b[34m\u001b[1mwandb\u001b[0m: \tdropout_rate: 0.2\n",
            "\u001b[34m\u001b[1mwandb\u001b[0m: \tepochs: 10\n",
            "\u001b[34m\u001b[1mwandb\u001b[0m: \tinit_mode: glorot_uniform\n",
            "\u001b[34m\u001b[1mwandb\u001b[0m: \tlearning_rate: 0.01\n",
            "\u001b[34m\u001b[1mwandb\u001b[0m: \toptimizer: sgd\n"
          ]
        },
        {
          "output_type": "display_data",
          "data": {
            "text/plain": [
              "<IPython.core.display.HTML object>"
            ],
            "text/html": [
              "Tracking run with wandb version 0.19.11"
            ]
          },
          "metadata": {}
        },
        {
          "output_type": "display_data",
          "data": {
            "text/plain": [
              "<IPython.core.display.HTML object>"
            ],
            "text/html": [
              "Run data is saved locally in <code>/content/wandb/run-20250518_075633-e6dlmvfg</code>"
            ]
          },
          "metadata": {}
        },
        {
          "output_type": "display_data",
          "data": {
            "text/plain": [
              "<IPython.core.display.HTML object>"
            ],
            "text/html": [
              "Syncing run <strong><a href='https://wandb.ai/omergunal84-hacettepe-university/cnn-mnist-optimization/runs/e6dlmvfg' target=\"_blank\">dazzling-sweep-21</a></strong> to <a href='https://wandb.ai/omergunal84-hacettepe-university/cnn-mnist-optimization' target=\"_blank\">Weights & Biases</a> (<a href='https://wandb.me/developer-guide' target=\"_blank\">docs</a>)<br>Sweep page: <a href='https://wandb.ai/omergunal84-hacettepe-university/cnn-mnist-optimization/sweeps/dpof9qfz' target=\"_blank\">https://wandb.ai/omergunal84-hacettepe-university/cnn-mnist-optimization/sweeps/dpof9qfz</a>"
            ]
          },
          "metadata": {}
        },
        {
          "output_type": "display_data",
          "data": {
            "text/plain": [
              "<IPython.core.display.HTML object>"
            ],
            "text/html": [
              " View project at <a href='https://wandb.ai/omergunal84-hacettepe-university/cnn-mnist-optimization' target=\"_blank\">https://wandb.ai/omergunal84-hacettepe-university/cnn-mnist-optimization</a>"
            ]
          },
          "metadata": {}
        },
        {
          "output_type": "display_data",
          "data": {
            "text/plain": [
              "<IPython.core.display.HTML object>"
            ],
            "text/html": [
              " View sweep at <a href='https://wandb.ai/omergunal84-hacettepe-university/cnn-mnist-optimization/sweeps/dpof9qfz' target=\"_blank\">https://wandb.ai/omergunal84-hacettepe-university/cnn-mnist-optimization/sweeps/dpof9qfz</a>"
            ]
          },
          "metadata": {}
        },
        {
          "output_type": "display_data",
          "data": {
            "text/plain": [
              "<IPython.core.display.HTML object>"
            ],
            "text/html": [
              " View run at <a href='https://wandb.ai/omergunal84-hacettepe-university/cnn-mnist-optimization/runs/e6dlmvfg' target=\"_blank\">https://wandb.ai/omergunal84-hacettepe-university/cnn-mnist-optimization/runs/e6dlmvfg</a>"
            ]
          },
          "metadata": {}
        },
        {
          "output_type": "stream",
          "name": "stdout",
          "text": [
            "Epoch 1/10\n",
            "750/750 - 6s - 8ms/step - accuracy: 0.7063 - loss: 0.9626 - val_accuracy: 0.9281 - val_loss: 0.2361\n",
            "Epoch 2/10\n",
            "750/750 - 3s - 5ms/step - accuracy: 0.9232 - loss: 0.2514 - val_accuracy: 0.9578 - val_loss: 0.1475\n",
            "Epoch 3/10\n",
            "750/750 - 3s - 4ms/step - accuracy: 0.9499 - loss: 0.1672 - val_accuracy: 0.9676 - val_loss: 0.1091\n",
            "Epoch 4/10\n",
            "750/750 - 3s - 4ms/step - accuracy: 0.9605 - loss: 0.1312 - val_accuracy: 0.9730 - val_loss: 0.0885\n",
            "Epoch 5/10\n",
            "750/750 - 5s - 7ms/step - accuracy: 0.9666 - loss: 0.1115 - val_accuracy: 0.9774 - val_loss: 0.0750\n",
            "Epoch 6/10\n",
            "750/750 - 3s - 4ms/step - accuracy: 0.9706 - loss: 0.0954 - val_accuracy: 0.9787 - val_loss: 0.0720\n",
            "Epoch 7/10\n",
            "750/750 - 3s - 4ms/step - accuracy: 0.9737 - loss: 0.0870 - val_accuracy: 0.9803 - val_loss: 0.0651\n",
            "Epoch 8/10\n",
            "750/750 - 4s - 5ms/step - accuracy: 0.9749 - loss: 0.0789 - val_accuracy: 0.9814 - val_loss: 0.0603\n",
            "Epoch 9/10\n",
            "750/750 - 5s - 7ms/step - accuracy: 0.9769 - loss: 0.0726 - val_accuracy: 0.9808 - val_loss: 0.0624\n",
            "Epoch 10/10\n",
            "750/750 - 3s - 4ms/step - accuracy: 0.9797 - loss: 0.0649 - val_accuracy: 0.9817 - val_loss: 0.0597\n"
          ]
        },
        {
          "output_type": "display_data",
          "data": {
            "text/plain": [
              "<IPython.core.display.HTML object>"
            ],
            "text/html": []
          },
          "metadata": {}
        },
        {
          "output_type": "display_data",
          "data": {
            "text/plain": [
              "<IPython.core.display.HTML object>"
            ],
            "text/html": [
              "<br>    <style><br>        .wandb-row {<br>            display: flex;<br>            flex-direction: row;<br>            flex-wrap: wrap;<br>            justify-content: flex-start;<br>            width: 100%;<br>        }<br>        .wandb-col {<br>            display: flex;<br>            flex-direction: column;<br>            flex-basis: 100%;<br>            flex: 1;<br>            padding: 10px;<br>        }<br>    </style><br><div class=\"wandb-row\"><div class=\"wandb-col\"><h3>Run history:</h3><br/><table class=\"wandb\"><tr><td>epoch/accuracy</td><td>▁▇▇███████</td></tr><tr><td>epoch/epoch</td><td>▁▂▃▃▄▅▆▆▇█</td></tr><tr><td>epoch/learning_rate</td><td>▁▁▁▁▁▁▁▁▁▁</td></tr><tr><td>epoch/loss</td><td>█▂▂▂▁▁▁▁▁▁</td></tr><tr><td>epoch/val_accuracy</td><td>▁▅▆▇▇█████</td></tr><tr><td>epoch/val_loss</td><td>█▄▃▂▂▁▁▁▁▁</td></tr></table><br/></div><div class=\"wandb-col\"><h3>Run summary:</h3><br/><table class=\"wandb\"><tr><td>epoch/accuracy</td><td>0.97971</td></tr><tr><td>epoch/epoch</td><td>9</td></tr><tr><td>epoch/learning_rate</td><td>0.01</td></tr><tr><td>epoch/loss</td><td>0.06494</td></tr><tr><td>epoch/val_accuracy</td><td>0.98167</td></tr><tr><td>epoch/val_loss</td><td>0.05968</td></tr></table><br/></div></div>"
            ]
          },
          "metadata": {}
        },
        {
          "output_type": "display_data",
          "data": {
            "text/plain": [
              "<IPython.core.display.HTML object>"
            ],
            "text/html": [
              " View run <strong style=\"color:#cdcd00\">dazzling-sweep-21</strong> at: <a href='https://wandb.ai/omergunal84-hacettepe-university/cnn-mnist-optimization/runs/e6dlmvfg' target=\"_blank\">https://wandb.ai/omergunal84-hacettepe-university/cnn-mnist-optimization/runs/e6dlmvfg</a><br> View project at: <a href='https://wandb.ai/omergunal84-hacettepe-university/cnn-mnist-optimization' target=\"_blank\">https://wandb.ai/omergunal84-hacettepe-university/cnn-mnist-optimization</a><br>Synced 5 W&B file(s), 0 media file(s), 0 artifact file(s) and 0 other file(s)"
            ]
          },
          "metadata": {}
        },
        {
          "output_type": "display_data",
          "data": {
            "text/plain": [
              "<IPython.core.display.HTML object>"
            ],
            "text/html": [
              "Find logs at: <code>./wandb/run-20250518_075633-e6dlmvfg/logs</code>"
            ]
          },
          "metadata": {}
        },
        {
          "output_type": "stream",
          "name": "stderr",
          "text": [
            "\u001b[34m\u001b[1mwandb\u001b[0m: Agent Starting Run: njlssfav with config:\n",
            "\u001b[34m\u001b[1mwandb\u001b[0m: \tbatch_size: 32\n",
            "\u001b[34m\u001b[1mwandb\u001b[0m: \tdropout_rate: 0.3\n",
            "\u001b[34m\u001b[1mwandb\u001b[0m: \tepochs: 10\n",
            "\u001b[34m\u001b[1mwandb\u001b[0m: \tinit_mode: he_uniform\n",
            "\u001b[34m\u001b[1mwandb\u001b[0m: \tlearning_rate: 0.0001\n",
            "\u001b[34m\u001b[1mwandb\u001b[0m: \toptimizer: adam\n"
          ]
        },
        {
          "output_type": "display_data",
          "data": {
            "text/plain": [
              "<IPython.core.display.HTML object>"
            ],
            "text/html": [
              "Tracking run with wandb version 0.19.11"
            ]
          },
          "metadata": {}
        },
        {
          "output_type": "display_data",
          "data": {
            "text/plain": [
              "<IPython.core.display.HTML object>"
            ],
            "text/html": [
              "Run data is saved locally in <code>/content/wandb/run-20250518_075718-njlssfav</code>"
            ]
          },
          "metadata": {}
        },
        {
          "output_type": "display_data",
          "data": {
            "text/plain": [
              "<IPython.core.display.HTML object>"
            ],
            "text/html": [
              "Syncing run <strong><a href='https://wandb.ai/omergunal84-hacettepe-university/cnn-mnist-optimization/runs/njlssfav' target=\"_blank\">glamorous-sweep-22</a></strong> to <a href='https://wandb.ai/omergunal84-hacettepe-university/cnn-mnist-optimization' target=\"_blank\">Weights & Biases</a> (<a href='https://wandb.me/developer-guide' target=\"_blank\">docs</a>)<br>Sweep page: <a href='https://wandb.ai/omergunal84-hacettepe-university/cnn-mnist-optimization/sweeps/dpof9qfz' target=\"_blank\">https://wandb.ai/omergunal84-hacettepe-university/cnn-mnist-optimization/sweeps/dpof9qfz</a>"
            ]
          },
          "metadata": {}
        },
        {
          "output_type": "display_data",
          "data": {
            "text/plain": [
              "<IPython.core.display.HTML object>"
            ],
            "text/html": [
              " View project at <a href='https://wandb.ai/omergunal84-hacettepe-university/cnn-mnist-optimization' target=\"_blank\">https://wandb.ai/omergunal84-hacettepe-university/cnn-mnist-optimization</a>"
            ]
          },
          "metadata": {}
        },
        {
          "output_type": "display_data",
          "data": {
            "text/plain": [
              "<IPython.core.display.HTML object>"
            ],
            "text/html": [
              " View sweep at <a href='https://wandb.ai/omergunal84-hacettepe-university/cnn-mnist-optimization/sweeps/dpof9qfz' target=\"_blank\">https://wandb.ai/omergunal84-hacettepe-university/cnn-mnist-optimization/sweeps/dpof9qfz</a>"
            ]
          },
          "metadata": {}
        },
        {
          "output_type": "display_data",
          "data": {
            "text/plain": [
              "<IPython.core.display.HTML object>"
            ],
            "text/html": [
              " View run at <a href='https://wandb.ai/omergunal84-hacettepe-university/cnn-mnist-optimization/runs/njlssfav' target=\"_blank\">https://wandb.ai/omergunal84-hacettepe-university/cnn-mnist-optimization/runs/njlssfav</a>"
            ]
          },
          "metadata": {}
        }
      ]
    },
    {
      "cell_type": "markdown",
      "source": [
        "Broken CNN Model-1"
      ],
      "metadata": {
        "id": "0-sPPcpk99sc"
      }
    },
    {
      "cell_type": "code",
      "source": [
        "# Broken CNN Model-1\n",
        "\n",
        "model4 = models.Sequential([\n",
        "    layers.Conv2D(32, 3, padding='same', activation='relu',input_shape=(28,28,1)),\n",
        "    layers.MaxPooling2D(2),\n",
        "    layers.Conv2D(64, 3, padding='same', activation='relu'),\n",
        "    layers.MaxPooling2D(2),\n",
        "    layers.Flatten(),\n",
        "    layers.Dense(64, activation='relu'),\n",
        "    layers.Dropout(0.5),\n",
        "    layers.Dense(10, activation='tanh'), # at the output layer tanh activation !!!\n",
        "])\n",
        "\n",
        "model4.summary()\n",
        "\n",
        "model4.compile(\n",
        "    optimizer='adam',\n",
        "    loss='sparse_categorical_crossentropy',\n",
        "    metrics=['accuracy']\n",
        ")\n",
        "\n",
        "history = model4.fit(\n",
        "    x_train, y_train,\n",
        "    batch_size=64,\n",
        "    epochs=10,\n",
        "    validation_split=0.2,\n",
        "    verbose=2\n",
        ")\n",
        "\n",
        "plt.figure()\n",
        "plt.plot(history.history['loss'], label='Train Loss')\n",
        "plt.plot(history.history['val_loss'], label='Val Loss')\n",
        "plt.xlabel('Epoch'); plt.ylabel('Loss'); plt.legend()\n",
        "plt.title('Loss vs. Epoch')\n",
        "plt.show()\n",
        "\n",
        "plt.figure()\n",
        "plt.plot(history.history['accuracy'], label='Train Acc')\n",
        "plt.plot(history.history['val_accuracy'], label='Val Acc')\n",
        "plt.xlabel('Epoch'); plt.ylabel('Accuracy'); plt.legend()\n",
        "plt.title('Accuracy vs. Epoch')\n",
        "plt.show()"
      ],
      "metadata": {
        "colab": {
          "base_uri": "https://localhost:8080/",
          "height": 1000
        },
        "id": "7QzTt4g49_7y",
        "outputId": "af156580-8312-4b96-fc94-081c323451ad"
      },
      "execution_count": null,
      "outputs": [
        {
          "output_type": "stream",
          "name": "stderr",
          "text": [
            "/usr/local/lib/python3.11/dist-packages/keras/src/layers/convolutional/base_conv.py:107: UserWarning: Do not pass an `input_shape`/`input_dim` argument to a layer. When using Sequential models, prefer using an `Input(shape)` object as the first layer in the model instead.\n",
            "  super().__init__(activity_regularizer=activity_regularizer, **kwargs)\n"
          ]
        },
        {
          "output_type": "display_data",
          "data": {
            "text/plain": [
              "\u001b[1mModel: \"sequential_5\"\u001b[0m\n"
            ],
            "text/html": [
              "<pre style=\"white-space:pre;overflow-x:auto;line-height:normal;font-family:Menlo,'DejaVu Sans Mono',consolas,'Courier New',monospace\"><span style=\"font-weight: bold\">Model: \"sequential_5\"</span>\n",
              "</pre>\n"
            ]
          },
          "metadata": {}
        },
        {
          "output_type": "display_data",
          "data": {
            "text/plain": [
              "┏━━━━━━━━━━━━━━━━━━━━━━━━━━━━━━━━━┳━━━━━━━━━━━━━━━━━━━━━━━━┳━━━━━━━━━━━━━━━┓\n",
              "┃\u001b[1m \u001b[0m\u001b[1mLayer (type)                   \u001b[0m\u001b[1m \u001b[0m┃\u001b[1m \u001b[0m\u001b[1mOutput Shape          \u001b[0m\u001b[1m \u001b[0m┃\u001b[1m \u001b[0m\u001b[1m      Param #\u001b[0m\u001b[1m \u001b[0m┃\n",
              "┡━━━━━━━━━━━━━━━━━━━━━━━━━━━━━━━━━╇━━━━━━━━━━━━━━━━━━━━━━━━╇━━━━━━━━━━━━━━━┩\n",
              "│ conv2d_6 (\u001b[38;5;33mConv2D\u001b[0m)               │ (\u001b[38;5;45mNone\u001b[0m, \u001b[38;5;34m28\u001b[0m, \u001b[38;5;34m28\u001b[0m, \u001b[38;5;34m32\u001b[0m)     │           \u001b[38;5;34m320\u001b[0m │\n",
              "├─────────────────────────────────┼────────────────────────┼───────────────┤\n",
              "│ max_pooling2d_6 (\u001b[38;5;33mMaxPooling2D\u001b[0m)  │ (\u001b[38;5;45mNone\u001b[0m, \u001b[38;5;34m14\u001b[0m, \u001b[38;5;34m14\u001b[0m, \u001b[38;5;34m32\u001b[0m)     │             \u001b[38;5;34m0\u001b[0m │\n",
              "├─────────────────────────────────┼────────────────────────┼───────────────┤\n",
              "│ conv2d_7 (\u001b[38;5;33mConv2D\u001b[0m)               │ (\u001b[38;5;45mNone\u001b[0m, \u001b[38;5;34m14\u001b[0m, \u001b[38;5;34m14\u001b[0m, \u001b[38;5;34m64\u001b[0m)     │        \u001b[38;5;34m18,496\u001b[0m │\n",
              "├─────────────────────────────────┼────────────────────────┼───────────────┤\n",
              "│ max_pooling2d_7 (\u001b[38;5;33mMaxPooling2D\u001b[0m)  │ (\u001b[38;5;45mNone\u001b[0m, \u001b[38;5;34m7\u001b[0m, \u001b[38;5;34m7\u001b[0m, \u001b[38;5;34m64\u001b[0m)       │             \u001b[38;5;34m0\u001b[0m │\n",
              "├─────────────────────────────────┼────────────────────────┼───────────────┤\n",
              "│ flatten_5 (\u001b[38;5;33mFlatten\u001b[0m)             │ (\u001b[38;5;45mNone\u001b[0m, \u001b[38;5;34m3136\u001b[0m)           │             \u001b[38;5;34m0\u001b[0m │\n",
              "├─────────────────────────────────┼────────────────────────┼───────────────┤\n",
              "│ dense_10 (\u001b[38;5;33mDense\u001b[0m)                │ (\u001b[38;5;45mNone\u001b[0m, \u001b[38;5;34m64\u001b[0m)             │       \u001b[38;5;34m200,768\u001b[0m │\n",
              "├─────────────────────────────────┼────────────────────────┼───────────────┤\n",
              "│ dropout_5 (\u001b[38;5;33mDropout\u001b[0m)             │ (\u001b[38;5;45mNone\u001b[0m, \u001b[38;5;34m64\u001b[0m)             │             \u001b[38;5;34m0\u001b[0m │\n",
              "├─────────────────────────────────┼────────────────────────┼───────────────┤\n",
              "│ dense_11 (\u001b[38;5;33mDense\u001b[0m)                │ (\u001b[38;5;45mNone\u001b[0m, \u001b[38;5;34m10\u001b[0m)             │           \u001b[38;5;34m650\u001b[0m │\n",
              "└─────────────────────────────────┴────────────────────────┴───────────────┘\n"
            ],
            "text/html": [
              "<pre style=\"white-space:pre;overflow-x:auto;line-height:normal;font-family:Menlo,'DejaVu Sans Mono',consolas,'Courier New',monospace\">┏━━━━━━━━━━━━━━━━━━━━━━━━━━━━━━━━━┳━━━━━━━━━━━━━━━━━━━━━━━━┳━━━━━━━━━━━━━━━┓\n",
              "┃<span style=\"font-weight: bold\"> Layer (type)                    </span>┃<span style=\"font-weight: bold\"> Output Shape           </span>┃<span style=\"font-weight: bold\">       Param # </span>┃\n",
              "┡━━━━━━━━━━━━━━━━━━━━━━━━━━━━━━━━━╇━━━━━━━━━━━━━━━━━━━━━━━━╇━━━━━━━━━━━━━━━┩\n",
              "│ conv2d_6 (<span style=\"color: #0087ff; text-decoration-color: #0087ff\">Conv2D</span>)               │ (<span style=\"color: #00d7ff; text-decoration-color: #00d7ff\">None</span>, <span style=\"color: #00af00; text-decoration-color: #00af00\">28</span>, <span style=\"color: #00af00; text-decoration-color: #00af00\">28</span>, <span style=\"color: #00af00; text-decoration-color: #00af00\">32</span>)     │           <span style=\"color: #00af00; text-decoration-color: #00af00\">320</span> │\n",
              "├─────────────────────────────────┼────────────────────────┼───────────────┤\n",
              "│ max_pooling2d_6 (<span style=\"color: #0087ff; text-decoration-color: #0087ff\">MaxPooling2D</span>)  │ (<span style=\"color: #00d7ff; text-decoration-color: #00d7ff\">None</span>, <span style=\"color: #00af00; text-decoration-color: #00af00\">14</span>, <span style=\"color: #00af00; text-decoration-color: #00af00\">14</span>, <span style=\"color: #00af00; text-decoration-color: #00af00\">32</span>)     │             <span style=\"color: #00af00; text-decoration-color: #00af00\">0</span> │\n",
              "├─────────────────────────────────┼────────────────────────┼───────────────┤\n",
              "│ conv2d_7 (<span style=\"color: #0087ff; text-decoration-color: #0087ff\">Conv2D</span>)               │ (<span style=\"color: #00d7ff; text-decoration-color: #00d7ff\">None</span>, <span style=\"color: #00af00; text-decoration-color: #00af00\">14</span>, <span style=\"color: #00af00; text-decoration-color: #00af00\">14</span>, <span style=\"color: #00af00; text-decoration-color: #00af00\">64</span>)     │        <span style=\"color: #00af00; text-decoration-color: #00af00\">18,496</span> │\n",
              "├─────────────────────────────────┼────────────────────────┼───────────────┤\n",
              "│ max_pooling2d_7 (<span style=\"color: #0087ff; text-decoration-color: #0087ff\">MaxPooling2D</span>)  │ (<span style=\"color: #00d7ff; text-decoration-color: #00d7ff\">None</span>, <span style=\"color: #00af00; text-decoration-color: #00af00\">7</span>, <span style=\"color: #00af00; text-decoration-color: #00af00\">7</span>, <span style=\"color: #00af00; text-decoration-color: #00af00\">64</span>)       │             <span style=\"color: #00af00; text-decoration-color: #00af00\">0</span> │\n",
              "├─────────────────────────────────┼────────────────────────┼───────────────┤\n",
              "│ flatten_5 (<span style=\"color: #0087ff; text-decoration-color: #0087ff\">Flatten</span>)             │ (<span style=\"color: #00d7ff; text-decoration-color: #00d7ff\">None</span>, <span style=\"color: #00af00; text-decoration-color: #00af00\">3136</span>)           │             <span style=\"color: #00af00; text-decoration-color: #00af00\">0</span> │\n",
              "├─────────────────────────────────┼────────────────────────┼───────────────┤\n",
              "│ dense_10 (<span style=\"color: #0087ff; text-decoration-color: #0087ff\">Dense</span>)                │ (<span style=\"color: #00d7ff; text-decoration-color: #00d7ff\">None</span>, <span style=\"color: #00af00; text-decoration-color: #00af00\">64</span>)             │       <span style=\"color: #00af00; text-decoration-color: #00af00\">200,768</span> │\n",
              "├─────────────────────────────────┼────────────────────────┼───────────────┤\n",
              "│ dropout_5 (<span style=\"color: #0087ff; text-decoration-color: #0087ff\">Dropout</span>)             │ (<span style=\"color: #00d7ff; text-decoration-color: #00d7ff\">None</span>, <span style=\"color: #00af00; text-decoration-color: #00af00\">64</span>)             │             <span style=\"color: #00af00; text-decoration-color: #00af00\">0</span> │\n",
              "├─────────────────────────────────┼────────────────────────┼───────────────┤\n",
              "│ dense_11 (<span style=\"color: #0087ff; text-decoration-color: #0087ff\">Dense</span>)                │ (<span style=\"color: #00d7ff; text-decoration-color: #00d7ff\">None</span>, <span style=\"color: #00af00; text-decoration-color: #00af00\">10</span>)             │           <span style=\"color: #00af00; text-decoration-color: #00af00\">650</span> │\n",
              "└─────────────────────────────────┴────────────────────────┴───────────────┘\n",
              "</pre>\n"
            ]
          },
          "metadata": {}
        },
        {
          "output_type": "display_data",
          "data": {
            "text/plain": [
              "\u001b[1m Total params: \u001b[0m\u001b[38;5;34m220,234\u001b[0m (860.29 KB)\n"
            ],
            "text/html": [
              "<pre style=\"white-space:pre;overflow-x:auto;line-height:normal;font-family:Menlo,'DejaVu Sans Mono',consolas,'Courier New',monospace\"><span style=\"font-weight: bold\"> Total params: </span><span style=\"color: #00af00; text-decoration-color: #00af00\">220,234</span> (860.29 KB)\n",
              "</pre>\n"
            ]
          },
          "metadata": {}
        },
        {
          "output_type": "display_data",
          "data": {
            "text/plain": [
              "\u001b[1m Trainable params: \u001b[0m\u001b[38;5;34m220,234\u001b[0m (860.29 KB)\n"
            ],
            "text/html": [
              "<pre style=\"white-space:pre;overflow-x:auto;line-height:normal;font-family:Menlo,'DejaVu Sans Mono',consolas,'Courier New',monospace\"><span style=\"font-weight: bold\"> Trainable params: </span><span style=\"color: #00af00; text-decoration-color: #00af00\">220,234</span> (860.29 KB)\n",
              "</pre>\n"
            ]
          },
          "metadata": {}
        },
        {
          "output_type": "display_data",
          "data": {
            "text/plain": [
              "\u001b[1m Non-trainable params: \u001b[0m\u001b[38;5;34m0\u001b[0m (0.00 B)\n"
            ],
            "text/html": [
              "<pre style=\"white-space:pre;overflow-x:auto;line-height:normal;font-family:Menlo,'DejaVu Sans Mono',consolas,'Courier New',monospace\"><span style=\"font-weight: bold\"> Non-trainable params: </span><span style=\"color: #00af00; text-decoration-color: #00af00\">0</span> (0.00 B)\n",
              "</pre>\n"
            ]
          },
          "metadata": {}
        },
        {
          "output_type": "stream",
          "name": "stdout",
          "text": [
            "Epoch 1/10\n",
            "750/750 - 59s - 78ms/step - accuracy: 0.5614 - loss: 1.9559 - val_accuracy: 0.2563 - val_loss: 2.3026\n",
            "Epoch 2/10\n",
            "750/750 - 81s - 107ms/step - accuracy: 0.1568 - loss: 2.3858 - val_accuracy: 0.2278 - val_loss: 2.3026\n",
            "Epoch 3/10\n",
            "750/750 - 48s - 63ms/step - accuracy: 0.1609 - loss: 2.3202 - val_accuracy: 0.2721 - val_loss: 2.3026\n",
            "Epoch 4/10\n",
            "750/750 - 49s - 66ms/step - accuracy: 0.1818 - loss: 2.3130 - val_accuracy: 0.4247 - val_loss: 2.3026\n",
            "Epoch 5/10\n",
            "750/750 - 81s - 109ms/step - accuracy: 0.1686 - loss: 2.3097 - val_accuracy: 0.2409 - val_loss: 2.3026\n",
            "Epoch 6/10\n",
            "750/750 - 81s - 108ms/step - accuracy: 0.1359 - loss: 2.3080 - val_accuracy: 0.1251 - val_loss: 2.3026\n",
            "Epoch 7/10\n",
            "750/750 - 48s - 64ms/step - accuracy: 0.1285 - loss: 2.3053 - val_accuracy: 0.0956 - val_loss: 2.3026\n",
            "Epoch 8/10\n",
            "750/750 - 53s - 71ms/step - accuracy: 0.1241 - loss: 2.3026 - val_accuracy: 0.0956 - val_loss: 2.3026\n",
            "Epoch 9/10\n",
            "750/750 - 76s - 101ms/step - accuracy: 0.1160 - loss: 2.3028 - val_accuracy: 0.0956 - val_loss: 2.3026\n",
            "Epoch 10/10\n",
            "750/750 - 48s - 64ms/step - accuracy: 0.1132 - loss: 2.3028 - val_accuracy: 0.0956 - val_loss: 2.3026\n"
          ]
        },
        {
          "output_type": "display_data",
          "data": {
            "text/plain": [
              "<Figure size 640x480 with 1 Axes>"
            ],
            "image/png": "[encoded data removed]"
          },
          "metadata": {}
        },
        {
          "output_type": "display_data",
          "data": {
            "text/plain": [
              "<Figure size 640x480 with 1 Axes>"
            ],
            "image/png": "[encoded data removed]"
          },
          "metadata": {}
        }
      ]
    },
    {
      "cell_type": "markdown",
      "source": [
        "Broken CNN Model-2"
      ],
      "metadata": {
        "id": "zBs9kF33IRfb"
      }
    },
    {
      "cell_type": "code",
      "source": [
        "# Broken CNN Model-2\n",
        "\n",
        "model5 = models.Sequential([\n",
        "    layers.Conv2D(32, 1, padding='same', activation='relu',input_shape=(28,28,1)),\n",
        "    layers.MaxPooling2D(2),\n",
        "    layers.Conv2D(64, 1, padding='same', activation='relu'),\n",
        "    layers.MaxPooling2D(2),\n",
        "    layers.Flatten(),\n",
        "    layers.Dense(64, activation='relu'),\n",
        "    layers.Dropout(0.7),\n",
        "    layers.Dense(10, activation='softmax'),\n",
        "])\n",
        "\n",
        "model5.summary()\n",
        "\n",
        "model5.compile(\n",
        "    optimizer='adam',\n",
        "    loss='sparse_categorical_crossentropy',\n",
        "    metrics=['accuracy']\n",
        ")\n",
        "\n",
        "history = model5.fit(\n",
        "    x_train, y_train,\n",
        "    batch_size=64,\n",
        "\n",
        "    epochs=5,\n",
        "    validation_split=0.4,\n",
        "\n",
        "    verbose=2\n",
        ")\n",
        "\n",
        "plt.figure()\n",
        "plt.plot(history.history['loss'], label='Train Loss')\n",
        "plt.plot(history.history['val_loss'], label='Val Loss')\n",
        "plt.xlabel('Epoch'); plt.ylabel('Loss'); plt.legend()\n",
        "plt.title('Loss vs. Epoch')\n",
        "plt.show()\n",
        "\n",
        "plt.figure()\n",
        "plt.plot(history.history['accuracy'], label='Train Acc')\n",
        "plt.plot(history.history['val_accuracy'], label='Val Acc')\n",
        "plt.xlabel('Epoch'); plt.ylabel('Accuracy'); plt.legend()\n",
        "plt.title('Accuracy vs. Epoch')\n",
        "plt.show()"
      ],
      "metadata": {
        "colab": {
          "base_uri": "https://localhost:8080/",
          "height": 1000
        },
        "id": "0M0tXGOCIOsH",
        "outputId": "79b07dc1-fc59-42d5-84f1-7bfe13af1003"
      },
      "execution_count": null,
      "outputs": [
        {
          "output_type": "display_data",
          "data": {
            "text/plain": [
              "\u001b[1mModel: \"sequential_14\"\u001b[0m\n"
            ],
            "text/html": [
              "<pre style=\"white-space:pre;overflow-x:auto;line-height:normal;font-family:Menlo,'DejaVu Sans Mono',consolas,'Courier New',monospace\"><span style=\"font-weight: bold\">Model: \"sequential_14\"</span>\n",
              "</pre>\n"
            ]
          },
          "metadata": {}
        },
        {
          "output_type": "display_data",
          "data": {
            "text/plain": [
              "┏━━━━━━━━━━━━━━━━━━━━━━━━━━━━━━━━━┳━━━━━━━━━━━━━━━━━━━━━━━━┳━━━━━━━━━━━━━━━┓\n",
              "┃\u001b[1m \u001b[0m\u001b[1mLayer (type)                   \u001b[0m\u001b[1m \u001b[0m┃\u001b[1m \u001b[0m\u001b[1mOutput Shape          \u001b[0m\u001b[1m \u001b[0m┃\u001b[1m \u001b[0m\u001b[1m      Param #\u001b[0m\u001b[1m \u001b[0m┃\n",
              "┡━━━━━━━━━━━━━━━━━━━━━━━━━━━━━━━━━╇━━━━━━━━━━━━━━━━━━━━━━━━╇━━━━━━━━━━━━━━━┩\n",
              "│ conv2d_24 (\u001b[38;5;33mConv2D\u001b[0m)              │ (\u001b[38;5;45mNone\u001b[0m, \u001b[38;5;34m28\u001b[0m, \u001b[38;5;34m28\u001b[0m, \u001b[38;5;34m32\u001b[0m)     │            \u001b[38;5;34m64\u001b[0m │\n",
              "├─────────────────────────────────┼────────────────────────┼───────────────┤\n",
              "│ max_pooling2d_24 (\u001b[38;5;33mMaxPooling2D\u001b[0m) │ (\u001b[38;5;45mNone\u001b[0m, \u001b[38;5;34m14\u001b[0m, \u001b[38;5;34m14\u001b[0m, \u001b[38;5;34m32\u001b[0m)     │             \u001b[38;5;34m0\u001b[0m │\n",
              "├─────────────────────────────────┼────────────────────────┼───────────────┤\n",
              "│ conv2d_25 (\u001b[38;5;33mConv2D\u001b[0m)              │ (\u001b[38;5;45mNone\u001b[0m, \u001b[38;5;34m14\u001b[0m, \u001b[38;5;34m14\u001b[0m, \u001b[38;5;34m64\u001b[0m)     │         \u001b[38;5;34m2,112\u001b[0m │\n",
              "├─────────────────────────────────┼────────────────────────┼───────────────┤\n",
              "│ max_pooling2d_25 (\u001b[38;5;33mMaxPooling2D\u001b[0m) │ (\u001b[38;5;45mNone\u001b[0m, \u001b[38;5;34m7\u001b[0m, \u001b[38;5;34m7\u001b[0m, \u001b[38;5;34m64\u001b[0m)       │             \u001b[38;5;34m0\u001b[0m │\n",
              "├─────────────────────────────────┼────────────────────────┼───────────────┤\n",
              "│ flatten_14 (\u001b[38;5;33mFlatten\u001b[0m)            │ (\u001b[38;5;45mNone\u001b[0m, \u001b[38;5;34m3136\u001b[0m)           │             \u001b[38;5;34m0\u001b[0m │\n",
              "├─────────────────────────────────┼────────────────────────┼───────────────┤\n",
              "│ dense_28 (\u001b[38;5;33mDense\u001b[0m)                │ (\u001b[38;5;45mNone\u001b[0m, \u001b[38;5;34m64\u001b[0m)             │       \u001b[38;5;34m200,768\u001b[0m │\n",
              "├─────────────────────────────────┼────────────────────────┼───────────────┤\n",
              "│ dropout_14 (\u001b[38;5;33mDropout\u001b[0m)            │ (\u001b[38;5;45mNone\u001b[0m, \u001b[38;5;34m64\u001b[0m)             │             \u001b[38;5;34m0\u001b[0m │\n",
              "├─────────────────────────────────┼────────────────────────┼───────────────┤\n",
              "│ dense_29 (\u001b[38;5;33mDense\u001b[0m)                │ (\u001b[38;5;45mNone\u001b[0m, \u001b[38;5;34m10\u001b[0m)             │           \u001b[38;5;34m650\u001b[0m │\n",
              "└─────────────────────────────────┴────────────────────────┴───────────────┘\n"
            ],
            "text/html": [
              "<pre style=\"white-space:pre;overflow-x:auto;line-height:normal;font-family:Menlo,'DejaVu Sans Mono',consolas,'Courier New',monospace\">┏━━━━━━━━━━━━━━━━━━━━━━━━━━━━━━━━━┳━━━━━━━━━━━━━━━━━━━━━━━━┳━━━━━━━━━━━━━━━┓\n",
              "┃<span style=\"font-weight: bold\"> Layer (type)                    </span>┃<span style=\"font-weight: bold\"> Output Shape           </span>┃<span style=\"font-weight: bold\">       Param # </span>┃\n",
              "┡━━━━━━━━━━━━━━━━━━━━━━━━━━━━━━━━━╇━━━━━━━━━━━━━━━━━━━━━━━━╇━━━━━━━━━━━━━━━┩\n",
              "│ conv2d_24 (<span style=\"color: #0087ff; text-decoration-color: #0087ff\">Conv2D</span>)              │ (<span style=\"color: #00d7ff; text-decoration-color: #00d7ff\">None</span>, <span style=\"color: #00af00; text-decoration-color: #00af00\">28</span>, <span style=\"color: #00af00; text-decoration-color: #00af00\">28</span>, <span style=\"color: #00af00; text-decoration-color: #00af00\">32</span>)     │            <span style=\"color: #00af00; text-decoration-color: #00af00\">64</span> │\n",
              "├─────────────────────────────────┼────────────────────────┼───────────────┤\n",
              "│ max_pooling2d_24 (<span style=\"color: #0087ff; text-decoration-color: #0087ff\">MaxPooling2D</span>) │ (<span style=\"color: #00d7ff; text-decoration-color: #00d7ff\">None</span>, <span style=\"color: #00af00; text-decoration-color: #00af00\">14</span>, <span style=\"color: #00af00; text-decoration-color: #00af00\">14</span>, <span style=\"color: #00af00; text-decoration-color: #00af00\">32</span>)     │             <span style=\"color: #00af00; text-decoration-color: #00af00\">0</span> │\n",
              "├─────────────────────────────────┼────────────────────────┼───────────────┤\n",
              "│ conv2d_25 (<span style=\"color: #0087ff; text-decoration-color: #0087ff\">Conv2D</span>)              │ (<span style=\"color: #00d7ff; text-decoration-color: #00d7ff\">None</span>, <span style=\"color: #00af00; text-decoration-color: #00af00\">14</span>, <span style=\"color: #00af00; text-decoration-color: #00af00\">14</span>, <span style=\"color: #00af00; text-decoration-color: #00af00\">64</span>)     │         <span style=\"color: #00af00; text-decoration-color: #00af00\">2,112</span> │\n",
              "├─────────────────────────────────┼────────────────────────┼───────────────┤\n",
              "│ max_pooling2d_25 (<span style=\"color: #0087ff; text-decoration-color: #0087ff\">MaxPooling2D</span>) │ (<span style=\"color: #00d7ff; text-decoration-color: #00d7ff\">None</span>, <span style=\"color: #00af00; text-decoration-color: #00af00\">7</span>, <span style=\"color: #00af00; text-decoration-color: #00af00\">7</span>, <span style=\"color: #00af00; text-decoration-color: #00af00\">64</span>)       │             <span style=\"color: #00af00; text-decoration-color: #00af00\">0</span> │\n",
              "├─────────────────────────────────┼────────────────────────┼───────────────┤\n",
              "│ flatten_14 (<span style=\"color: #0087ff; text-decoration-color: #0087ff\">Flatten</span>)            │ (<span style=\"color: #00d7ff; text-decoration-color: #00d7ff\">None</span>, <span style=\"color: #00af00; text-decoration-color: #00af00\">3136</span>)           │             <span style=\"color: #00af00; text-decoration-color: #00af00\">0</span> │\n",
              "├─────────────────────────────────┼────────────────────────┼───────────────┤\n",
              "│ dense_28 (<span style=\"color: #0087ff; text-decoration-color: #0087ff\">Dense</span>)                │ (<span style=\"color: #00d7ff; text-decoration-color: #00d7ff\">None</span>, <span style=\"color: #00af00; text-decoration-color: #00af00\">64</span>)             │       <span style=\"color: #00af00; text-decoration-color: #00af00\">200,768</span> │\n",
              "├─────────────────────────────────┼────────────────────────┼───────────────┤\n",
              "│ dropout_14 (<span style=\"color: #0087ff; text-decoration-color: #0087ff\">Dropout</span>)            │ (<span style=\"color: #00d7ff; text-decoration-color: #00d7ff\">None</span>, <span style=\"color: #00af00; text-decoration-color: #00af00\">64</span>)             │             <span style=\"color: #00af00; text-decoration-color: #00af00\">0</span> │\n",
              "├─────────────────────────────────┼────────────────────────┼───────────────┤\n",
              "│ dense_29 (<span style=\"color: #0087ff; text-decoration-color: #0087ff\">Dense</span>)                │ (<span style=\"color: #00d7ff; text-decoration-color: #00d7ff\">None</span>, <span style=\"color: #00af00; text-decoration-color: #00af00\">10</span>)             │           <span style=\"color: #00af00; text-decoration-color: #00af00\">650</span> │\n",
              "└─────────────────────────────────┴────────────────────────┴───────────────┘\n",
              "</pre>\n"
            ]
          },
          "metadata": {}
        },
        {
          "output_type": "display_data",
          "data": {
            "text/plain": [
              "\u001b[1m Total params: \u001b[0m\u001b[38;5;34m203,594\u001b[0m (795.29 KB)\n"
            ],
            "text/html": [
              "<pre style=\"white-space:pre;overflow-x:auto;line-height:normal;font-family:Menlo,'DejaVu Sans Mono',consolas,'Courier New',monospace\"><span style=\"font-weight: bold\"> Total params: </span><span style=\"color: #00af00; text-decoration-color: #00af00\">203,594</span> (795.29 KB)\n",
              "</pre>\n"
            ]
          },
          "metadata": {}
        },
        {
          "output_type": "display_data",
          "data": {
            "text/plain": [
              "\u001b[1m Trainable params: \u001b[0m\u001b[38;5;34m203,594\u001b[0m (795.29 KB)\n"
            ],
            "text/html": [
              "<pre style=\"white-space:pre;overflow-x:auto;line-height:normal;font-family:Menlo,'DejaVu Sans Mono',consolas,'Courier New',monospace\"><span style=\"font-weight: bold\"> Trainable params: </span><span style=\"color: #00af00; text-decoration-color: #00af00\">203,594</span> (795.29 KB)\n",
              "</pre>\n"
            ]
          },
          "metadata": {}
        },
        {
          "output_type": "display_data",
          "data": {
            "text/plain": [
              "\u001b[1m Non-trainable params: \u001b[0m\u001b[38;5;34m0\u001b[0m (0.00 B)\n"
            ],
            "text/html": [
              "<pre style=\"white-space:pre;overflow-x:auto;line-height:normal;font-family:Menlo,'DejaVu Sans Mono',consolas,'Courier New',monospace\"><span style=\"font-weight: bold\"> Non-trainable params: </span><span style=\"color: #00af00; text-decoration-color: #00af00\">0</span> (0.00 B)\n",
              "</pre>\n"
            ]
          },
          "metadata": {}
        },
        {
          "output_type": "stream",
          "name": "stdout",
          "text": [
            "Epoch 1/5\n",
            "563/563 - 21s - 37ms/step - accuracy: 0.5776 - loss: 1.2149 - val_accuracy: 0.8224 - val_loss: 0.5707\n",
            "Epoch 2/5\n",
            "563/563 - 22s - 39ms/step - accuracy: 0.6741 - loss: 0.9382 - val_accuracy: 0.8555 - val_loss: 0.4873\n",
            "Epoch 3/5\n",
            "563/563 - 20s - 36ms/step - accuracy: 0.6879 - loss: 0.8955 - val_accuracy: 0.8527 - val_loss: 0.4821\n",
            "Epoch 4/5\n",
            "563/563 - 19s - 34ms/step - accuracy: 0.7041 - loss: 0.8634 - val_accuracy: 0.8570 - val_loss: 0.4685\n",
            "Epoch 5/5\n",
            "563/563 - 19s - 35ms/step - accuracy: 0.7057 - loss: 0.8397 - val_accuracy: 0.8531 - val_loss: 0.4635\n"
          ]
        },
        {
          "output_type": "display_data",
          "data": {
            "text/plain": [
              "<Figure size 640x480 with 1 Axes>"
            ],
            "image/png": "[encoded data removed]"
          },
          "metadata": {}
        },
        {
          "output_type": "display_data",
          "data": {
            "text/plain": [
              "<Figure size 640x480 with 1 Axes>"
            ],
            "image/png": "[encoded data removed]"
          },
          "metadata": {}
        }
      ]
    },
    {
      "cell_type": "markdown",
      "source": [
        "Broken CNN Model-3"
      ],
      "metadata": {
        "id": "ExAL5nllJ79H"
      }
    },
    {
      "cell_type": "code",
      "source": [
        "# Broken CNN Model-3\n",
        "\n",
        "model6 = models.Sequential([\n",
        "    layers.Conv2D(32, 3, padding='same', activation='relu', input_shape=(28, 28, 1)),\n",
        "    layers.MaxPooling2D(2),\n",
        "    layers.Conv2D(64, 3, padding='same', activation='relu'),\n",
        "    layers.MaxPooling2D(2),\n",
        "    layers.Flatten(),\n",
        "    layers.Dense(64, activation='relu'),\n",
        "    layers.Dropout(0.5),\n",
        "    layers.Dense(10, activation='softmax')\n",
        "])\n",
        "\n",
        "model6.summary()\n",
        "\n",
        "# Vey high lr rate!\n",
        "optimizer = tf.keras.optimizers.Adam(learning_rate=1.0)\n",
        "\n",
        "model6.compile(\n",
        "    optimizer=optimizer,\n",
        "    loss='sparse_categorical_crossentropy',\n",
        "    metrics=['accuracy']\n",
        ")\n",
        "\n",
        "history = model6.fit(\n",
        "    x_train, y_train,\n",
        "    batch_size=64,\n",
        "    epochs=10,\n",
        "    validation_split=0.2,\n",
        "    verbose=2\n",
        ")\n",
        "\n",
        "plt.figure()\n",
        "plt.plot(history.history['loss'], label='Train Loss')\n",
        "plt.plot(history.history['val_loss'], label='Val Loss')\n",
        "plt.xlabel('Epoch'); plt.ylabel('Loss'); plt.legend()\n",
        "plt.title('Loss vs Epoch')\n",
        "plt.show()\n",
        "\n",
        "plt.figure()\n",
        "plt.plot(history.history['accuracy'], label='Train Accuracy')\n",
        "plt.plot(history.history['val_accuracy'], label='Val Accuracy')\n",
        "plt.xlabel('Epoch'); plt.ylabel('Accuracy'); plt.legend()\n",
        "plt.title('Accuracy vs Epoch')\n",
        "plt.show()\n"
      ],
      "metadata": {
        "colab": {
          "base_uri": "https://localhost:8080/",
          "height": 1000
        },
        "id": "M_Qod7_vJ-3w",
        "outputId": "2326271e-1644-44b8-b7dc-4e8b1fc86b51"
      },
      "execution_count": null,
      "outputs": [
        {
          "output_type": "stream",
          "name": "stderr",
          "text": [
            "/usr/local/lib/python3.11/dist-packages/keras/src/layers/convolutional/base_conv.py:107: UserWarning: Do not pass an `input_shape`/`input_dim` argument to a layer. When using Sequential models, prefer using an `Input(shape)` object as the first layer in the model instead.\n",
            "  super().__init__(activity_regularizer=activity_regularizer, **kwargs)\n"
          ]
        },
        {
          "output_type": "display_data",
          "data": {
            "text/plain": [
              "\u001b[1mModel: \"sequential_9\"\u001b[0m\n"
            ],
            "text/html": [
              "<pre style=\"white-space:pre;overflow-x:auto;line-height:normal;font-family:Menlo,'DejaVu Sans Mono',consolas,'Courier New',monospace\"><span style=\"font-weight: bold\">Model: \"sequential_9\"</span>\n",
              "</pre>\n"
            ]
          },
          "metadata": {}
        },
        {
          "output_type": "display_data",
          "data": {
            "text/plain": [
              "┏━━━━━━━━━━━━━━━━━━━━━━━━━━━━━━━━━┳━━━━━━━━━━━━━━━━━━━━━━━━┳━━━━━━━━━━━━━━━┓\n",
              "┃\u001b[1m \u001b[0m\u001b[1mLayer (type)                   \u001b[0m\u001b[1m \u001b[0m┃\u001b[1m \u001b[0m\u001b[1mOutput Shape          \u001b[0m\u001b[1m \u001b[0m┃\u001b[1m \u001b[0m\u001b[1m      Param #\u001b[0m\u001b[1m \u001b[0m┃\n",
              "┡━━━━━━━━━━━━━━━━━━━━━━━━━━━━━━━━━╇━━━━━━━━━━━━━━━━━━━━━━━━╇━━━━━━━━━━━━━━━┩\n",
              "│ conv2d_14 (\u001b[38;5;33mConv2D\u001b[0m)              │ (\u001b[38;5;45mNone\u001b[0m, \u001b[38;5;34m28\u001b[0m, \u001b[38;5;34m28\u001b[0m, \u001b[38;5;34m32\u001b[0m)     │           \u001b[38;5;34m320\u001b[0m │\n",
              "├─────────────────────────────────┼────────────────────────┼───────────────┤\n",
              "│ max_pooling2d_14 (\u001b[38;5;33mMaxPooling2D\u001b[0m) │ (\u001b[38;5;45mNone\u001b[0m, \u001b[38;5;34m14\u001b[0m, \u001b[38;5;34m14\u001b[0m, \u001b[38;5;34m32\u001b[0m)     │             \u001b[38;5;34m0\u001b[0m │\n",
              "├─────────────────────────────────┼────────────────────────┼───────────────┤\n",
              "│ conv2d_15 (\u001b[38;5;33mConv2D\u001b[0m)              │ (\u001b[38;5;45mNone\u001b[0m, \u001b[38;5;34m14\u001b[0m, \u001b[38;5;34m14\u001b[0m, \u001b[38;5;34m64\u001b[0m)     │        \u001b[38;5;34m18,496\u001b[0m │\n",
              "├─────────────────────────────────┼────────────────────────┼───────────────┤\n",
              "│ max_pooling2d_15 (\u001b[38;5;33mMaxPooling2D\u001b[0m) │ (\u001b[38;5;45mNone\u001b[0m, \u001b[38;5;34m7\u001b[0m, \u001b[38;5;34m7\u001b[0m, \u001b[38;5;34m64\u001b[0m)       │             \u001b[38;5;34m0\u001b[0m │\n",
              "├─────────────────────────────────┼────────────────────────┼───────────────┤\n",
              "│ flatten_9 (\u001b[38;5;33mFlatten\u001b[0m)             │ (\u001b[38;5;45mNone\u001b[0m, \u001b[38;5;34m3136\u001b[0m)           │             \u001b[38;5;34m0\u001b[0m │\n",
              "├─────────────────────────────────┼────────────────────────┼───────────────┤\n",
              "│ dense_18 (\u001b[38;5;33mDense\u001b[0m)                │ (\u001b[38;5;45mNone\u001b[0m, \u001b[38;5;34m64\u001b[0m)             │       \u001b[38;5;34m200,768\u001b[0m │\n",
              "├─────────────────────────────────┼────────────────────────┼───────────────┤\n",
              "│ dropout_9 (\u001b[38;5;33mDropout\u001b[0m)             │ (\u001b[38;5;45mNone\u001b[0m, \u001b[38;5;34m64\u001b[0m)             │             \u001b[38;5;34m0\u001b[0m │\n",
              "├─────────────────────────────────┼────────────────────────┼───────────────┤\n",
              "│ dense_19 (\u001b[38;5;33mDense\u001b[0m)                │ (\u001b[38;5;45mNone\u001b[0m, \u001b[38;5;34m10\u001b[0m)             │           \u001b[38;5;34m650\u001b[0m │\n",
              "└─────────────────────────────────┴────────────────────────┴───────────────┘\n"
            ],
            "text/html": [
              "<pre style=\"white-space:pre;overflow-x:auto;line-height:normal;font-family:Menlo,'DejaVu Sans Mono',consolas,'Courier New',monospace\">┏━━━━━━━━━━━━━━━━━━━━━━━━━━━━━━━━━┳━━━━━━━━━━━━━━━━━━━━━━━━┳━━━━━━━━━━━━━━━┓\n",
              "┃<span style=\"font-weight: bold\"> Layer (type)                    </span>┃<span style=\"font-weight: bold\"> Output Shape           </span>┃<span style=\"font-weight: bold\">       Param # </span>┃\n",
              "┡━━━━━━━━━━━━━━━━━━━━━━━━━━━━━━━━━╇━━━━━━━━━━━━━━━━━━━━━━━━╇━━━━━━━━━━━━━━━┩\n",
              "│ conv2d_14 (<span style=\"color: #0087ff; text-decoration-color: #0087ff\">Conv2D</span>)              │ (<span style=\"color: #00d7ff; text-decoration-color: #00d7ff\">None</span>, <span style=\"color: #00af00; text-decoration-color: #00af00\">28</span>, <span style=\"color: #00af00; text-decoration-color: #00af00\">28</span>, <span style=\"color: #00af00; text-decoration-color: #00af00\">32</span>)     │           <span style=\"color: #00af00; text-decoration-color: #00af00\">320</span> │\n",
              "├─────────────────────────────────┼────────────────────────┼───────────────┤\n",
              "│ max_pooling2d_14 (<span style=\"color: #0087ff; text-decoration-color: #0087ff\">MaxPooling2D</span>) │ (<span style=\"color: #00d7ff; text-decoration-color: #00d7ff\">None</span>, <span style=\"color: #00af00; text-decoration-color: #00af00\">14</span>, <span style=\"color: #00af00; text-decoration-color: #00af00\">14</span>, <span style=\"color: #00af00; text-decoration-color: #00af00\">32</span>)     │             <span style=\"color: #00af00; text-decoration-color: #00af00\">0</span> │\n",
              "├─────────────────────────────────┼────────────────────────┼───────────────┤\n",
              "│ conv2d_15 (<span style=\"color: #0087ff; text-decoration-color: #0087ff\">Conv2D</span>)              │ (<span style=\"color: #00d7ff; text-decoration-color: #00d7ff\">None</span>, <span style=\"color: #00af00; text-decoration-color: #00af00\">14</span>, <span style=\"color: #00af00; text-decoration-color: #00af00\">14</span>, <span style=\"color: #00af00; text-decoration-color: #00af00\">64</span>)     │        <span style=\"color: #00af00; text-decoration-color: #00af00\">18,496</span> │\n",
              "├─────────────────────────────────┼────────────────────────┼───────────────┤\n",
              "│ max_pooling2d_15 (<span style=\"color: #0087ff; text-decoration-color: #0087ff\">MaxPooling2D</span>) │ (<span style=\"color: #00d7ff; text-decoration-color: #00d7ff\">None</span>, <span style=\"color: #00af00; text-decoration-color: #00af00\">7</span>, <span style=\"color: #00af00; text-decoration-color: #00af00\">7</span>, <span style=\"color: #00af00; text-decoration-color: #00af00\">64</span>)       │             <span style=\"color: #00af00; text-decoration-color: #00af00\">0</span> │\n",
              "├─────────────────────────────────┼────────────────────────┼───────────────┤\n",
              "│ flatten_9 (<span style=\"color: #0087ff; text-decoration-color: #0087ff\">Flatten</span>)             │ (<span style=\"color: #00d7ff; text-decoration-color: #00d7ff\">None</span>, <span style=\"color: #00af00; text-decoration-color: #00af00\">3136</span>)           │             <span style=\"color: #00af00; text-decoration-color: #00af00\">0</span> │\n",
              "├─────────────────────────────────┼────────────────────────┼───────────────┤\n",
              "│ dense_18 (<span style=\"color: #0087ff; text-decoration-color: #0087ff\">Dense</span>)                │ (<span style=\"color: #00d7ff; text-decoration-color: #00d7ff\">None</span>, <span style=\"color: #00af00; text-decoration-color: #00af00\">64</span>)             │       <span style=\"color: #00af00; text-decoration-color: #00af00\">200,768</span> │\n",
              "├─────────────────────────────────┼────────────────────────┼───────────────┤\n",
              "│ dropout_9 (<span style=\"color: #0087ff; text-decoration-color: #0087ff\">Dropout</span>)             │ (<span style=\"color: #00d7ff; text-decoration-color: #00d7ff\">None</span>, <span style=\"color: #00af00; text-decoration-color: #00af00\">64</span>)             │             <span style=\"color: #00af00; text-decoration-color: #00af00\">0</span> │\n",
              "├─────────────────────────────────┼────────────────────────┼───────────────┤\n",
              "│ dense_19 (<span style=\"color: #0087ff; text-decoration-color: #0087ff\">Dense</span>)                │ (<span style=\"color: #00d7ff; text-decoration-color: #00d7ff\">None</span>, <span style=\"color: #00af00; text-decoration-color: #00af00\">10</span>)             │           <span style=\"color: #00af00; text-decoration-color: #00af00\">650</span> │\n",
              "└─────────────────────────────────┴────────────────────────┴───────────────┘\n",
              "</pre>\n"
            ]
          },
          "metadata": {}
        },
        {
          "output_type": "display_data",
          "data": {
            "text/plain": [
              "\u001b[1m Total params: \u001b[0m\u001b[38;5;34m220,234\u001b[0m (860.29 KB)\n"
            ],
            "text/html": [
              "<pre style=\"white-space:pre;overflow-x:auto;line-height:normal;font-family:Menlo,'DejaVu Sans Mono',consolas,'Courier New',monospace\"><span style=\"font-weight: bold\"> Total params: </span><span style=\"color: #00af00; text-decoration-color: #00af00\">220,234</span> (860.29 KB)\n",
              "</pre>\n"
            ]
          },
          "metadata": {}
        },
        {
          "output_type": "display_data",
          "data": {
            "text/plain": [
              "\u001b[1m Trainable params: \u001b[0m\u001b[38;5;34m220,234\u001b[0m (860.29 KB)\n"
            ],
            "text/html": [
              "<pre style=\"white-space:pre;overflow-x:auto;line-height:normal;font-family:Menlo,'DejaVu Sans Mono',consolas,'Courier New',monospace\"><span style=\"font-weight: bold\"> Trainable params: </span><span style=\"color: #00af00; text-decoration-color: #00af00\">220,234</span> (860.29 KB)\n",
              "</pre>\n"
            ]
          },
          "metadata": {}
        },
        {
          "output_type": "display_data",
          "data": {
            "text/plain": [
              "\u001b[1m Non-trainable params: \u001b[0m\u001b[38;5;34m0\u001b[0m (0.00 B)\n"
            ],
            "text/html": [
              "<pre style=\"white-space:pre;overflow-x:auto;line-height:normal;font-family:Menlo,'DejaVu Sans Mono',consolas,'Courier New',monospace\"><span style=\"font-weight: bold\"> Non-trainable params: </span><span style=\"color: #00af00; text-decoration-color: #00af00\">0</span> (0.00 B)\n",
              "</pre>\n"
            ]
          },
          "metadata": {}
        },
        {
          "output_type": "stream",
          "name": "stdout",
          "text": [
            "Epoch 1/10\n",
            "750/750 - 62s - 83ms/step - accuracy: 0.0999 - loss: 3162.9604 - val_accuracy: 0.0956 - val_loss: 2.3825\n",
            "Epoch 2/10\n",
            "750/750 - 73s - 97ms/step - accuracy: 0.1000 - loss: 2.3705 - val_accuracy: 0.1060 - val_loss: 2.3707\n",
            "Epoch 3/10\n",
            "750/750 - 81s - 108ms/step - accuracy: 0.0988 - loss: 2.3747 - val_accuracy: 0.0995 - val_loss: 2.3346\n",
            "Epoch 4/10\n",
            "750/750 - 80s - 107ms/step - accuracy: 0.1031 - loss: 2.3768 - val_accuracy: 0.1060 - val_loss: 2.3554\n",
            "Epoch 5/10\n",
            "750/750 - 49s - 66ms/step - accuracy: 0.1024 - loss: 2.3697 - val_accuracy: 0.1035 - val_loss: 2.3379\n",
            "Epoch 6/10\n",
            "750/750 - 80s - 107ms/step - accuracy: 0.1004 - loss: 2.3753 - val_accuracy: 0.0989 - val_loss: 2.3514\n",
            "Epoch 7/10\n",
            "750/750 - 82s - 109ms/step - accuracy: 0.1011 - loss: 2.3724 - val_accuracy: 0.0956 - val_loss: 2.3814\n",
            "Epoch 8/10\n",
            "750/750 - 81s - 108ms/step - accuracy: 0.0988 - loss: 2.3737 - val_accuracy: 0.1081 - val_loss: 2.3691\n",
            "Epoch 9/10\n",
            "750/750 - 52s - 70ms/step - accuracy: 0.1005 - loss: 2.3743 - val_accuracy: 0.0989 - val_loss: 2.4158\n",
            "Epoch 10/10\n",
            "750/750 - 75s - 100ms/step - accuracy: 0.1008 - loss: 2.3741 - val_accuracy: 0.0989 - val_loss: 2.4065\n"
          ]
        },
        {
          "output_type": "display_data",
          "data": {
            "text/plain": [
              "<Figure size 640x480 with 1 Axes>"
            ],
            "image/png": "[encoded data removed]"
          },
          "metadata": {}
        },
        {
          "output_type": "display_data",
          "data": {
            "text/plain": [
              "<Figure size 640x480 with 1 Axes>"
            ],
            "image/png": "[encoded data removed]"
          },
          "metadata": {}
        }
      ]
    }
  ]
}